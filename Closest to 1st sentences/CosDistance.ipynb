{
 "cells": [
  {
   "cell_type": "code",
   "execution_count": 119,
   "metadata": {},
   "outputs": [
    {
     "name": "stdout",
     "output_type": "stream",
     "text": [
      "6\n",
      "6\n",
      "0.7327387580875756\n",
      "4\n",
      "0.7770887149698589\n"
     ]
    }
   ],
   "source": [
    "file_obj = open('sentences.txt')\n",
    "n = sum(1 for _ in file_obj)#number of lines\n",
    "file_obj.seek(0)\n",
    "lines=file_obj.xreadlines()\n",
    "a=(lines.read().lower())\n",
    "import re\n",
    "b = re.split('[^a-z]', a)\n",
    "str_list = filter(None, b)\n",
    "words = {}\n",
    "num = 0\n",
    "for w in str_list:\n",
    "    if w not in words:\n",
    "        words[w]=num\n",
    "        num+=1\n",
    "from numpy import zeros\n",
    "from numpy.linalg import norm\n",
    "arr = zeros((n, num))\n",
    "file_obj.seek(0)\n",
    "a=list(file_obj)\n",
    "i=0\n",
    "for line in a:\n",
    "    j=0\n",
    "    c=re.split('[^a-z]', line.lower())\n",
    "    c=filter(None, c)\n",
    "    for word in c:\n",
    "        arr[i][words[word]]+=1\n",
    "        j+=1\n",
    "    i+=1\n",
    "from scipy.spatial import distance\n",
    "dist=[]\n",
    "u=arr[0,]\n",
    "for i in range(1, n):\n",
    "    dist.append({\"index\": i, \"distance\": distance.cosine(u, arr[i,])})\n",
    "dist.sort(key=lambda x: x[\"distance\"])\n",
    "sub = open('submission-1.txt', 'w')\n",
    "sub.write(dist[0][\"index\"].__str__() + '\\t' + dist[0][\"distance\"].__str__() + '\\n')\n",
    "sub.write(dist[1][\"index\"].__str__() + '\\t' + dist[1][\"distance\"].__str__() + '\\n')\n",
    "print dist[0][\"index\"].__str__()\n",
    "#sub.write(dist[1][\"index\"])\n",
    "print dist[0][\"index\"]\n",
    "print dist[0][\"distance\"]\n",
    "print dist[1][\"index\"]\n",
    "print dist[1][\"distance\"]"
   ]
  },
  {
   "cell_type": "code",
   "execution_count": 92,
   "metadata": {},
   "outputs": [
    {
     "name": "stdout",
     "output_type": "stream",
     "text": [
      "[0.7327387580875756, 0.7770887149698589, 0.8250364469440588, 0.8328165362273942, 0.8396432548525454, 0.8406361854220809, 0.8427572744917122, 0.8644738145642124, 0.8703592552895671, 0.8740118423302576, 0.8804771390665607, 0.8842724875284311, 0.8885443574849294, 0.8951715163278082, 0.9055088817476932, 0.9258750683338899, 0.9402385695332803, 0.9442721787424647, 0.9442721787424647, 0.9527544408738466, 0.956644501523794]\n"
     ]
    }
   ],
   "source": [
    "print dist"
   ]
  },
  {
   "cell_type": "code",
   "execution_count": null,
   "metadata": {},
   "outputs": [],
   "source": []
  }
 ],
 "metadata": {
  "kernelspec": {
   "display_name": "Python 2",
   "language": "python",
   "name": "python2"
  },
  "language_info": {
   "codemirror_mode": {
    "name": "ipython",
    "version": 2
   },
   "file_extension": ".py",
   "mimetype": "text/x-python",
   "name": "python",
   "nbconvert_exporter": "python",
   "pygments_lexer": "ipython2",
   "version": "2.7.16"
  }
 },
 "nbformat": 4,
 "nbformat_minor": 2
}
