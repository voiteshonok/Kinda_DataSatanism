{
 "cells": [
  {
   "cell_type": "code",
   "execution_count": 1,
   "id": "universal-potato",
   "metadata": {},
   "outputs": [],
   "source": [
    "import random\n",
    "import matplotlib.pyplot as plt"
   ]
  },
  {
   "cell_type": "code",
   "execution_count": 2,
   "id": "silent-bahamas",
   "metadata": {},
   "outputs": [],
   "source": [
    "ONE_MAX_LENGHT = 100 # длина строки"
   ]
  },
  {
   "cell_type": "code",
   "execution_count": 3,
   "id": "cleared-triangle",
   "metadata": {},
   "outputs": [],
   "source": [
    "POPULATION_SIZE = 200 # размер популяции\n",
    "P_CROSSOVER = 0.9 # вер-ть кроссинговера\n",
    "P_MUTATION = 0.1 # вер-ть мутации отдельной особи\n",
    "MAX_GENERATION = 50 # кол-во поколений"
   ]
  },
  {
   "cell_type": "code",
   "execution_count": 4,
   "id": "gorgeous-junior",
   "metadata": {},
   "outputs": [],
   "source": [
    "RANDOM_SEED = 42\n",
    "random.seed(RANDOM_SEED)"
   ]
  },
  {
   "cell_type": "code",
   "execution_count": 5,
   "id": "appointed-overview",
   "metadata": {},
   "outputs": [],
   "source": [
    "class FitnessMax:\n",
    "    def __init__(self):\n",
    "        self.values = [0]\n",
    "\n",
    "class Individual(list):\n",
    "    def __init__(self, *args):\n",
    "        super().__init__(*args)\n",
    "        self.fitness = FitnessMax()"
   ]
  },
  {
   "cell_type": "code",
   "execution_count": 6,
   "id": "centered-vintage",
   "metadata": {},
   "outputs": [],
   "source": [
    "def one_max_fitness(ind):\n",
    "    return sum(ind),\n",
    "\n",
    "def individual_creater():\n",
    "    return Individual([random.randint(0, 1) for _ in range(ONE_MAX_LENGHT)])\n",
    "\n",
    "def population_creater(n=0):\n",
    "    return list([individual_creater() for _ in range(n)])"
   ]
  },
  {
   "cell_type": "code",
   "execution_count": 7,
   "id": "drawn-british",
   "metadata": {},
   "outputs": [],
   "source": [
    "population = population_creater(POPULATION_SIZE)\n",
    "generation_counter = 0"
   ]
  },
  {
   "cell_type": "code",
   "execution_count": 10,
   "id": "missing-india",
   "metadata": {},
   "outputs": [],
   "source": [
    "for ind in population:\n",
    "    ind.fitness.values = one_max_fitness(ind)"
   ]
  },
  {
   "cell_type": "code",
   "execution_count": 11,
   "id": "pressed-worcester",
   "metadata": {},
   "outputs": [],
   "source": [
    "max_fitness_values = []\n",
    "mean_fitness_values = []"
   ]
  },
  {
   "cell_type": "code",
   "execution_count": 12,
   "id": "invisible-inspector",
   "metadata": {},
   "outputs": [],
   "source": [
    "def clone(values):\n",
    "    ind = Individual(values[:])\n",
    "    ind.fitness.values = values.fitness.values[:]\n",
    "    return ind"
   ]
  },
  {
   "cell_type": "code",
   "execution_count": 13,
   "id": "deluxe-haiti",
   "metadata": {},
   "outputs": [],
   "source": [
    "def sel_tournament(population):\n",
    "    p_len = len(population)\n",
    "    offsprings = []\n",
    "    for i in range(p_len):\n",
    "        i1 = i2 = i3 = 0\n",
    "        \n",
    "        while i1 == i2 or i2 == i3 or i3 == i1:\n",
    "            i1, i2, i3 = random.randint(0, p_len-1), random.randint(0, p_len-1), random.randint(0, p_len-1)\n",
    "            \n",
    "        offsprings.append(max([population[i1], population[i2], population[i3]], key=lambda ind: ind.fitness.values[0]))\n",
    "    return offsprings"
   ]
  },
  {
   "cell_type": "code",
   "execution_count": 14,
   "id": "sharp-driving",
   "metadata": {},
   "outputs": [],
   "source": [
    "def cx_one_point(parent1, parent2):\n",
    "    s = random.randint(2, len(parent1)-3)\n",
    "    parent1[s:], parent2[:s] = parent2[s:], parent1[:s]"
   ]
  },
  {
   "cell_type": "code",
   "execution_count": 15,
   "id": "plastic-publisher",
   "metadata": {},
   "outputs": [],
   "source": [
    "def mutation(ind, p=0.01):\n",
    "    for i in range(len(ind)):\n",
    "        if random.random() < p:\n",
    "            ind[i] ^= 1 "
   ]
  },
  {
   "cell_type": "code",
   "execution_count": 16,
   "id": "bearing-stretch",
   "metadata": {},
   "outputs": [],
   "source": [
    "fitness_values = [ind.fitness.values[0] for ind in population]"
   ]
  },
  {
   "cell_type": "code",
   "execution_count": 17,
   "id": "incorporated-asian",
   "metadata": {},
   "outputs": [
    {
     "name": "stdout",
     "output_type": "stream",
     "text": [
      "Поколение 1: Макс приспособ. = 62, Средняя приспособ.= 53.43\n",
      "Поколение 2: Макс приспособ. = 63, Средняя приспособ.= 56.52\n",
      "Поколение 3: Макс приспособ. = 66, Средняя приспособ.= 58.515\n",
      "Поколение 4: Макс приспособ. = 67, Средняя приспособ.= 61.255\n",
      "Поколение 5: Макс приспособ. = 71, Средняя приспособ.= 62.54\n",
      "Поколение 6: Макс приспособ. = 74, Средняя приспособ.= 64.7\n",
      "Поколение 7: Макс приспособ. = 73, Средняя приспособ.= 67.025\n",
      "Поколение 8: Макс приспособ. = 75, Средняя приспособ.= 69.205\n",
      "Поколение 9: Макс приспособ. = 77, Средняя приспособ.= 70.555\n",
      "Поколение 10: Макс приспособ. = 77, Средняя приспособ.= 71.71\n",
      "Поколение 11: Макс приспособ. = 78, Средняя приспособ.= 72.96\n",
      "Поколение 12: Макс приспособ. = 79, Средняя приспособ.= 74.025\n",
      "Поколение 13: Макс приспособ. = 82, Средняя приспособ.= 75.65\n",
      "Поколение 14: Макс приспособ. = 82, Средняя приспособ.= 77.045\n",
      "Поколение 15: Макс приспособ. = 83, Средняя приспособ.= 78.455\n",
      "Поколение 16: Макс приспособ. = 85, Средняя приспособ.= 79.615\n",
      "Поколение 17: Макс приспособ. = 86, Средняя приспособ.= 80.64\n",
      "Поколение 18: Макс приспособ. = 86, Средняя приспособ.= 81.665\n",
      "Поколение 19: Макс приспособ. = 87, Средняя приспособ.= 82.78\n",
      "Поколение 20: Макс приспособ. = 88, Средняя приспособ.= 83.47\n",
      "Поколение 21: Макс приспособ. = 89, Средняя приспособ.= 84.37\n",
      "Поколение 22: Макс приспособ. = 89, Средняя приспособ.= 85.015\n",
      "Поколение 23: Макс приспособ. = 90, Средняя приспособ.= 85.9\n",
      "Поколение 24: Макс приспособ. = 93, Средняя приспособ.= 86.84\n",
      "Поколение 25: Макс приспособ. = 92, Средняя приспособ.= 87.89\n",
      "Поколение 26: Макс приспособ. = 94, Средняя приспособ.= 88.655\n",
      "Поколение 27: Макс приспособ. = 95, Средняя приспособ.= 89.7\n",
      "Поколение 28: Макс приспособ. = 94, Средняя приспособ.= 90.525\n",
      "Поколение 29: Макс приспособ. = 94, Средняя приспособ.= 90.94\n",
      "Поколение 30: Макс приспособ. = 95, Средняя приспособ.= 91.435\n",
      "Поколение 31: Макс приспособ. = 95, Средняя приспособ.= 91.945\n",
      "Поколение 32: Макс приспособ. = 96, Средняя приспособ.= 92.675\n",
      "Поколение 33: Макс приспособ. = 97, Средняя приспособ.= 93.135\n",
      "Поколение 34: Макс приспособ. = 98, Средняя приспособ.= 93.53\n",
      "Поколение 35: Макс приспособ. = 98, Средняя приспособ.= 94.07\n",
      "Поколение 36: Макс приспособ. = 99, Средняя приспособ.= 94.67\n",
      "Поколение 37: Макс приспособ. = 99, Средняя приспособ.= 95.235\n",
      "Поколение 38: Макс приспособ. = 99, Средняя приспособ.= 95.775\n",
      "Поколение 39: Макс приспособ. = 99, Средняя приспособ.= 96.215\n",
      "Поколение 40: Макс приспособ. = 99, Средняя приспособ.= 96.34\n",
      "Поколение 41: Макс приспособ. = 99, Средняя приспособ.= 96.775\n",
      "Поколение 42: Макс приспособ. = 99, Средняя приспособ.= 96.855\n",
      "Поколение 43: Макс приспособ. = 100, Средняя приспособ.= 97.01\n"
     ]
    }
   ],
   "source": [
    "while max(fitness_values) < ONE_MAX_LENGHT and generation_counter < MAX_GENERATION:\n",
    "    generation_counter += 1\n",
    "    \n",
    "    offsptings = sel_tournament(population)\n",
    "    offsptings = list(map(clone, offsptings))\n",
    "    \n",
    "    for parent1, parent2 in zip(offsptings[::2], offsptings[1::2]):\n",
    "        if random.random() < P_CROSSOVER:\n",
    "            cx_one_point(parent1, parent2)\n",
    "    \n",
    "    for ind in offsptings:\n",
    "        if random.random() < P_CROSSOVER:\n",
    "            mutation(ind, 1.0/ONE_MAX_LENGHT)\n",
    "            \n",
    "    for ind in offsptings:\n",
    "        ind.fitness.values = one_max_fitness(ind)\n",
    "        \n",
    "    population = offsptings[:]\n",
    "    \n",
    "    fitness_values = [ind.fitness.values[0] for ind in population]\n",
    "    \n",
    "    print(f\"Поколение {generation_counter}: Макс приспособ. = {max(fitness_values)}, Средняя приспособ.= {sum(fitness_values) / len(population)}\")\n",
    "    \n",
    "    max_fitness_values.append(max(fitness_values))\n",
    "    mean_fitness_values.append(sum(fitness_values) / len(population))"
   ]
  },
  {
   "cell_type": "code",
   "execution_count": 18,
   "id": "worldwide-weekend",
   "metadata": {},
   "outputs": [
    {
     "data": {
      "image/png": "[encoded data removed]",
      "text/plain": [
       "<Figure size 432x288 with 1 Axes>"
      ]
     },
     "metadata": {
      "needs_background": "light"
     },
     "output_type": "display_data"
    }
   ],
   "source": [
    "plt.plot(max_fitness_values, color='red')\n",
    "plt.plot(mean_fitness_values, color='green')\n",
    "plt.legend(['Макс', 'Cредняя'])\n",
    "plt.xlabel('Поколение')\n",
    "plt.ylabel('Макс/средняя приспособленность')\n",
    "plt.title('Зависимость максимальной и средней приспособленности от поколения')\n",
    "plt.show()"
   ]
  },
  {
   "cell_type": "code",
   "execution_count": null,
   "id": "individual-authorization",
   "metadata": {},
   "outputs": [],
   "source": []
  }
 ],
 "metadata": {
  "kernelspec": {
   "display_name": "Python 3",
   "language": "python",
   "name": "python3"
  },
  "language_info": {
   "codemirror_mode": {
    "name": "ipython",
    "version": 3
   },
   "file_extension": ".py",
   "mimetype": "text/x-python",
   "name": "python",
   "nbconvert_exporter": "python",
   "pygments_lexer": "ipython3",
   "version": "3.9.1"
  }
 },
 "nbformat": 4,
 "nbformat_minor": 5
}
