{
 "cells": [
  {
   "cell_type": "code",
   "execution_count": 1,
   "id": "formed-bunny",
   "metadata": {},
   "outputs": [],
   "source": [
    "import numpy as np\n",
    "import matplotlib.pyplot as plt\n",
    "import random"
   ]
  },
  {
   "cell_type": "code",
   "execution_count": 2,
   "id": "collaborative-caution",
   "metadata": {},
   "outputs": [],
   "source": [
    "BOARD_SIZE = 50 # размер доски"
   ]
  },
  {
   "cell_type": "code",
   "execution_count": 3,
   "id": "dated-bidding",
   "metadata": {},
   "outputs": [],
   "source": [
    "POPULATION_SIZE = BOARD_SIZE * 5 # размер популяции\n",
    "P_CROSSOVER = 0.9 # вер-ть кроссинговера\n",
    "P_MUTATION = 0.1 # вер-ть мутации отдельной особи\n",
    "MAX_GENERATION = 200 # кол-во поколений"
   ]
  },
  {
   "cell_type": "code",
   "execution_count": 4,
   "id": "separated-falls",
   "metadata": {},
   "outputs": [],
   "source": [
    "RANDOM_SEED = 42\n",
    "random.seed(RANDOM_SEED)"
   ]
  },
  {
   "cell_type": "code",
   "execution_count": 5,
   "id": "national-decimal",
   "metadata": {},
   "outputs": [],
   "source": [
    "class FitnessMax:\n",
    "    def __init__(self):\n",
    "        self.values = [-BOARD_SIZE*BOARD_SIZE]\n",
    "\n",
    "class Individual(list):\n",
    "    def __init__(self, *args):\n",
    "        super().__init__(*args)\n",
    "        self.fitness = FitnessMax()"
   ]
  },
  {
   "cell_type": "code",
   "execution_count": 6,
   "id": "operating-grave",
   "metadata": {},
   "outputs": [],
   "source": [
    "def shuffle(ind):\n",
    "    random.shuffle(ind)\n",
    "    return ind[:]\n",
    "\n",
    "def fitness(ind):\n",
    "    value = 0\n",
    "    for i in range(len(ind)):\n",
    "        for j in range(i+1, len(ind)):\n",
    "            if j - i == abs(ind[i] - ind[j]):\n",
    "                value += 1 \n",
    "    return -value, \n",
    " \n",
    "def individual_creater():\n",
    "    return Individual(shuffle(list(range(BOARD_SIZE))))\n",
    "\n",
    "def population_creater(n):\n",
    "    return list([individual_creater() for _ in range(n)])"
   ]
  },
  {
   "cell_type": "code",
   "execution_count": 7,
   "id": "danish-distinction",
   "metadata": {},
   "outputs": [],
   "source": [
    "population = population_creater(POPULATION_SIZE)\n",
    "generation_counter = 0"
   ]
  },
  {
   "cell_type": "code",
   "execution_count": 8,
   "id": "interesting-mechanism",
   "metadata": {},
   "outputs": [],
   "source": [
    "max_fitness_values = []\n",
    "mean_fitness_values = []"
   ]
  },
  {
   "cell_type": "code",
   "execution_count": 9,
   "id": "surrounded-furniture",
   "metadata": {},
   "outputs": [],
   "source": [
    "def clone(values):\n",
    "    ind = Individual(values[:])\n",
    "    ind.fitness.values = values.fitness.values[:]\n",
    "    return ind"
   ]
  },
  {
   "cell_type": "code",
   "execution_count": 10,
   "id": "alert-cleanup",
   "metadata": {},
   "outputs": [],
   "source": [
    "def sel_tournament(population):\n",
    "    p_len = len(population)\n",
    "    offsprings = []\n",
    "    for i in range(p_len):\n",
    "        i1 = i2 = i3 = 0\n",
    "        \n",
    "        while i1 == i2 or i2 == i3 or i3 == i1:\n",
    "            i1, i2, i3 = random.randint(0, p_len-1), random.randint(0, p_len-1), random.randint(0, p_len-1)\n",
    "            \n",
    "        offsprings.append(max([population[i1], population[i2], population[i3]], key=lambda ind: ind.fitness.values[0]))\n",
    "    return offsprings"
   ]
  },
  {
   "cell_type": "code",
   "execution_count": 11,
   "id": "owned-bathroom",
   "metadata": {},
   "outputs": [],
   "source": [
    "def crossover(parent1, parent2):\n",
    "    s = random.randint(2, len(parent1)-3)\n",
    "    p1, p2 = parent1[:], parent2[:]\n",
    "    parent1[s:] = p2[s:]\n",
    "    parent2[s:] = p1[s:]\n",
    "    \n",
    "    def remove_duplicates(ind, index):\n",
    "        s = set(ind[index:])\n",
    "        for i in range(index):\n",
    "            if ind[i] not in s:\n",
    "                s.add(ind[i])\n",
    "        \n",
    "        for i in range(index):\n",
    "            if ind[i] in s:\n",
    "                if len(s) == BOARD_SIZE:\n",
    "                    break\n",
    "                ind[i] = random.choice(tuple(set(range(BOARD_SIZE)) - s))\n",
    "                s.add(ind[i])\n",
    "                \n",
    "    remove_duplicates(parent1, s)\n",
    "    remove_duplicates(parent2, s)"
   ]
  },
  {
   "cell_type": "code",
   "execution_count": 12,
   "id": "excess-bunch",
   "metadata": {},
   "outputs": [],
   "source": [
    "def mutation(ind, p=0.01):\n",
    "    candidates = []\n",
    "    for i in range(len(ind)):\n",
    "        if random.random() < p:\n",
    "            candidates.append(i)\n",
    "            \n",
    "    if len(candidates) < 2:\n",
    "        return\n",
    "    \n",
    "    random.shuffle(candidates)\n",
    "    ind[candidates[0]], ind[candidates[1]] = ind[candidates[1]], ind[candidates[0]]"
   ]
  },
  {
   "cell_type": "code",
   "execution_count": 13,
   "id": "upper-lewis",
   "metadata": {},
   "outputs": [],
   "source": [
    "fitness_values = [ind.fitness.values[0] for ind in population]"
   ]
  },
  {
   "cell_type": "code",
   "execution_count": 14,
   "id": "vanilla-seeker",
   "metadata": {},
   "outputs": [
    {
     "name": "stdout",
     "output_type": "stream",
     "text": [
      "Поколение 1: Мин пересечение = -17, Средняя приспособ.= -32.588\n",
      "Поколение 2: Мин пересечение = -17, Средняя приспособ.= -29.748\n",
      "Поколение 3: Мин пересечение = -17, Средняя приспособ.= -28.204\n",
      "Поколение 4: Мин пересечение = -18, Средняя приспособ.= -27.688\n",
      "Поколение 5: Мин пересечение = -14, Средняя приспособ.= -26.492\n",
      "Поколение 6: Мин пересечение = -14, Средняя приспособ.= -25.76\n",
      "Поколение 7: Мин пересечение = -14, Средняя приспособ.= -25.32\n",
      "Поколение 8: Мин пересечение = -14, Средняя приспособ.= -25.2\n",
      "Поколение 9: Мин пересечение = -14, Средняя приспособ.= -24.824\n",
      "Поколение 10: Мин пересечение = -14, Средняя приспособ.= -23.992\n",
      "Поколение 11: Мин пересечение = -15, Средняя приспособ.= -24.112\n",
      "Поколение 12: Мин пересечение = -14, Средняя приспособ.= -22.74\n",
      "Поколение 13: Мин пересечение = -12, Средняя приспособ.= -21.684\n",
      "Поколение 14: Мин пересечение = -13, Средняя приспособ.= -20.916\n",
      "Поколение 15: Мин пересечение = -11, Средняя приспособ.= -20.348\n",
      "Поколение 16: Мин пересечение = -10, Средняя приспособ.= -19.84\n",
      "Поколение 17: Мин пересечение = -9, Средняя приспособ.= -19.408\n",
      "Поколение 18: Мин пересечение = -11, Средняя приспособ.= -18.952\n",
      "Поколение 19: Мин пересечение = -10, Средняя приспособ.= -18.564\n",
      "Поколение 20: Мин пересечение = -10, Средняя приспособ.= -17.476\n",
      "Поколение 21: Мин пересечение = -9, Средняя приспособ.= -16.936\n",
      "Поколение 22: Мин пересечение = -9, Средняя приспособ.= -16.3\n",
      "Поколение 23: Мин пересечение = -9, Средняя приспособ.= -15.724\n",
      "Поколение 24: Мин пересечение = -8, Средняя приспособ.= -15.456\n",
      "Поколение 25: Мин пересечение = -9, Средняя приспособ.= -15.168\n",
      "Поколение 26: Мин пересечение = -6, Средняя приспособ.= -14.452\n",
      "Поколение 27: Мин пересечение = -6, Средняя приспособ.= -14.184\n",
      "Поколение 28: Мин пересечение = -6, Средняя приспособ.= -14.148\n",
      "Поколение 29: Мин пересечение = -5, Средняя приспособ.= -13.892\n",
      "Поколение 30: Мин пересечение = -7, Средняя приспособ.= -13.964\n",
      "Поколение 31: Мин пересечение = -8, Средняя приспособ.= -13.424\n",
      "Поколение 32: Мин пересечение = -6, Средняя приспособ.= -13.42\n",
      "Поколение 33: Мин пересечение = -6, Средняя приспособ.= -12.976\n",
      "Поколение 34: Мин пересечение = -6, Средняя приспособ.= -12.936\n",
      "Поколение 35: Мин пересечение = -6, Средняя приспособ.= -12.948\n",
      "Поколение 36: Мин пересечение = -6, Средняя приспособ.= -12.668\n",
      "Поколение 37: Мин пересечение = -6, Средняя приспособ.= -12.52\n",
      "Поколение 38: Мин пересечение = -6, Средняя приспособ.= -12.536\n",
      "Поколение 39: Мин пересечение = -6, Средняя приспособ.= -12.516\n",
      "Поколение 40: Мин пересечение = -6, Средняя приспособ.= -12.024\n",
      "Поколение 41: Мин пересечение = -5, Средняя приспособ.= -11.996\n",
      "Поколение 42: Мин пересечение = -5, Средняя приспособ.= -11.392\n",
      "Поколение 43: Мин пересечение = -4, Средняя приспособ.= -11.196\n",
      "Поколение 44: Мин пересечение = -4, Средняя приспособ.= -11.028\n",
      "Поколение 45: Мин пересечение = -4, Средняя приспособ.= -10.732\n",
      "Поколение 46: Мин пересечение = -4, Средняя приспособ.= -10.904\n",
      "Поколение 47: Мин пересечение = -4, Средняя приспособ.= -10.412\n",
      "Поколение 48: Мин пересечение = -3, Средняя приспособ.= -10.5\n",
      "Поколение 49: Мин пересечение = -4, Средняя приспособ.= -10.272\n",
      "Поколение 50: Мин пересечение = -5, Средняя приспособ.= -10.492\n",
      "Поколение 51: Мин пересечение = -5, Средняя приспособ.= -10.356\n",
      "Поколение 52: Мин пересечение = -4, Средняя приспособ.= -9.928\n",
      "Поколение 53: Мин пересечение = -4, Средняя приспособ.= -10.172\n",
      "Поколение 54: Мин пересечение = -4, Средняя приспособ.= -9.732\n",
      "Поколение 55: Мин пересечение = -4, Средняя приспособ.= -9.16\n",
      "Поколение 56: Мин пересечение = -4, Средняя приспособ.= -9.304\n",
      "Поколение 57: Мин пересечение = -3, Средняя приспособ.= -8.912\n",
      "Поколение 58: Мин пересечение = -4, Средняя приспособ.= -8.92\n",
      "Поколение 59: Мин пересечение = -3, Средняя приспособ.= -8.76\n",
      "Поколение 60: Мин пересечение = -3, Средняя приспособ.= -8.992\n",
      "Поколение 61: Мин пересечение = -3, Средняя приспособ.= -8.636\n",
      "Поколение 62: Мин пересечение = -2, Средняя приспособ.= -8.408\n",
      "Поколение 63: Мин пересечение = -2, Средняя приспособ.= -8.16\n",
      "Поколение 64: Мин пересечение = -1, Средняя приспособ.= -8.036\n",
      "Поколение 65: Мин пересечение = -3, Средняя приспособ.= -8.016\n",
      "Поколение 66: Мин пересечение = -2, Средняя приспособ.= -7.892\n",
      "Поколение 67: Мин пересечение = -3, Средняя приспособ.= -7.888\n",
      "Поколение 68: Мин пересечение = -2, Средняя приспособ.= -7.624\n",
      "Поколение 69: Мин пересечение = -3, Средняя приспособ.= -8.084\n",
      "Поколение 70: Мин пересечение = -2, Средняя приспособ.= -7.776\n",
      "Поколение 71: Мин пересечение = -3, Средняя приспособ.= -7.56\n",
      "Поколение 72: Мин пересечение = -2, Средняя приспособ.= -7.676\n",
      "Поколение 73: Мин пересечение = -3, Средняя приспособ.= -7.528\n",
      "Поколение 74: Мин пересечение = -2, Средняя приспособ.= -7.328\n",
      "Поколение 75: Мин пересечение = -3, Средняя приспособ.= -7.424\n",
      "Поколение 76: Мин пересечение = -1, Средняя приспособ.= -6.996\n",
      "Поколение 77: Мин пересечение = -2, Средняя приспособ.= -7.236\n",
      "Поколение 78: Мин пересечение = -2, Средняя приспособ.= -7.236\n",
      "Поколение 79: Мин пересечение = -2, Средняя приспособ.= -7.096\n",
      "Поколение 80: Мин пересечение = -2, Средняя приспособ.= -7.116\n",
      "Поколение 81: Мин пересечение = -2, Средняя приспособ.= -6.744\n",
      "Поколение 82: Мин пересечение = -2, Средняя приспособ.= -6.628\n",
      "Поколение 83: Мин пересечение = -2, Средняя приспособ.= -6.736\n",
      "Поколение 84: Мин пересечение = -2, Средняя приспособ.= -6.62\n",
      "Поколение 85: Мин пересечение = -1, Средняя приспособ.= -6.7\n",
      "Поколение 86: Мин пересечение = -2, Средняя приспособ.= -6.732\n",
      "Поколение 87: Мин пересечение = -2, Средняя приспособ.= -6.528\n",
      "Поколение 88: Мин пересечение = -2, Средняя приспособ.= -6.492\n",
      "Поколение 89: Мин пересечение = -2, Средняя приспособ.= -6.396\n",
      "Поколение 90: Мин пересечение = -2, Средняя приспособ.= -6.552\n",
      "Поколение 91: Мин пересечение = -2, Средняя приспособ.= -6.296\n",
      "Поколение 92: Мин пересечение = -1, Средняя приспособ.= -6.484\n",
      "Поколение 93: Мин пересечение = -1, Средняя приспособ.= -6.256\n",
      "Поколение 94: Мин пересечение = -2, Средняя приспособ.= -6.248\n",
      "Поколение 95: Мин пересечение = -1, Средняя приспособ.= -6.188\n",
      "Поколение 96: Мин пересечение = -1, Средняя приспособ.= -6.052\n",
      "Поколение 97: Мин пересечение = -2, Средняя приспособ.= -6.192\n",
      "Поколение 98: Мин пересечение = -1, Средняя приспособ.= -5.832\n",
      "Поколение 99: Мин пересечение = -1, Средняя приспособ.= -5.92\n",
      "Поколение 100: Мин пересечение = -2, Средняя приспособ.= -6.084\n",
      "Поколение 101: Мин пересечение = 0, Средняя приспособ.= -5.816\n"
     ]
    }
   ],
   "source": [
    "while max(fitness_values) < 0 and generation_counter < MAX_GENERATION:\n",
    "    generation_counter += 1\n",
    "    \n",
    "    offsptings = sel_tournament(population)\n",
    "    offsptings = list(map(clone, offsptings))\n",
    "    \n",
    "    for parent1, parent2 in zip(offsptings[::2], offsptings[1::2]):\n",
    "        if random.random() < P_CROSSOVER:\n",
    "            crossover(parent1, parent2)\n",
    "    \n",
    "    for ind in offsptings:\n",
    "        if random.random() < P_CROSSOVER:\n",
    "            mutation(ind, 1.0/BOARD_SIZE)\n",
    "            \n",
    "    for ind in offsptings:\n",
    "        ind.fitness.values = fitness(ind)\n",
    "        \n",
    "    population = offsptings[:]\n",
    "    \n",
    "    fitness_values = [ind.fitness.values[0] for ind in population]\n",
    "    \n",
    "    print(f\"Поколение {generation_counter}: Мин пересечение = {max(fitness_values)}, Средняя приспособ.= {sum(fitness_values) / len(population)}\")\n",
    "    \n",
    "    max_fitness_values.append(max(fitness_values))\n",
    "    mean_fitness_values.append(sum(fitness_values) / len(population))"
   ]
  },
  {
   "cell_type": "code",
   "execution_count": 15,
   "id": "popular-radar",
   "metadata": {},
   "outputs": [
    {
     "data": {
      "text/plain": [
       "(0,)"
      ]
     },
     "execution_count": 15,
     "metadata": {},
     "output_type": "execute_result"
    }
   ],
   "source": [
    "fitness(sorted(population, key=lambda ind: ind.fitness.values[0])[-1])"
   ]
  },
  {
   "cell_type": "code",
   "execution_count": 16,
   "id": "solved-technical",
   "metadata": {},
   "outputs": [],
   "source": [
    "#sorted(population, key=lambda ind: ind.fitness.values[0])[-1]"
   ]
  },
  {
   "cell_type": "code",
   "execution_count": 17,
   "id": "numerical-compiler",
   "metadata": {},
   "outputs": [
    {
     "data": {
      "image/png": "[encoded data removed]",
      "text/plain": [
       "<Figure size 432x288 with 1 Axes>"
      ]
     },
     "metadata": {
      "needs_background": "light"
     },
     "output_type": "display_data"
    }
   ],
   "source": [
    "plt.plot(max_fitness_values, color='red')\n",
    "plt.plot(mean_fitness_values, color='green')\n",
    "plt.legend(['Макс', 'Cредняя'])\n",
    "plt.xlabel('Поколение')\n",
    "plt.ylabel('Макс/средняя приспособленность')\n",
    "plt.title('Зависимость максимальной и средней приспособленности от поколения')\n",
    "plt.show()"
   ]
  },
  {
   "cell_type": "code",
   "execution_count": null,
   "id": "rubber-counter",
   "metadata": {},
   "outputs": [],
   "source": []
  }
 ],
 "metadata": {
  "kernelspec": {
   "display_name": "Python 3",
   "language": "python",
   "name": "python3"
  },
  "language_info": {
   "codemirror_mode": {
    "name": "ipython",
    "version": 3
   },
   "file_extension": ".py",
   "mimetype": "text/x-python",
   "name": "python",
   "nbconvert_exporter": "python",
   "pygments_lexer": "ipython3",
   "version": "3.9.1"
  }
 },
 "nbformat": 4,
 "nbformat_minor": 5
}
