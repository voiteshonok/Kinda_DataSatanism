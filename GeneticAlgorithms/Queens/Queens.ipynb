{
 "cells": [
  {
   "cell_type": "code",
   "execution_count": 1,
   "id": "sublime-springer",
   "metadata": {},
   "outputs": [],
   "source": [
    "import numpy as np\n",
    "import matplotlib.pyplot as plt\n",
    "import random"
   ]
  },
  {
   "cell_type": "code",
   "execution_count": 2,
   "id": "sixth-polls",
   "metadata": {},
   "outputs": [],
   "source": [
    "BOARD_SIZE = 8 # размер доски"
   ]
  },
  {
   "cell_type": "code",
   "execution_count": 3,
   "id": "champion-deficit",
   "metadata": {},
   "outputs": [],
   "source": [
    "POPULATION_SIZE = BOARD_SIZE * 5 # размер популяции\n",
    "P_CROSSOVER = 0.9 # вер-ть кроссинговера\n",
    "P_MUTATION = 0.1 # вер-ть мутации отдельной особи\n",
    "MAX_GENERATION = 50 # кол-во поколений"
   ]
  },
  {
   "cell_type": "code",
   "execution_count": 4,
   "id": "moral-lounge",
   "metadata": {},
   "outputs": [],
   "source": [
    "RANDOM_SEED = 42\n",
    "random.seed(RANDOM_SEED)"
   ]
  },
  {
   "cell_type": "code",
   "execution_count": 5,
   "id": "sorted-apple",
   "metadata": {},
   "outputs": [],
   "source": [
    "class FitnessMax:\n",
    "    def __init__(self):\n",
    "        self.values = [-BOARD_SIZE*BOARD_SIZE]\n",
    "\n",
    "class Individual(list):\n",
    "    def __init__(self, *args):\n",
    "        super().__init__(*args)\n",
    "        self.fitness = FitnessMax()"
   ]
  },
  {
   "cell_type": "code",
   "execution_count": 8,
   "id": "aggressive-payday",
   "metadata": {},
   "outputs": [],
   "source": [
    "def shuffle(ind):\n",
    "    random.shuffle(ind)\n",
    "    return ind[:]\n",
    "\n",
    "def fitness(ind):\n",
    "    value = 0\n",
    "    for i in range(len(ind)):\n",
    "        for j in range(i+1, len(ind)):\n",
    "            if j - i == abs(ind[i] - ind[j]):\n",
    "                value += 1 \n",
    "    return -value, \n",
    " \n",
    "def individual_creater():\n",
    "    return Individual(shuffle(list(range(BOARD_SIZE))))\n",
    "\n",
    "def population_creater(n):\n",
    "    return list([individual_creater() for _ in range(n)])"
   ]
  },
  {
   "cell_type": "code",
   "execution_count": 9,
   "id": "behavioral-harrison",
   "metadata": {},
   "outputs": [],
   "source": [
    "population = population_creater(POPULATION_SIZE)\n",
    "generation_counter = 0"
   ]
  },
  {
   "cell_type": "code",
   "execution_count": 10,
   "id": "sophisticated-cowboy",
   "metadata": {},
   "outputs": [],
   "source": [
    "max_fitness_values = []\n",
    "mean_fitness_values = []"
   ]
  },
  {
   "cell_type": "code",
   "execution_count": 11,
   "id": "everyday-cement",
   "metadata": {},
   "outputs": [],
   "source": [
    "def clone(values):\n",
    "    ind = Individual(values[:])\n",
    "    ind.fitness.values = values.fitness.values[:]\n",
    "    return ind"
   ]
  },
  {
   "cell_type": "code",
   "execution_count": 12,
   "id": "thermal-tuner",
   "metadata": {},
   "outputs": [],
   "source": [
    "def sel_tournament(population):\n",
    "    p_len = len(population)\n",
    "    offsprings = []\n",
    "    for i in range(p_len):\n",
    "        i1 = i2 = i3 = 0\n",
    "        \n",
    "        while i1 == i2 or i2 == i3 or i3 == i1:\n",
    "            i1, i2, i3 = random.randint(0, p_len-1), random.randint(0, p_len-1), random.randint(0, p_len-1)\n",
    "            \n",
    "        offsprings.append(max([population[i1], population[i2], population[i3]], key=lambda ind: ind.fitness.values[0]))\n",
    "    return offsprings"
   ]
  },
  {
   "cell_type": "code",
   "execution_count": 13,
   "id": "assured-therapy",
   "metadata": {},
   "outputs": [],
   "source": [
    "def crossover(parent1, parent2):\n",
    "    s = random.randint(2, len(parent1)-3)\n",
    "    p1, p2 = parent1[:], parent2[:]\n",
    "    parent1[s:] = p2[s:]\n",
    "    parent2[s:] = p1[s:]\n",
    "    \n",
    "    def remove_duplicates(ind, index):\n",
    "        s = set(ind[index:])\n",
    "        for i in range(index):\n",
    "            if ind[i] not in s:\n",
    "                s.add(ind[i])\n",
    "        \n",
    "        for i in range(index):\n",
    "            if ind[i] in s:\n",
    "                if len(s) == BOARD_SIZE:\n",
    "                    break\n",
    "                ind[i] = random.choice(tuple(set(range(BOARD_SIZE)) - s))\n",
    "                s.add(ind[i])\n",
    "                \n",
    "    remove_duplicates(parent1, s)\n",
    "    remove_duplicates(parent2, s)"
   ]
  },
  {
   "cell_type": "code",
   "execution_count": 14,
   "id": "conventional-stephen",
   "metadata": {},
   "outputs": [],
   "source": [
    "def mutation(ind, p=0.01):\n",
    "    candidates = []\n",
    "    for i in range(len(ind)):\n",
    "        if random.random() < p:\n",
    "            candidates.append(i)\n",
    "            \n",
    "    if len(candidates) < 2:\n",
    "        return\n",
    "    \n",
    "    random.shuffle(candidates)\n",
    "    ind[candidates[0]], ind[candidates[1]] = ind[candidates[1]], ind[candidates[0]]"
   ]
  },
  {
   "cell_type": "code",
   "execution_count": 15,
   "id": "approved-anchor",
   "metadata": {},
   "outputs": [],
   "source": [
    "fitness_values = [ind.fitness.values[0] for ind in population]"
   ]
  },
  {
   "cell_type": "code",
   "execution_count": 16,
   "id": "corporate-sight",
   "metadata": {},
   "outputs": [
    {
     "name": "stdout",
     "output_type": "stream",
     "text": [
      "Поколение 1: Мин пересечение = -2, Средняя приспособ.= -5.225\n",
      "Поколение 2: Мин пересечение = -1, Средняя приспособ.= -4.4\n",
      "Поколение 3: Мин пересечение = -1, Средняя приспособ.= -4.2\n",
      "Поколение 4: Мин пересечение = -1, Средняя приспособ.= -3.575\n",
      "Поколение 5: Мин пересечение = -1, Средняя приспособ.= -3.7\n",
      "Поколение 6: Мин пересечение = -1, Средняя приспособ.= -3.625\n",
      "Поколение 7: Мин пересечение = -1, Средняя приспособ.= -3.35\n",
      "Поколение 8: Мин пересечение = -1, Средняя приспособ.= -3.05\n",
      "Поколение 9: Мин пересечение = -1, Средняя приспособ.= -3.125\n",
      "Поколение 10: Мин пересечение = 0, Средняя приспособ.= -2.45\n"
     ]
    }
   ],
   "source": [
    "while max(fitness_values) < 0 and generation_counter < MAX_GENERATION:\n",
    "    generation_counter += 1\n",
    "    \n",
    "    offsptings = sel_tournament(population)\n",
    "    offsptings = list(map(clone, offsptings))\n",
    "    \n",
    "    for parent1, parent2 in zip(offsptings[::2], offsptings[1::2]):\n",
    "        if random.random() < P_CROSSOVER:\n",
    "            crossover(parent1, parent2)\n",
    "    \n",
    "    for ind in offsptings:\n",
    "        if random.random() < P_CROSSOVER:\n",
    "            mutation(ind, 1.0/BOARD_SIZE)\n",
    "            \n",
    "    for ind in offsptings:\n",
    "        ind.fitness.values = fitness(ind)\n",
    "        \n",
    "    population = offsptings[:]\n",
    "    \n",
    "    fitness_values = [ind.fitness.values[0] for ind in population]\n",
    "    \n",
    "    print(f\"Поколение {generation_counter}: Мин пересечение = {max(fitness_values)}, Средняя приспособ.= {sum(fitness_values) / len(population)}\")\n",
    "    \n",
    "    max_fitness_values.append(max(fitness_values))\n",
    "    mean_fitness_values.append(sum(fitness_values) / len(population))"
   ]
  },
  {
   "cell_type": "code",
   "execution_count": 17,
   "id": "familiar-night",
   "metadata": {},
   "outputs": [
    {
     "data": {
      "text/plain": [
       "(0,)"
      ]
     },
     "execution_count": 17,
     "metadata": {},
     "output_type": "execute_result"
    }
   ],
   "source": [
    "fitness(sorted(population, key=lambda ind: ind.fitness.values[0])[-1])"
   ]
  },
  {
   "cell_type": "code",
   "execution_count": 18,
   "id": "particular-drink",
   "metadata": {},
   "outputs": [
    {
     "data": {
      "text/plain": [
       "[3, 0, 4, 7, 1, 6, 2, 2]"
      ]
     },
     "execution_count": 18,
     "metadata": {},
     "output_type": "execute_result"
    }
   ],
   "source": [
    "sorted(population, key=lambda ind: ind.fitness.values[0])[-1]"
   ]
  },
  {
   "cell_type": "code",
   "execution_count": 19,
   "id": "funny-postcard",
   "metadata": {},
   "outputs": [
    {
     "data": {
      "image/png": "[encoded data removed]",
      "text/plain": [
       "<Figure size 432x288 with 1 Axes>"
      ]
     },
     "metadata": {
      "needs_background": "light"
     },
     "output_type": "display_data"
    }
   ],
   "source": [
    "plt.plot(max_fitness_values, color='red')\n",
    "plt.plot(mean_fitness_values, color='green')\n",
    "plt.legend(['Макс', 'Cредняя'])\n",
    "plt.xlabel('Поколение')\n",
    "plt.ylabel('Макс/средняя приспособленность')\n",
    "plt.title('Зависимость максимальной и средней приспособленности от поколения')\n",
    "plt.show()"
   ]
  }
 ],
 "metadata": {
  "kernelspec": {
   "display_name": "Python 3",
   "language": "python",
   "name": "python3"
  },
  "language_info": {
   "codemirror_mode": {
    "name": "ipython",
    "version": 3
   },
   "file_extension": ".py",
   "mimetype": "text/x-python",
   "name": "python",
   "nbconvert_exporter": "python",
   "pygments_lexer": "ipython3",
   "version": "3.9.1"
  }
 },
 "nbformat": 4,
 "nbformat_minor": 5
}
