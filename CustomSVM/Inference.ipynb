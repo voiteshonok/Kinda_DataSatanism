{
 "cells": [
  {
   "cell_type": "code",
   "execution_count": 29,
   "id": "right-monkey",
   "metadata": {},
   "outputs": [],
   "source": [
    "using Random\n",
    "using LinearAlgebra\n",
    "using Zygote\n",
    "using Statistics\n",
    "using Flux\n",
    "import MLJ\n",
    "import DataFrames"
   ]
  },
  {
   "cell_type": "code",
   "execution_count": 30,
   "id": "essential-consequence",
   "metadata": {},
   "outputs": [
    {
     "name": "stderr",
     "output_type": "stream",
     "text": [
      "WARNING: replacing module svm.\n"
     ]
    }
   ],
   "source": [
    "include(\"./SVM.jl\")\n",
    "using .svm"
   ]
  },
  {
   "cell_type": "code",
   "execution_count": 31,
   "id": "indian-program",
   "metadata": {},
   "outputs": [
    {
     "data": {
      "text/html": [
       "<div><div style = \"float: left;\"><span>5×3 DataFrame</span></div><div style = \"clear: both;\"></div></div><div class = \"data-frame\" style = \"overflow-x: scroll;\"><table class = \"data-frame\" style = \"margin-bottom: 6px;\"><thead><tr class = \"header\"><th class = \"rowNumber\" style = \"font-weight: bold; text-align: right;\">Row</th><th style = \"text-align: left;\">x1</th><th style = \"text-align: left;\">x2</th><th style = \"text-align: left;\">y</th></tr><tr class = \"subheader headerLastRow\"><th class = \"rowNumber\" style = \"font-weight: bold; text-align: right;\"></th><th title = \"Float64\" style = \"text-align: left;\">Float64</th><th title = \"Float64\" style = \"text-align: left;\">Float64</th><th title = \"CategoricalArrays.CategoricalValue{Int64, UInt32}\" style = \"text-align: left;\">Cat…</th></tr></thead><tbody><tr><td class = \"rowNumber\" style = \"font-weight: bold; text-align: right;\">1</td><td style = \"text-align: right;\">6.03686</td><td style = \"text-align: right;\">-2.06534</td><td style = \"text-align: left;\">2</td></tr><tr><td class = \"rowNumber\" style = \"font-weight: bold; text-align: right;\">2</td><td style = \"text-align: right;\">6.06697</td><td style = \"text-align: right;\">-2.05187</td><td style = \"text-align: left;\">2</td></tr><tr><td class = \"rowNumber\" style = \"font-weight: bold; text-align: right;\">3</td><td style = \"text-align: right;\">-9.78507</td><td style = \"text-align: right;\">1.15098</td><td style = \"text-align: left;\">1</td></tr><tr><td class = \"rowNumber\" style = \"font-weight: bold; text-align: right;\">4</td><td style = \"text-align: right;\">6.01253</td><td style = \"text-align: right;\">-2.17838</td><td style = \"text-align: left;\">2</td></tr><tr><td class = \"rowNumber\" style = \"font-weight: bold; text-align: right;\">5</td><td style = \"text-align: right;\">5.96916</td><td style = \"text-align: right;\">-1.92322</td><td style = \"text-align: left;\">2</td></tr></tbody></table></div>"
      ],
      "text/latex": [
       "\\begin{tabular}{r|ccc}\n",
       "\t& x1 & x2 & y\\\\\n",
       "\t\\hline\n",
       "\t& Float64 & Float64 & Cat…\\\\\n",
       "\t\\hline\n",
       "\t1 & 6.03686 & -2.06534 & 2 \\\\\n",
       "\t2 & 6.06697 & -2.05187 & 2 \\\\\n",
       "\t3 & -9.78507 & 1.15098 & 1 \\\\\n",
       "\t4 & 6.01253 & -2.17838 & 2 \\\\\n",
       "\t5 & 5.96916 & -1.92322 & 2 \\\\\n",
       "\\end{tabular}\n"
      ],
      "text/plain": [
       "\u001b[1m5×3 DataFrame\u001b[0m\n",
       "\u001b[1m Row \u001b[0m│\u001b[1m x1       \u001b[0m\u001b[1m x2       \u001b[0m\u001b[1m y    \u001b[0m\n",
       "     │\u001b[90m Float64  \u001b[0m\u001b[90m Float64  \u001b[0m\u001b[90m Cat… \u001b[0m\n",
       "─────┼──────────────────────────\n",
       "   1 │  6.03686  -2.06534  2\n",
       "   2 │  6.06697  -2.05187  2\n",
       "   3 │ -9.78507   1.15098  1\n",
       "   4 │  6.01253  -2.17838  2\n",
       "   5 │  5.96916  -1.92322  2"
      ]
     },
     "execution_count": 31,
     "metadata": {},
     "output_type": "execute_result"
    }
   ],
   "source": [
    "X, Y = MLJ.make_blobs(100, 2; centers=2, cluster_std=[1.0, 0.1])\n",
    "dfBlobs = DataFrames.DataFrame(X)\n",
    "dfBlobs.y = Y\n",
    "first(dfBlobs, 5)"
   ]
  },
  {
   "cell_type": "code",
   "execution_count": 32,
   "id": "corrected-blair",
   "metadata": {},
   "outputs": [
    {
     "data": {
      "application/vnd.vegalite.v4+json": {
       "data": {
        "values": [
         {
          "x1": 6.036862517517972,
          "x2": -2.0653391143205946,
          "y": 2
         },
         {
          "x1": 6.066968967495714,
          "x2": -2.05186874923293,
          "y": 2
         },
         {
          "x1": -9.785071005656363,
          "x2": 1.1509831363716692,
          "y": 1
         },
         {
          "x1": 6.0125320272343465,
          "x2": -2.1783820010611197,
          "y": 2
         },
         {
          "x1": 5.969162845820056,
          "x2": -1.923224001706643,
          "y": 2
         },
         {
          "x1": 6.005774868603894,
          "x2": -1.8283295618449336,
          "y": 2
         },
         {
          "x1": 5.855342188320705,
          "x2": -2.1267411291446403,
          "y": 2
         },
         {
          "x1": -7.05782013956178,
          "x2": 1.29030038600115,
          "y": 1
         },
         {
          "x1": 6.029692786161549,
          "x2": -2.071851076207835,
          "y": 2
         },
         {
          "x1": 6.088648187571816,
          "x2": -2.093697828208087,
          "y": 2
         },
         {
          "x1": 5.9159012191122144,
          "x2": -2.058028596046335,
          "y": 2
         },
         {
          "x1": 5.909324828701002,
          "x2": -1.9051874197789955,
          "y": 2
         },
         {
          "x1": -9.203877325778937,
          "x2": -0.7272692971986674,
          "y": 1
         },
         {
          "x1": 5.906400963489747,
          "x2": -2.0123384947760194,
          "y": 2
         },
         {
          "x1": 6.057360509917537,
          "x2": -1.9890588984821704,
          "y": 2
         },
         {
          "x1": -7.989964266337547,
          "x2": 0.6687129848436895,
          "y": 1
         },
         {
          "x1": -7.084775094170119,
          "x2": 1.2265183268961632,
          "y": 1
         },
         {
          "x1": -8.99671077497009,
          "x2": 1.4723102805950545,
          "y": 1
         },
         {
          "x1": -8.771923443950831,
          "x2": 1.046744385619318,
          "y": 1
         },
         {
          "x1": 5.950002882882172,
          "x2": -2.009116888937116,
          "y": 2
         },
         {
          "x1": 5.9257404179579565,
          "x2": -1.9153870118481995,
          "y": 2
         },
         {
          "x1": -7.855106018045596,
          "x2": 0.8035116472208136,
          "y": 1
         },
         {
          "x1": -8.217813104209318,
          "x2": 2.066219351833909,
          "y": 1
         },
         {
          "x1": -9.08391945318962,
          "x2": 0.08237144745838954,
          "y": 1
         },
         {
          "x1": 5.875198364265848,
          "x2": -1.964409200181726,
          "y": 2
         },
         {
          "x1": -8.071087398161543,
          "x2": 0.46226159022582436,
          "y": 1
         },
         {
          "x1": -8.793151134324411,
          "x2": -1.776974706280734,
          "y": 1
         },
         {
          "x1": 5.934909808659318,
          "x2": -1.8838883740238233,
          "y": 2
         },
         {
          "x1": 6.0063671934936025,
          "x2": -1.9826078870256412,
          "y": 2
         },
         {
          "x1": 5.918790367674637,
          "x2": -1.9083495543909874,
          "y": 2
         },
         {
          "x1": 5.129250952416767,
          "x2": -1.8661114021772494,
          "y": 1
         },
         {
          "x1": 5.929754052596642,
          "x2": -1.9800784248502539,
          "y": 2
         },
         {
          "x1": -9.786622652515492,
          "x2": 0.2570805183365681,
          "y": 1
         },
         {
          "x1": -6.684242886317811,
          "x2": 1.4086674220436524,
          "y": 1
         },
         {
          "x1": 5.835856240670137,
          "x2": -1.8457280423113986,
          "y": 2
         },
         {
          "x1": -8.423362067442454,
          "x2": 1.3538354771321637,
          "y": 1
         },
         {
          "x1": -9.270677596439906,
          "x2": 0.41119042810880924,
          "y": 1
         },
         {
          "x1": -8.735847935810806,
          "x2": 1.5392119322612725,
          "y": 1
         },
         {
          "x1": 5.998473500829556,
          "x2": -1.9284325450214594,
          "y": 2
         },
         {
          "x1": -7.086295902184094,
          "x2": 0.24152744863394932,
          "y": 1
         },
         {
          "x1": -9.068713653946274,
          "x2": -1.0248468031428202,
          "y": 1
         },
         {
          "x1": -8.263403549588276,
          "x2": -0.058431541730345704,
          "y": 1
         },
         {
          "x1": -8.427157818423861,
          "x2": -1.011811558907609,
          "y": 1
         },
         {
          "x1": 5.958282687100726,
          "x2": -2.1093144452471773,
          "y": 2
         },
         {
          "x1": 5.92638952629272,
          "x2": -1.9427798022632563,
          "y": 2
         },
         {
          "x1": -8.367398817274497,
          "x2": 1.0243336854796494,
          "y": 1
         },
         {
          "x1": 5.867742050392529,
          "x2": -2.0519546413266387,
          "y": 2
         },
         {
          "x1": -8.517785564806232,
          "x2": 0.18282741649152956,
          "y": 1
         },
         {
          "x1": -8.67649948835148,
          "x2": -0.24760778386907523,
          "y": 1
         },
         {
          "x1": -9.389011843793853,
          "x2": -0.13249869561878458,
          "y": 1
         },
         {
          "x1": -7.981345091958759,
          "x2": 1.3557228808972277,
          "y": 1
         },
         {
          "x1": -9.359884309049098,
          "x2": -0.29585861975081496,
          "y": 1
         },
         {
          "x1": 6.028552912949617,
          "x2": -2.026133843920118,
          "y": 2
         },
         {
          "x1": 5.993077646284616,
          "x2": -2.083878717445899,
          "y": 2
         },
         {
          "x1": -8.845305518482053,
          "x2": 1.35581251078026,
          "y": 1
         },
         {
          "x1": 6.098550843349411,
          "x2": -2.1004989027497185,
          "y": 2
         },
         {
          "x1": 5.989614658482794,
          "x2": -1.9521040776299543,
          "y": 2
         },
         {
          "x1": -8.310993333354165,
          "x2": -0.12556409665444057,
          "y": 1
         },
         {
          "x1": 5.964296135399801,
          "x2": -2.02023633706882,
          "y": 2
         },
         {
          "x1": -10.02076497294556,
          "x2": 0.5091507464537,
          "y": 1
         },
         {
          "x1": -9.159128523210473,
          "x2": -0.211353143080121,
          "y": 1
         },
         {
          "x1": 6.028204773177853,
          "x2": -2.11742542847716,
          "y": 2
         },
         {
          "x1": -8.525464362637935,
          "x2": 0.014943122384763807,
          "y": 1
         },
         {
          "x1": 5.7680586518290315,
          "x2": -2.045314087223814,
          "y": 2
         },
         {
          "x1": -9.300138926744264,
          "x2": 0.5314057107082604,
          "y": 1
         },
         {
          "x1": 5.885131182230578,
          "x2": -1.9439163563944724,
          "y": 2
         },
         {
          "x1": 6.041348044575094,
          "x2": -2.1551446686243736,
          "y": 2
         },
         {
          "x1": -8.961387270977767,
          "x2": -0.6096098280073483,
          "y": 1
         },
         {
          "x1": 5.991980459972231,
          "x2": -2.2367111446671277,
          "y": 2
         },
         {
          "x1": 5.8320168645907176,
          "x2": -2.03275177005974,
          "y": 2
         },
         {
          "x1": 5.805016911300503,
          "x2": -2.2732840074135887,
          "y": 2
         },
         {
          "x1": -8.185224522812923,
          "x2": -0.009033037506297026,
          "y": 1
         },
         {
          "x1": 6.046733643622755,
          "x2": -1.8686312693098537,
          "y": 2
         },
         {
          "x1": -9.384820332570419,
          "x2": 0.2869728265523239,
          "y": 1
         },
         {
          "x1": -9.069630234753804,
          "x2": 0.09320688889586182,
          "y": 1
         },
         {
          "x1": 5.9704851297972255,
          "x2": -2.025041073872904,
          "y": 2
         },
         {
          "x1": -6.901858432295204,
          "x2": 0.0671092309509358,
          "y": 1
         },
         {
          "x1": 5.7816110858947045,
          "x2": -1.8826979282944583,
          "y": 2
         },
         {
          "x1": 5.954045842046869,
          "x2": -1.924642632185502,
          "y": 2
         },
         {
          "x1": -7.2442892552277725,
          "x2": 2.4003450189530344,
          "y": 1
         },
         {
          "x1": 5.871067761196164,
          "x2": -2.026450723203445,
          "y": 2
         },
         {
          "x1": -9.081826587178723,
          "x2": 2.2216361941029548,
          "y": 1
         },
         {
          "x1": 5.815963233046803,
          "x2": -1.9180790577674889,
          "y": 2
         },
         {
          "x1": 6.1043005231061045,
          "x2": -2.0966761046220337,
          "y": 2
         },
         {
          "x1": -8.942429202056381,
          "x2": -0.7030524755622902,
          "y": 1
         },
         {
          "x1": -9.129666979043071,
          "x2": 2.578727193659326,
          "y": 1
         },
         {
          "x1": -9.165093894743904,
          "x2": 1.6360369942840083,
          "y": 1
         },
         {
          "x1": 6.243771630648997,
          "x2": -2.0749939739462384,
          "y": 2
         },
         {
          "x1": -7.378403119508408,
          "x2": 0.487858837644753,
          "y": 1
         },
         {
          "x1": -9.312447744787832,
          "x2": 2.6183304853532077,
          "y": 1
         },
         {
          "x1": 5.914758063901803,
          "x2": -2.113120100488253,
          "y": 2
         },
         {
          "x1": -8.210125863931358,
          "x2": 2.8636413954036333,
          "y": 1
         },
         {
          "x1": 5.698934663457715,
          "x2": -2.2356303122836967,
          "y": 2
         },
         {
          "x1": 6.0119413301780344,
          "x2": -2.168304518577022,
          "y": 2
         },
         {
          "x1": 5.884807148114512,
          "x2": -1.9502688005306579,
          "y": 2
         },
         {
          "x1": -9.442027626818263,
          "x2": 1.6313461843825308,
          "y": 1
         },
         {
          "x1": 6.05808190872537,
          "x2": -2.0923873905705284,
          "y": 2
         },
         {
          "x1": -9.584988801289484,
          "x2": 0.016415922233036007,
          "y": 1
         },
         {
          "x1": -9.971571388018706,
          "x2": 1.7784617599608032,
          "y": 1
         },
         {
          "x1": 5.894459241150128,
          "x2": -2.1235095665716046,
          "y": 2
         }
        ]
       },
       "encoding": {
        "color": {
         "field": "y",
         "type": "nominal"
        },
        "x": {
         "field": "x1",
         "type": "quantitative"
        },
        "y": {
         "field": "x2",
         "type": "quantitative"
        }
       },
       "mark": "point"
      },
      "image/png": "[encoded data removed]",
      "image/svg+xml": [
       "<?xml version=\"1.0\" encoding=\"utf-8\"?>\n",
       "<!DOCTYPE svg PUBLIC \"-//W3C//DTD SVG 1.1//EN\" \"http://www.w3.org/Graphics/SVG/1.1/DTD/svg11.dtd\">\n",
       "<svg xmlns=\"http://www.w3.org/2000/svg\" xmlns:xlink=\"http://www.w3.org/1999/xlink\" version=\"1.1\" class=\"marks\" width=\"286\" height=\"247\" viewBox=\"0 0 286 247\"><rect width=\"286\" height=\"247\" fill=\"white\"/><g fill=\"none\" stroke-miterlimit=\"10\" transform=\"translate(41,10)\"><g class=\"mark-group role-frame root\" role=\"graphics-object\" aria-roledescription=\"group mark container\"><g transform=\"translate(0,0)\"><path class=\"background\" aria-hidden=\"true\" d=\"M0.5,0.5h200v200h-200Z\" stroke=\"#ddd\"/><g><g class=\"mark-group role-axis\" aria-hidden=\"true\"><g transform=\"translate(0.5,200.5)\"><path class=\"background\" aria-hidden=\"true\" d=\"M0,0h0v0h0Z\" pointer-events=\"none\"/><g><g class=\"mark-rule role-axis-grid\" pointer-events=\"none\"><line transform=\"translate(20,-200)\" x2=\"0\" y2=\"200\" stroke=\"#ddd\" stroke-width=\"1\" opacity=\"1\"/><line transform=\"translate(70,-200)\" x2=\"0\" y2=\"200\" stroke=\"#ddd\" stroke-width=\"1\" opacity=\"1\"/><line transform=\"translate(120,-200)\" x2=\"0\" y2=\"200\" stroke=\"#ddd\" stroke-width=\"1\" opacity=\"1\"/><line transform=\"translate(170,-200)\" x2=\"0\" y2=\"200\" stroke=\"#ddd\" stroke-width=\"1\" opacity=\"1\"/></g></g><path class=\"foreground\" aria-hidden=\"true\" d=\"\" pointer-events=\"none\" display=\"none\"/></g></g><g class=\"mark-group role-axis\" aria-hidden=\"true\"><g transform=\"translate(0.5,0.5)\"><path class=\"background\" aria-hidden=\"true\" d=\"M0,0h0v0h0Z\" pointer-events=\"none\"/><g><g class=\"mark-rule role-axis-grid\" pointer-events=\"none\"><line transform=\"translate(0,182)\" x2=\"200\" y2=\"0\" stroke=\"#ddd\" stroke-width=\"1\" opacity=\"1\"/><line transform=\"translate(0,145)\" x2=\"200\" y2=\"0\" stroke=\"#ddd\" stroke-width=\"1\" opacity=\"1\"/><line transform=\"translate(0,109)\" x2=\"200\" y2=\"0\" stroke=\"#ddd\" stroke-width=\"1\" opacity=\"1\"/><line transform=\"translate(0,73)\" x2=\"200\" y2=\"0\" stroke=\"#ddd\" stroke-width=\"1\" opacity=\"1\"/><line transform=\"translate(0,36)\" x2=\"200\" y2=\"0\" stroke=\"#ddd\" stroke-width=\"1\" opacity=\"1\"/><line transform=\"translate(0,0)\" x2=\"200\" y2=\"0\" stroke=\"#ddd\" stroke-width=\"1\" opacity=\"1\"/></g></g><path class=\"foreground\" aria-hidden=\"true\" d=\"\" pointer-events=\"none\" display=\"none\"/></g></g><g class=\"mark-group role-axis\" role=\"graphics-symbol\" aria-roledescription=\"axis\" aria-label=\"X-axis titled 'x1' for a linear scale with values from −12 to 8\"><g transform=\"translate(0.5,200.5)\"><path class=\"background\" aria-hidden=\"true\" d=\"M0,0h0v0h0Z\" pointer-events=\"none\"/><g><g class=\"mark-rule role-axis-tick\" pointer-events=\"none\"><line transform=\"translate(20,0)\" x2=\"0\" y2=\"5\" stroke=\"#888\" stroke-width=\"1\" opacity=\"1\"/><line transform=\"translate(70,0)\" x2=\"0\" y2=\"5\" stroke=\"#888\" stroke-width=\"1\" opacity=\"1\"/><line transform=\"translate(120,0)\" x2=\"0\" y2=\"5\" stroke=\"#888\" stroke-width=\"1\" opacity=\"1\"/><line transform=\"translate(170,0)\" x2=\"0\" y2=\"5\" stroke=\"#888\" stroke-width=\"1\" opacity=\"1\"/></g><g class=\"mark-text role-axis-label\" pointer-events=\"none\"><text text-anchor=\"middle\" transform=\"translate(20,15)\" font-family=\"sans-serif\" font-size=\"10px\" fill=\"#000\" opacity=\"1\">−10</text><text text-anchor=\"middle\" transform=\"translate(70,15)\" font-family=\"sans-serif\" font-size=\"10px\" fill=\"#000\" opacity=\"1\">−5</text><text text-anchor=\"middle\" transform=\"translate(120,15)\" font-family=\"sans-serif\" font-size=\"10px\" fill=\"#000\" opacity=\"1\">0</text><text text-anchor=\"middle\" transform=\"translate(170,15)\" font-family=\"sans-serif\" font-size=\"10px\" fill=\"#000\" opacity=\"1\">5</text></g><g class=\"mark-rule role-axis-domain\" pointer-events=\"none\"><line transform=\"translate(0,0)\" x2=\"200\" y2=\"0\" stroke=\"#888\" stroke-width=\"1\" opacity=\"1\"/></g><g class=\"mark-text role-axis-title\" pointer-events=\"none\"><text text-anchor=\"middle\" transform=\"translate(100,30)\" font-family=\"sans-serif\" font-size=\"11px\" font-weight=\"bold\" fill=\"#000\" opacity=\"1\">x1</text></g></g><path class=\"foreground\" aria-hidden=\"true\" d=\"\" pointer-events=\"none\" display=\"none\"/></g></g><g class=\"mark-group role-axis\" role=\"graphics-symbol\" aria-roledescription=\"axis\" aria-label=\"Y-axis titled 'x2' for a linear scale with values from −3 to 3\"><g transform=\"translate(0.5,0.5)\"><path class=\"background\" aria-hidden=\"true\" d=\"M0,0h0v0h0Z\" pointer-events=\"none\"/><g><g class=\"mark-rule role-axis-tick\" pointer-events=\"none\"><line transform=\"translate(0,182)\" x2=\"-5\" y2=\"0\" stroke=\"#888\" stroke-width=\"1\" opacity=\"1\"/><line transform=\"translate(0,145)\" x2=\"-5\" y2=\"0\" stroke=\"#888\" stroke-width=\"1\" opacity=\"1\"/><line transform=\"translate(0,109)\" x2=\"-5\" y2=\"0\" stroke=\"#888\" stroke-width=\"1\" opacity=\"1\"/><line transform=\"translate(0,73)\" x2=\"-5\" y2=\"0\" stroke=\"#888\" stroke-width=\"1\" opacity=\"1\"/><line transform=\"translate(0,36)\" x2=\"-5\" y2=\"0\" stroke=\"#888\" stroke-width=\"1\" opacity=\"1\"/><line transform=\"translate(0,0)\" x2=\"-5\" y2=\"0\" stroke=\"#888\" stroke-width=\"1\" opacity=\"1\"/></g><g class=\"mark-text role-axis-label\" pointer-events=\"none\"><text text-anchor=\"end\" transform=\"translate(-7,184.8181818181818)\" font-family=\"sans-serif\" font-size=\"10px\" fill=\"#000\" opacity=\"1\">−2</text><text text-anchor=\"end\" transform=\"translate(-7,148.45454545454547)\" font-family=\"sans-serif\" font-size=\"10px\" fill=\"#000\" opacity=\"1\">−1</text><text text-anchor=\"end\" transform=\"translate(-7,112.09090909090908)\" font-family=\"sans-serif\" font-size=\"10px\" fill=\"#000\" opacity=\"1\">0</text><text text-anchor=\"end\" transform=\"translate(-7,75.72727272727273)\" font-family=\"sans-serif\" font-size=\"10px\" fill=\"#000\" opacity=\"1\">1</text><text text-anchor=\"end\" transform=\"translate(-7,39.36363636363635)\" font-family=\"sans-serif\" font-size=\"10px\" fill=\"#000\" opacity=\"1\">2</text><text text-anchor=\"end\" transform=\"translate(-7,3)\" font-family=\"sans-serif\" font-size=\"10px\" fill=\"#000\" opacity=\"1\">3</text></g><g class=\"mark-rule role-axis-domain\" pointer-events=\"none\"><line transform=\"translate(0,200)\" x2=\"0\" y2=\"-200\" stroke=\"#888\" stroke-width=\"1\" opacity=\"1\"/></g><g class=\"mark-text role-axis-title\" pointer-events=\"none\"><text text-anchor=\"middle\" transform=\"translate(-25,100) rotate(-90) translate(0,-2)\" font-family=\"sans-serif\" font-size=\"11px\" font-weight=\"bold\" fill=\"#000\" opacity=\"1\">x2</text></g></g><path class=\"foreground\" aria-hidden=\"true\" d=\"\" pointer-events=\"none\" display=\"none\"/></g></g><g class=\"mark-symbol role-mark marks\" role=\"graphics-object\" aria-roledescription=\"symbol mark container\"><path aria-label=\"x1: 6.03686251752; x2: −2.06533911432; y: 2\" role=\"graphics-symbol\" aria-roledescription=\"point\" transform=\"translate(180.36862517517972,184.194149611658)\" d=\"M2.7386127875258306,0A2.7386127875258306,2.7386127875258306,0,1,1,-2.7386127875258306,0A2.7386127875258306,2.7386127875258306,0,1,1,2.7386127875258306,0\" stroke=\"#f58518\" stroke-width=\"2\" opacity=\"0.7\"/><path aria-label=\"x1: 6.0669689675; x2: −2.05186874923; y: 2\" role=\"graphics-symbol\" aria-roledescription=\"point\" transform=\"translate(180.66968967495717,183.70431815392473)\" d=\"M2.7386127875258306,0A2.7386127875258306,2.7386127875258306,0,1,1,-2.7386127875258306,0A2.7386127875258306,2.7386127875258306,0,1,1,2.7386127875258306,0\" stroke=\"#f58518\" stroke-width=\"2\" opacity=\"0.7\"/><path aria-label=\"x1: −9.78507100566; x2: 1.15098313637; y: 1\" role=\"graphics-symbol\" aria-roledescription=\"point\" transform=\"translate(22.149289943436372,67.23697685921204)\" d=\"M2.7386127875258306,0A2.7386127875258306,2.7386127875258306,0,1,1,-2.7386127875258306,0A2.7386127875258306,2.7386127875258306,0,1,1,2.7386127875258306,0\" stroke=\"#4c78a8\" stroke-width=\"2\" opacity=\"0.7\"/><path aria-label=\"x1: 6.01253202723; x2: −2.17838200106; y: 2\" role=\"graphics-symbol\" aria-roledescription=\"point\" transform=\"translate(180.12532027234346,188.30480003858617)\" d=\"M2.7386127875258306,0A2.7386127875258306,2.7386127875258306,0,1,1,-2.7386127875258306,0A2.7386127875258306,2.7386127875258306,0,1,1,2.7386127875258306,0\" stroke=\"#f58518\" stroke-width=\"2\" opacity=\"0.7\"/><path aria-label=\"x1: 5.96916284582; x2: −1.92322400171; y: 2\" role=\"graphics-symbol\" aria-roledescription=\"point\" transform=\"translate(179.69162845820054,179.02632733478703)\" d=\"M2.7386127875258306,0A2.7386127875258306,2.7386127875258306,0,1,1,-2.7386127875258306,0A2.7386127875258306,2.7386127875258306,0,1,1,2.7386127875258306,0\" stroke=\"#f58518\" stroke-width=\"2\" opacity=\"0.7\"/><path aria-label=\"x1: 6.0057748686; x2: −1.82832956184; y: 2\" role=\"graphics-symbol\" aria-roledescription=\"point\" transform=\"translate(180.05774868603893,175.57562043072485)\" d=\"M2.7386127875258306,0A2.7386127875258306,2.7386127875258306,0,1,1,-2.7386127875258306,0A2.7386127875258306,2.7386127875258306,0,1,1,2.7386127875258306,0\" stroke=\"#f58518\" stroke-width=\"2\" opacity=\"0.7\"/><path aria-label=\"x1: 5.85534218832; x2: −2.12674112914; y: 2\" role=\"graphics-symbol\" aria-roledescription=\"point\" transform=\"translate(178.55342188320705,186.4269501507142)\" d=\"M2.7386127875258306,0A2.7386127875258306,2.7386127875258306,0,1,1,-2.7386127875258306,0A2.7386127875258306,2.7386127875258306,0,1,1,2.7386127875258306,0\" stroke=\"#f58518\" stroke-width=\"2\" opacity=\"0.7\"/><path aria-label=\"x1: −7.05782013956; x2: 1.290300386; y: 1\" role=\"graphics-symbol\" aria-roledescription=\"point\" transform=\"translate(49.4217986043822,62.17089505450364)\" d=\"M2.7386127875258306,0A2.7386127875258306,2.7386127875258306,0,1,1,-2.7386127875258306,0A2.7386127875258306,2.7386127875258306,0,1,1,2.7386127875258306,0\" stroke=\"#4c78a8\" stroke-width=\"2\" opacity=\"0.7\"/><path aria-label=\"x1: 6.02969278616; x2: −2.07185107621; y: 2\" role=\"graphics-symbol\" aria-roledescription=\"point\" transform=\"translate(180.29692786161547,184.43094822573946)\" d=\"M2.7386127875258306,0A2.7386127875258306,2.7386127875258306,0,1,1,-2.7386127875258306,0A2.7386127875258306,2.7386127875258306,0,1,1,2.7386127875258306,0\" stroke=\"#f58518\" stroke-width=\"2\" opacity=\"0.7\"/><path aria-label=\"x1: 6.08864818757; x2: −2.09369782821; y: 2\" role=\"graphics-symbol\" aria-roledescription=\"point\" transform=\"translate(180.88648187571818,185.2253755712032)\" d=\"M2.7386127875258306,0A2.7386127875258306,2.7386127875258306,0,1,1,-2.7386127875258306,0A2.7386127875258306,2.7386127875258306,0,1,1,2.7386127875258306,0\" stroke=\"#f58518\" stroke-width=\"2\" opacity=\"0.7\"/><path aria-label=\"x1: 5.91590121911; x2: −2.05802859605; y: 2\" role=\"graphics-symbol\" aria-roledescription=\"point\" transform=\"translate(179.15901219112214,183.92831258350307)\" d=\"M2.7386127875258306,0A2.7386127875258306,2.7386127875258306,0,1,1,-2.7386127875258306,0A2.7386127875258306,2.7386127875258306,0,1,1,2.7386127875258306,0\" stroke=\"#f58518\" stroke-width=\"2\" opacity=\"0.7\"/><path aria-label=\"x1: 5.9093248287; x2: −1.90518741978; y: 2\" role=\"graphics-symbol\" aria-roledescription=\"point\" transform=\"translate(179.09324828701003,178.3704516283271)\" d=\"M2.7386127875258306,0A2.7386127875258306,2.7386127875258306,0,1,1,-2.7386127875258306,0A2.7386127875258306,2.7386127875258306,0,1,1,2.7386127875258306,0\" stroke=\"#f58518\" stroke-width=\"2\" opacity=\"0.7\"/><path aria-label=\"x1: −9.20387732578; x2: −0.727269297199; y: 1\" role=\"graphics-symbol\" aria-roledescription=\"point\" transform=\"translate(27.96122674221063,135.5370653526788)\" d=\"M2.7386127875258306,0A2.7386127875258306,2.7386127875258306,0,1,1,-2.7386127875258306,0A2.7386127875258306,2.7386127875258306,0,1,1,2.7386127875258306,0\" stroke=\"#4c78a8\" stroke-width=\"2\" opacity=\"0.7\"/><path aria-label=\"x1: 5.90640096349; x2: −2.01233849478; y: 2\" role=\"graphics-symbol\" aria-roledescription=\"point\" transform=\"translate(179.06400963489747,182.2668543554916)\" d=\"M2.7386127875258306,0A2.7386127875258306,2.7386127875258306,0,1,1,-2.7386127875258306,0A2.7386127875258306,2.7386127875258306,0,1,1,2.7386127875258306,0\" stroke=\"#f58518\" stroke-width=\"2\" opacity=\"0.7\"/><path aria-label=\"x1: 6.05736050992; x2: −1.98905889848; y: 2\" role=\"graphics-symbol\" aria-roledescription=\"point\" transform=\"translate(180.57360509917538,181.42032358116984)\" d=\"M2.7386127875258306,0A2.7386127875258306,2.7386127875258306,0,1,1,-2.7386127875258306,0A2.7386127875258306,2.7386127875258306,0,1,1,2.7386127875258306,0\" stroke=\"#f58518\" stroke-width=\"2\" opacity=\"0.7\"/><path aria-label=\"x1: −7.98996426634; x2: 0.668712984844; y: 1\" role=\"graphics-symbol\" aria-roledescription=\"point\" transform=\"translate(40.100357336624526,84.7740732784113)\" d=\"M2.7386127875258306,0A2.7386127875258306,2.7386127875258306,0,1,1,-2.7386127875258306,0A2.7386127875258306,2.7386127875258306,0,1,1,2.7386127875258306,0\" stroke=\"#4c78a8\" stroke-width=\"2\" opacity=\"0.7\"/><path aria-label=\"x1: −7.08477509417; x2: 1.2265183269; y: 1\" role=\"graphics-symbol\" aria-roledescription=\"point\" transform=\"translate(49.15224905829881,64.49024265832135)\" d=\"M2.7386127875258306,0A2.7386127875258306,2.7386127875258306,0,1,1,-2.7386127875258306,0A2.7386127875258306,2.7386127875258306,0,1,1,2.7386127875258306,0\" stroke=\"#4c78a8\" stroke-width=\"2\" opacity=\"0.7\"/><path aria-label=\"x1: −8.99671077497; x2: 1.4723102806; y: 1\" role=\"graphics-symbol\" aria-roledescription=\"point\" transform=\"translate(30.0328922502991,55.5523534329071)\" d=\"M2.7386127875258306,0A2.7386127875258306,2.7386127875258306,0,1,1,-2.7386127875258306,0A2.7386127875258306,2.7386127875258306,0,1,1,2.7386127875258306,0\" stroke=\"#4c78a8\" stroke-width=\"2\" opacity=\"0.7\"/><path aria-label=\"x1: −8.77192344395; x2: 1.04674438562; y: 1\" role=\"graphics-symbol\" aria-roledescription=\"point\" transform=\"translate(32.280765560491695,71.02747688657026)\" d=\"M2.7386127875258306,0A2.7386127875258306,2.7386127875258306,0,1,1,-2.7386127875258306,0A2.7386127875258306,2.7386127875258306,0,1,1,2.7386127875258306,0\" stroke=\"#4c78a8\" stroke-width=\"2\" opacity=\"0.7\"/><path aria-label=\"x1: 5.95000288288; x2: −2.00911688894; y: 2\" role=\"graphics-symbol\" aria-roledescription=\"point\" transform=\"translate(179.50002882882174,182.14970505225875)\" d=\"M2.7386127875258306,0A2.7386127875258306,2.7386127875258306,0,1,1,-2.7386127875258306,0A2.7386127875258306,2.7386127875258306,0,1,1,2.7386127875258306,0\" stroke=\"#f58518\" stroke-width=\"2\" opacity=\"0.7\"/><path aria-label=\"x1: 5.92574041796; x2: −1.91538701185; y: 2\" role=\"graphics-symbol\" aria-roledescription=\"point\" transform=\"translate(179.2574041795796,178.74134588538908)\" d=\"M2.7386127875258306,0A2.7386127875258306,2.7386127875258306,0,1,1,-2.7386127875258306,0A2.7386127875258306,2.7386127875258306,0,1,1,2.7386127875258306,0\" stroke=\"#f58518\" stroke-width=\"2\" opacity=\"0.7\"/><path aria-label=\"x1: −7.85510601805; x2: 0.803511647221; y: 1\" role=\"graphics-symbol\" aria-roledescription=\"point\" transform=\"translate(41.44893981954404,79.87230373742496)\" d=\"M2.7386127875258306,0A2.7386127875258306,2.7386127875258306,0,1,1,-2.7386127875258306,0A2.7386127875258306,2.7386127875258306,0,1,1,2.7386127875258306,0\" stroke=\"#4c78a8\" stroke-width=\"2\" opacity=\"0.7\"/><path aria-label=\"x1: −8.21781310421; x2: 2.06621935183; y: 1\" role=\"graphics-symbol\" aria-roledescription=\"point\" transform=\"translate(37.821868957906815,33.9556599333124)\" d=\"M2.7386127875258306,0A2.7386127875258306,2.7386127875258306,0,1,1,-2.7386127875258306,0A2.7386127875258306,2.7386127875258306,0,1,1,2.7386127875258306,0\" stroke=\"#4c78a8\" stroke-width=\"2\" opacity=\"0.7\"/><path aria-label=\"x1: −9.08391945319; x2: 0.0823714474584; y: 1\" role=\"graphics-symbol\" aria-roledescription=\"point\" transform=\"translate(29.16080546810379,106.09558372878584)\" d=\"M2.7386127875258306,0A2.7386127875258306,2.7386127875258306,0,1,1,-2.7386127875258306,0A2.7386127875258306,2.7386127875258306,0,1,1,2.7386127875258306,0\" stroke=\"#4c78a8\" stroke-width=\"2\" opacity=\"0.7\"/><path aria-label=\"x1: 5.87519836427; x2: −1.96440920018; y: 2\" role=\"graphics-symbol\" aria-roledescription=\"point\" transform=\"translate(178.7519836426585,180.52397091569912)\" d=\"M2.7386127875258306,0A2.7386127875258306,2.7386127875258306,0,1,1,-2.7386127875258306,0A2.7386127875258306,2.7386127875258306,0,1,1,2.7386127875258306,0\" stroke=\"#f58518\" stroke-width=\"2\" opacity=\"0.7\"/><path aria-label=\"x1: −8.07108739816; x2: 0.462261590226; y: 1\" role=\"graphics-symbol\" aria-roledescription=\"point\" transform=\"translate(39.289126018384565,92.28139671906092)\" d=\"M2.7386127875258306,0A2.7386127875258306,2.7386127875258306,0,1,1,-2.7386127875258306,0A2.7386127875258306,2.7386127875258306,0,1,1,2.7386127875258306,0\" stroke=\"#4c78a8\" stroke-width=\"2\" opacity=\"0.7\"/><path aria-label=\"x1: −8.79315113432; x2: −1.77697470628; y: 1\" role=\"graphics-symbol\" aria-roledescription=\"point\" transform=\"translate(32.06848865675589,173.70817113748123)\" d=\"M2.7386127875258306,0A2.7386127875258306,2.7386127875258306,0,1,1,-2.7386127875258306,0A2.7386127875258306,2.7386127875258306,0,1,1,2.7386127875258306,0\" stroke=\"#4c78a8\" stroke-width=\"2\" opacity=\"0.7\"/><path aria-label=\"x1: 5.93490980866; x2: −1.88388837402; y: 2\" role=\"graphics-symbol\" aria-roledescription=\"point\" transform=\"translate(179.34909808659322,177.59594087359355)\" d=\"M2.7386127875258306,0A2.7386127875258306,2.7386127875258306,0,1,1,-2.7386127875258306,0A2.7386127875258306,2.7386127875258306,0,1,1,2.7386127875258306,0\" stroke=\"#f58518\" stroke-width=\"2\" opacity=\"0.7\"/><path aria-label=\"x1: 6.00636719349; x2: −1.98260788703; y: 2\" role=\"graphics-symbol\" aria-roledescription=\"point\" transform=\"translate(180.06367193493602,181.18574134638698)\" d=\"M2.7386127875258306,0A2.7386127875258306,2.7386127875258306,0,1,1,-2.7386127875258306,0A2.7386127875258306,2.7386127875258306,0,1,1,2.7386127875258306,0\" stroke=\"#f58518\" stroke-width=\"2\" opacity=\"0.7\"/><path aria-label=\"x1: 5.91879036767; x2: −1.90834955439; y: 2\" role=\"graphics-symbol\" aria-roledescription=\"point\" transform=\"translate(179.1879036767464,178.48543834149044)\" d=\"M2.7386127875258306,0A2.7386127875258306,2.7386127875258306,0,1,1,-2.7386127875258306,0A2.7386127875258306,2.7386127875258306,0,1,1,2.7386127875258306,0\" stroke=\"#f58518\" stroke-width=\"2\" opacity=\"0.7\"/><path aria-label=\"x1: 5.12925095242; x2: −1.86611140218; y: 1\" role=\"graphics-symbol\" aria-roledescription=\"point\" transform=\"translate(171.29250952416768,176.94950553371817)\" d=\"M2.7386127875258306,0A2.7386127875258306,2.7386127875258306,0,1,1,-2.7386127875258306,0A2.7386127875258306,2.7386127875258306,0,1,1,2.7386127875258306,0\" stroke=\"#4c78a8\" stroke-width=\"2\" opacity=\"0.7\"/><path aria-label=\"x1: 5.9297540526; x2: −1.98007842485; y: 2\" role=\"graphics-symbol\" aria-roledescription=\"point\" transform=\"translate(179.29754052596644,181.0937609036456)\" d=\"M2.7386127875258306,0A2.7386127875258306,2.7386127875258306,0,1,1,-2.7386127875258306,0A2.7386127875258306,2.7386127875258306,0,1,1,2.7386127875258306,0\" stroke=\"#f58518\" stroke-width=\"2\" opacity=\"0.7\"/><path aria-label=\"x1: −9.78662265252; x2: 0.257080518337; y: 1\" role=\"graphics-symbol\" aria-roledescription=\"point\" transform=\"translate(22.133773474845082,99.74252660594298)\" d=\"M2.7386127875258306,0A2.7386127875258306,2.7386127875258306,0,1,1,-2.7386127875258306,0A2.7386127875258306,2.7386127875258306,0,1,1,2.7386127875258306,0\" stroke=\"#4c78a8\" stroke-width=\"2\" opacity=\"0.7\"/><path aria-label=\"x1: −6.68424288632; x2: 1.40866742204; y: 1\" role=\"graphics-symbol\" aria-roledescription=\"point\" transform=\"translate(53.15757113682189,57.86663919841264)\" d=\"M2.7386127875258306,0A2.7386127875258306,2.7386127875258306,0,1,1,-2.7386127875258306,0A2.7386127875258306,2.7386127875258306,0,1,1,2.7386127875258306,0\" stroke=\"#4c78a8\" stroke-width=\"2\" opacity=\"0.7\"/><path aria-label=\"x1: 5.83585624067; x2: −1.84572804231; y: 2\" role=\"graphics-symbol\" aria-roledescription=\"point\" transform=\"translate(178.35856240670137,176.20829244768723)\" d=\"M2.7386127875258306,0A2.7386127875258306,2.7386127875258306,0,1,1,-2.7386127875258306,0A2.7386127875258306,2.7386127875258306,0,1,1,2.7386127875258306,0\" stroke=\"#f58518\" stroke-width=\"2\" opacity=\"0.7\"/><path aria-label=\"x1: −8.42336206744; x2: 1.35383547713; y: 1\" role=\"graphics-symbol\" aria-roledescription=\"point\" transform=\"translate(35.76637932557546,59.86052810428495)\" d=\"M2.7386127875258306,0A2.7386127875258306,2.7386127875258306,0,1,1,-2.7386127875258306,0A2.7386127875258306,2.7386127875258306,0,1,1,2.7386127875258306,0\" stroke=\"#4c78a8\" stroke-width=\"2\" opacity=\"0.7\"/><path aria-label=\"x1: −9.27067759644; x2: 0.411190428109; y: 1\" role=\"graphics-symbol\" aria-roledescription=\"point\" transform=\"translate(27.29322403560094,94.1385298869524)\" d=\"M2.7386127875258306,0A2.7386127875258306,2.7386127875258306,0,1,1,-2.7386127875258306,0A2.7386127875258306,2.7386127875258306,0,1,1,2.7386127875258306,0\" stroke=\"#4c78a8\" stroke-width=\"2\" opacity=\"0.7\"/><path aria-label=\"x1: −8.73584793581; x2: 1.53921193226; y: 1\" role=\"graphics-symbol\" aria-roledescription=\"point\" transform=\"translate(32.64152064189194,53.1195660995901)\" d=\"M2.7386127875258306,0A2.7386127875258306,2.7386127875258306,0,1,1,-2.7386127875258306,0A2.7386127875258306,2.7386127875258306,0,1,1,2.7386127875258306,0\" stroke=\"#4c78a8\" stroke-width=\"2\" opacity=\"0.7\"/><path aria-label=\"x1: 5.99847350083; x2: −1.92843254502; y: 2\" role=\"graphics-symbol\" aria-roledescription=\"point\" transform=\"translate(179.98473500829556,179.21572890987125)\" d=\"M2.7386127875258306,0A2.7386127875258306,2.7386127875258306,0,1,1,-2.7386127875258306,0A2.7386127875258306,2.7386127875258306,0,1,1,2.7386127875258306,0\" stroke=\"#f58518\" stroke-width=\"2\" opacity=\"0.7\"/><path aria-label=\"x1: −7.08629590218; x2: 0.241527448634; y: 1\" role=\"graphics-symbol\" aria-roledescription=\"point\" transform=\"translate(49.13704097815906,100.3080927769473)\" d=\"M2.7386127875258306,0A2.7386127875258306,2.7386127875258306,0,1,1,-2.7386127875258306,0A2.7386127875258306,2.7386127875258306,0,1,1,2.7386127875258306,0\" stroke=\"#4c78a8\" stroke-width=\"2\" opacity=\"0.7\"/><path aria-label=\"x1: −9.06871365395; x2: −1.02484680314; y: 1\" role=\"graphics-symbol\" aria-roledescription=\"point\" transform=\"translate(29.312863460537265,146.35806556882983)\" d=\"M2.7386127875258306,0A2.7386127875258306,2.7386127875258306,0,1,1,-2.7386127875258306,0A2.7386127875258306,2.7386127875258306,0,1,1,2.7386127875258306,0\" stroke=\"#4c78a8\" stroke-width=\"2\" opacity=\"0.7\"/><path aria-label=\"x1: −8.26340354959; x2: −0.0584315417303; y: 1\" role=\"graphics-symbol\" aria-roledescription=\"point\" transform=\"translate(37.365964504117244,111.21569242655802)\" d=\"M2.7386127875258306,0A2.7386127875258306,2.7386127875258306,0,1,1,-2.7386127875258306,0A2.7386127875258306,2.7386127875258306,0,1,1,2.7386127875258306,0\" stroke=\"#4c78a8\" stroke-width=\"2\" opacity=\"0.7\"/><path aria-label=\"x1: −8.42715781842; x2: −1.01181155891; y: 1\" role=\"graphics-symbol\" aria-roledescription=\"point\" transform=\"translate(35.728421815761386,145.88405668754942)\" d=\"M2.7386127875258306,0A2.7386127875258306,2.7386127875258306,0,1,1,-2.7386127875258306,0A2.7386127875258306,2.7386127875258306,0,1,1,2.7386127875258306,0\" stroke=\"#4c78a8\" stroke-width=\"2\" opacity=\"0.7\"/><path aria-label=\"x1: 5.9582826871; x2: −2.10931444525; y: 2\" role=\"graphics-symbol\" aria-roledescription=\"point\" transform=\"translate(179.58282687100726,185.7932525544428)\" d=\"M2.7386127875258306,0A2.7386127875258306,2.7386127875258306,0,1,1,-2.7386127875258306,0A2.7386127875258306,2.7386127875258306,0,1,1,2.7386127875258306,0\" stroke=\"#f58518\" stroke-width=\"2\" opacity=\"0.7\"/><path aria-label=\"x1: 5.92638952629; x2: −1.94277980226; y: 2\" role=\"graphics-symbol\" aria-roledescription=\"point\" transform=\"translate(179.2638952629272,179.7374473550275)\" d=\"M2.7386127875258306,0A2.7386127875258306,2.7386127875258306,0,1,1,-2.7386127875258306,0A2.7386127875258306,2.7386127875258306,0,1,1,2.7386127875258306,0\" stroke=\"#f58518\" stroke-width=\"2\" opacity=\"0.7\"/><path aria-label=\"x1: −8.36739881727; x2: 1.02433368548; y: 1\" role=\"graphics-symbol\" aria-roledescription=\"point\" transform=\"translate(36.32601182725503,71.84241143710366)\" d=\"M2.7386127875258306,0A2.7386127875258306,2.7386127875258306,0,1,1,-2.7386127875258306,0A2.7386127875258306,2.7386127875258306,0,1,1,2.7386127875258306,0\" stroke=\"#4c78a8\" stroke-width=\"2\" opacity=\"0.7\"/><path aria-label=\"x1: 5.86774205039; x2: −2.05195464133; y: 2\" role=\"graphics-symbol\" aria-roledescription=\"point\" transform=\"translate(178.6774205039253,183.70744150278685)\" d=\"M2.7386127875258306,0A2.7386127875258306,2.7386127875258306,0,1,1,-2.7386127875258306,0A2.7386127875258306,2.7386127875258306,0,1,1,2.7386127875258306,0\" stroke=\"#f58518\" stroke-width=\"2\" opacity=\"0.7\"/><path aria-label=\"x1: −8.51778556481; x2: 0.182827416492; y: 1\" role=\"graphics-symbol\" aria-roledescription=\"point\" transform=\"translate(34.82214435193768,102.442639400308)\" d=\"M2.7386127875258306,0A2.7386127875258306,2.7386127875258306,0,1,1,-2.7386127875258306,0A2.7386127875258306,2.7386127875258306,0,1,1,2.7386127875258306,0\" stroke=\"#4c78a8\" stroke-width=\"2\" opacity=\"0.7\"/><path aria-label=\"x1: −8.67649948835; x2: −0.247607783869; y: 1\" role=\"graphics-symbol\" aria-roledescription=\"point\" transform=\"translate(33.2350051164852,118.09482850433)\" d=\"M2.7386127875258306,0A2.7386127875258306,2.7386127875258306,0,1,1,-2.7386127875258306,0A2.7386127875258306,2.7386127875258306,0,1,1,2.7386127875258306,0\" stroke=\"#4c78a8\" stroke-width=\"2\" opacity=\"0.7\"/><path aria-label=\"x1: −9.38901184379; x2: −0.132498695619; y: 1\" role=\"graphics-symbol\" aria-roledescription=\"point\" transform=\"translate(26.109881562061478,113.90904347704671)\" d=\"M2.7386127875258306,0A2.7386127875258306,2.7386127875258306,0,1,1,-2.7386127875258306,0A2.7386127875258306,2.7386127875258306,0,1,1,2.7386127875258306,0\" stroke=\"#4c78a8\" stroke-width=\"2\" opacity=\"0.7\"/><path aria-label=\"x1: −7.98134509196; x2: 1.3557228809; y: 1\" role=\"graphics-symbol\" aria-roledescription=\"point\" transform=\"translate(40.18654908041241,59.7918952401008)\" d=\"M2.7386127875258306,0A2.7386127875258306,2.7386127875258306,0,1,1,-2.7386127875258306,0A2.7386127875258306,2.7386127875258306,0,1,1,2.7386127875258306,0\" stroke=\"#4c78a8\" stroke-width=\"2\" opacity=\"0.7\"/><path aria-label=\"x1: −9.35988430905; x2: −0.295858619751; y: 1\" role=\"graphics-symbol\" aria-roledescription=\"point\" transform=\"translate(26.401156909509016,119.8494043545751)\" d=\"M2.7386127875258306,0A2.7386127875258306,2.7386127875258306,0,1,1,-2.7386127875258306,0A2.7386127875258306,2.7386127875258306,0,1,1,2.7386127875258306,0\" stroke=\"#4c78a8\" stroke-width=\"2\" opacity=\"0.7\"/><path aria-label=\"x1: 6.02855291295; x2: −2.02613384392; y: 2\" role=\"graphics-symbol\" aria-roledescription=\"point\" transform=\"translate(180.28552912949618,182.76850341527702)\" d=\"M2.7386127875258306,0A2.7386127875258306,2.7386127875258306,0,1,1,-2.7386127875258306,0A2.7386127875258306,2.7386127875258306,0,1,1,2.7386127875258306,0\" stroke=\"#f58518\" stroke-width=\"2\" opacity=\"0.7\"/><path aria-label=\"x1: 5.99307764628; x2: −2.08387871745; y: 2\" role=\"graphics-symbol\" aria-roledescription=\"point\" transform=\"translate(179.93077646284615,184.8683169980327)\" d=\"M2.7386127875258306,0A2.7386127875258306,2.7386127875258306,0,1,1,-2.7386127875258306,0A2.7386127875258306,2.7386127875258306,0,1,1,2.7386127875258306,0\" stroke=\"#f58518\" stroke-width=\"2\" opacity=\"0.7\"/><path aria-label=\"x1: −8.84530551848; x2: 1.35581251078; y: 1\" role=\"graphics-symbol\" aria-roledescription=\"point\" transform=\"translate(31.54694481517947,59.78863597162692)\" d=\"M2.7386127875258306,0A2.7386127875258306,2.7386127875258306,0,1,1,-2.7386127875258306,0A2.7386127875258306,2.7386127875258306,0,1,1,2.7386127875258306,0\" stroke=\"#4c78a8\" stroke-width=\"2\" opacity=\"0.7\"/><path aria-label=\"x1: 6.09855084335; x2: −2.10049890275; y: 2\" role=\"graphics-symbol\" aria-roledescription=\"point\" transform=\"translate(180.9855084334941,185.47268737271705)\" d=\"M2.7386127875258306,0A2.7386127875258306,2.7386127875258306,0,1,1,-2.7386127875258306,0A2.7386127875258306,2.7386127875258306,0,1,1,2.7386127875258306,0\" stroke=\"#f58518\" stroke-width=\"2\" opacity=\"0.7\"/><path aria-label=\"x1: 5.98961465848; x2: −1.95210407763; y: 2\" role=\"graphics-symbol\" aria-roledescription=\"point\" transform=\"translate(179.89614658482793,180.07651191381652)\" d=\"M2.7386127875258306,0A2.7386127875258306,2.7386127875258306,0,1,1,-2.7386127875258306,0A2.7386127875258306,2.7386127875258306,0,1,1,2.7386127875258306,0\" stroke=\"#f58518\" stroke-width=\"2\" opacity=\"0.7\"/><path aria-label=\"x1: −8.31099333335; x2: −0.125564096654; y: 1\" role=\"graphics-symbol\" aria-roledescription=\"point\" transform=\"translate(36.890066666458345,113.65687624197966)\" d=\"M2.7386127875258306,0A2.7386127875258306,2.7386127875258306,0,1,1,-2.7386127875258306,0A2.7386127875258306,2.7386127875258306,0,1,1,2.7386127875258306,0\" stroke=\"#4c78a8\" stroke-width=\"2\" opacity=\"0.7\"/><path aria-label=\"x1: 5.9642961354; x2: −2.02023633707; y: 2\" role=\"graphics-symbol\" aria-roledescription=\"point\" transform=\"translate(179.642961353998,182.55404862068437)\" d=\"M2.7386127875258306,0A2.7386127875258306,2.7386127875258306,0,1,1,-2.7386127875258306,0A2.7386127875258306,2.7386127875258306,0,1,1,2.7386127875258306,0\" stroke=\"#f58518\" stroke-width=\"2\" opacity=\"0.7\"/><path aria-label=\"x1: −10.0207649729; x2: 0.509150746454; y: 1\" role=\"graphics-symbol\" aria-roledescription=\"point\" transform=\"translate(19.792350270544397,90.57633649259273)\" d=\"M2.7386127875258306,0A2.7386127875258306,2.7386127875258306,0,1,1,-2.7386127875258306,0A2.7386127875258306,2.7386127875258306,0,1,1,2.7386127875258306,0\" stroke=\"#4c78a8\" stroke-width=\"2\" opacity=\"0.7\"/><path aria-label=\"x1: −9.15912852321; x2: −0.21135314308; y: 1\" role=\"graphics-symbol\" aria-roledescription=\"point\" transform=\"translate(28.408714767895273,116.77647793018622)\" d=\"M2.7386127875258306,0A2.7386127875258306,2.7386127875258306,0,1,1,-2.7386127875258306,0A2.7386127875258306,2.7386127875258306,0,1,1,2.7386127875258306,0\" stroke=\"#4c78a8\" stroke-width=\"2\" opacity=\"0.7\"/><path aria-label=\"x1: 6.02820477318; x2: −2.11742542848; y: 2\" role=\"graphics-symbol\" aria-roledescription=\"point\" transform=\"translate(180.28204773177853,186.08819739916945)\" d=\"M2.7386127875258306,0A2.7386127875258306,2.7386127875258306,0,1,1,-2.7386127875258306,0A2.7386127875258306,2.7386127875258306,0,1,1,2.7386127875258306,0\" stroke=\"#f58518\" stroke-width=\"2\" opacity=\"0.7\"/><path aria-label=\"x1: −8.52546436264; x2: 0.0149431223848; y: 1\" role=\"graphics-symbol\" aria-roledescription=\"point\" transform=\"translate(34.74535637362065,108.54752282237223)\" d=\"M2.7386127875258306,0A2.7386127875258306,2.7386127875258306,0,1,1,-2.7386127875258306,0A2.7386127875258306,2.7386127875258306,0,1,1,2.7386127875258306,0\" stroke=\"#4c78a8\" stroke-width=\"2\" opacity=\"0.7\"/><path aria-label=\"x1: 5.76805865183; x2: −2.04531408722; y: 2\" role=\"graphics-symbol\" aria-roledescription=\"point\" transform=\"translate(177.6805865182903,183.4659668081387)\" d=\"M2.7386127875258306,0A2.7386127875258306,2.7386127875258306,0,1,1,-2.7386127875258306,0A2.7386127875258306,2.7386127875258306,0,1,1,2.7386127875258306,0\" stroke=\"#f58518\" stroke-width=\"2\" opacity=\"0.7\"/><path aria-label=\"x1: −9.30013892674; x2: 0.531405710708; y: 1\" role=\"graphics-symbol\" aria-roledescription=\"point\" transform=\"translate(26.99861073255736,89.76706506515416)\" d=\"M2.7386127875258306,0A2.7386127875258306,2.7386127875258306,0,1,1,-2.7386127875258306,0A2.7386127875258306,2.7386127875258306,0,1,1,2.7386127875258306,0\" stroke=\"#4c78a8\" stroke-width=\"2\" opacity=\"0.7\"/><path aria-label=\"x1: 5.88513118223; x2: −1.94391635639; y: 2\" role=\"graphics-symbol\" aria-roledescription=\"point\" transform=\"translate(178.85131182230575,179.77877659616263)\" d=\"M2.7386127875258306,0A2.7386127875258306,2.7386127875258306,0,1,1,-2.7386127875258306,0A2.7386127875258306,2.7386127875258306,0,1,1,2.7386127875258306,0\" stroke=\"#f58518\" stroke-width=\"2\" opacity=\"0.7\"/><path aria-label=\"x1: 6.04134804458; x2: −2.15514466862; y: 2\" role=\"graphics-symbol\" aria-roledescription=\"point\" transform=\"translate(180.41348044575093,187.4598061317954)\" d=\"M2.7386127875258306,0A2.7386127875258306,2.7386127875258306,0,1,1,-2.7386127875258306,0A2.7386127875258306,2.7386127875258306,0,1,1,2.7386127875258306,0\" stroke=\"#f58518\" stroke-width=\"2\" opacity=\"0.7\"/><path aria-label=\"x1: −8.96138727098; x2: −0.609609828007; y: 1\" role=\"graphics-symbol\" aria-roledescription=\"point\" transform=\"translate(30.38612729022233,131.2585392002672)\" d=\"M2.7386127875258306,0A2.7386127875258306,2.7386127875258306,0,1,1,-2.7386127875258306,0A2.7386127875258306,2.7386127875258306,0,1,1,2.7386127875258306,0\" stroke=\"#4c78a8\" stroke-width=\"2\" opacity=\"0.7\"/><path aria-label=\"x1: 5.99198045997; x2: −2.23671114467; y: 2\" role=\"graphics-symbol\" aria-roledescription=\"point\" transform=\"translate(179.9198045997223,190.42585980607737)\" d=\"M2.7386127875258306,0A2.7386127875258306,2.7386127875258306,0,1,1,-2.7386127875258306,0A2.7386127875258306,2.7386127875258306,0,1,1,2.7386127875258306,0\" stroke=\"#f58518\" stroke-width=\"2\" opacity=\"0.7\"/><path aria-label=\"x1: 5.83201686459; x2: −2.03275177006; y: 2\" role=\"graphics-symbol\" aria-roledescription=\"point\" transform=\"translate(178.32016864590716,183.00915527489965)\" d=\"M2.7386127875258306,0A2.7386127875258306,2.7386127875258306,0,1,1,-2.7386127875258306,0A2.7386127875258306,2.7386127875258306,0,1,1,2.7386127875258306,0\" stroke=\"#f58518\" stroke-width=\"2\" opacity=\"0.7\"/><path aria-label=\"x1: 5.8050169113; x2: −2.27328400741; y: 2\" role=\"graphics-symbol\" aria-roledescription=\"point\" transform=\"translate(178.050169113005,191.75578208776687)\" d=\"M2.7386127875258306,0A2.7386127875258306,2.7386127875258306,0,1,1,-2.7386127875258306,0A2.7386127875258306,2.7386127875258306,0,1,1,2.7386127875258306,0\" stroke=\"#f58518\" stroke-width=\"2\" opacity=\"0.7\"/><path aria-label=\"x1: −8.18522452281; x2: −0.0090330375063; y: 1\" role=\"graphics-symbol\" aria-roledescription=\"point\" transform=\"translate(38.147754771870765,109.41938318204718)\" d=\"M2.7386127875258306,0A2.7386127875258306,2.7386127875258306,0,1,1,-2.7386127875258306,0A2.7386127875258306,2.7386127875258306,0,1,1,2.7386127875258306,0\" stroke=\"#4c78a8\" stroke-width=\"2\" opacity=\"0.7\"/><path aria-label=\"x1: 6.04673364362; x2: −1.86863126931; y: 2\" role=\"graphics-symbol\" aria-roledescription=\"point\" transform=\"translate(180.46733643622755,177.04113706581285)\" d=\"M2.7386127875258306,0A2.7386127875258306,2.7386127875258306,0,1,1,-2.7386127875258306,0A2.7386127875258306,2.7386127875258306,0,1,1,2.7386127875258306,0\" stroke=\"#f58518\" stroke-width=\"2\" opacity=\"0.7\"/><path aria-label=\"x1: −9.38482033257; x2: 0.286972826552; y: 1\" role=\"graphics-symbol\" aria-roledescription=\"point\" transform=\"translate(26.151796674295813,98.6555335799155)\" d=\"M2.7386127875258306,0A2.7386127875258306,2.7386127875258306,0,1,1,-2.7386127875258306,0A2.7386127875258306,2.7386127875258306,0,1,1,2.7386127875258306,0\" stroke=\"#4c78a8\" stroke-width=\"2\" opacity=\"0.7\"/><path aria-label=\"x1: −9.06963023475; x2: 0.0932068888959; y: 1\" role=\"graphics-symbol\" aria-roledescription=\"point\" transform=\"translate(29.303697652461956,105.7015676765141)\" d=\"M2.7386127875258306,0A2.7386127875258306,2.7386127875258306,0,1,1,-2.7386127875258306,0A2.7386127875258306,2.7386127875258306,0,1,1,2.7386127875258306,0\" stroke=\"#4c78a8\" stroke-width=\"2\" opacity=\"0.7\"/><path aria-label=\"x1: 5.9704851298; x2: −2.02504107387; y: 2\" role=\"graphics-symbol\" aria-roledescription=\"point\" transform=\"translate(179.70485129797225,182.72876632265107)\" d=\"M2.7386127875258306,0A2.7386127875258306,2.7386127875258306,0,1,1,-2.7386127875258306,0A2.7386127875258306,2.7386127875258306,0,1,1,2.7386127875258306,0\" stroke=\"#f58518\" stroke-width=\"2\" opacity=\"0.7\"/><path aria-label=\"x1: −6.9018584323; x2: 0.0671092309509; y: 1\" role=\"graphics-symbol\" aria-roledescription=\"point\" transform=\"translate(50.981415677047956,106.65057341996595)\" d=\"M2.7386127875258306,0A2.7386127875258306,2.7386127875258306,0,1,1,-2.7386127875258306,0A2.7386127875258306,2.7386127875258306,0,1,1,2.7386127875258306,0\" stroke=\"#4c78a8\" stroke-width=\"2\" opacity=\"0.7\"/><path aria-label=\"x1: 5.78161108589; x2: −1.88269792829; y: 2\" role=\"graphics-symbol\" aria-roledescription=\"point\" transform=\"translate(177.816110858947,177.5526519379803)\" d=\"M2.7386127875258306,0A2.7386127875258306,2.7386127875258306,0,1,1,-2.7386127875258306,0A2.7386127875258306,2.7386127875258306,0,1,1,2.7386127875258306,0\" stroke=\"#f58518\" stroke-width=\"2\" opacity=\"0.7\"/><path aria-label=\"x1: 5.95404584205; x2: −1.92464263219; y: 2\" role=\"graphics-symbol\" aria-roledescription=\"point\" transform=\"translate(179.5404584204687,179.0779138976546)\" d=\"M2.7386127875258306,0A2.7386127875258306,2.7386127875258306,0,1,1,-2.7386127875258306,0A2.7386127875258306,2.7386127875258306,0,1,1,2.7386127875258306,0\" stroke=\"#f58518\" stroke-width=\"2\" opacity=\"0.7\"/><path aria-label=\"x1: −7.24428925523; x2: 2.40034501895; y: 1\" role=\"graphics-symbol\" aria-roledescription=\"point\" transform=\"translate(47.557107447722274,21.80563567443512)\" d=\"M2.7386127875258306,0A2.7386127875258306,2.7386127875258306,0,1,1,-2.7386127875258306,0A2.7386127875258306,2.7386127875258306,0,1,1,2.7386127875258306,0\" stroke=\"#4c78a8\" stroke-width=\"2\" opacity=\"0.7\"/><path aria-label=\"x1: 5.8710677612; x2: −2.0264507232; y: 2\" role=\"graphics-symbol\" aria-roledescription=\"point\" transform=\"translate(178.71067761196167,182.7800262983071)\" d=\"M2.7386127875258306,0A2.7386127875258306,2.7386127875258306,0,1,1,-2.7386127875258306,0A2.7386127875258306,2.7386127875258306,0,1,1,2.7386127875258306,0\" stroke=\"#f58518\" stroke-width=\"2\" opacity=\"0.7\"/><path aria-label=\"x1: −9.08182658718; x2: 2.2216361941; y: 1\" role=\"graphics-symbol\" aria-roledescription=\"point\" transform=\"translate(29.18173412821277,28.304138396256207)\" d=\"M2.7386127875258306,0A2.7386127875258306,2.7386127875258306,0,1,1,-2.7386127875258306,0A2.7386127875258306,2.7386127875258306,0,1,1,2.7386127875258306,0\" stroke=\"#4c78a8\" stroke-width=\"2\" opacity=\"0.7\"/><path aria-label=\"x1: 5.81596323305; x2: −1.91807905777; y: 2\" role=\"graphics-symbol\" aria-roledescription=\"point\" transform=\"translate(178.159632330468,178.8392384642723)\" d=\"M2.7386127875258306,0A2.7386127875258306,2.7386127875258306,0,1,1,-2.7386127875258306,0A2.7386127875258306,2.7386127875258306,0,1,1,2.7386127875258306,0\" stroke=\"#f58518\" stroke-width=\"2\" opacity=\"0.7\"/><path aria-label=\"x1: 6.10430052311; x2: −2.09667610462; y: 2\" role=\"graphics-symbol\" aria-roledescription=\"point\" transform=\"translate(181.04300523106104,185.33367653171032)\" d=\"M2.7386127875258306,0A2.7386127875258306,2.7386127875258306,0,1,1,-2.7386127875258306,0A2.7386127875258306,2.7386127875258306,0,1,1,2.7386127875258306,0\" stroke=\"#f58518\" stroke-width=\"2\" opacity=\"0.7\"/><path aria-label=\"x1: −8.94242920206; x2: −0.703052475562; y: 1\" role=\"graphics-symbol\" aria-roledescription=\"point\" transform=\"translate(30.57570797943619,134.65645365681053)\" d=\"M2.7386127875258306,0A2.7386127875258306,2.7386127875258306,0,1,1,-2.7386127875258306,0A2.7386127875258306,2.7386127875258306,0,1,1,2.7386127875258306,0\" stroke=\"#4c78a8\" stroke-width=\"2\" opacity=\"0.7\"/><path aria-label=\"x1: −9.12966697904; x2: 2.57872719366; y: 1\" role=\"graphics-symbol\" aria-roledescription=\"point\" transform=\"translate(28.703330209569287,15.319011139660876)\" d=\"M2.7386127875258306,0A2.7386127875258306,2.7386127875258306,0,1,1,-2.7386127875258306,0A2.7386127875258306,2.7386127875258306,0,1,1,2.7386127875258306,0\" stroke=\"#4c78a8\" stroke-width=\"2\" opacity=\"0.7\"/><path aria-label=\"x1: −9.16509389474; x2: 1.63603699428; y: 1\" role=\"graphics-symbol\" aria-roledescription=\"point\" transform=\"translate(28.349061052560952,49.59865475330878)\" d=\"M2.7386127875258306,0A2.7386127875258306,2.7386127875258306,0,1,1,-2.7386127875258306,0A2.7386127875258306,2.7386127875258306,0,1,1,2.7386127875258306,0\" stroke=\"#4c78a8\" stroke-width=\"2\" opacity=\"0.7\"/><path aria-label=\"x1: 6.24377163065; x2: −2.07499397395; y: 2\" role=\"graphics-symbol\" aria-roledescription=\"point\" transform=\"translate(182.43771630648996,184.54523541622686)\" d=\"M2.7386127875258306,0A2.7386127875258306,2.7386127875258306,0,1,1,-2.7386127875258306,0A2.7386127875258306,2.7386127875258306,0,1,1,2.7386127875258306,0\" stroke=\"#f58518\" stroke-width=\"2\" opacity=\"0.7\"/><path aria-label=\"x1: −7.37840311951; x2: 0.487858837645; y: 1\" role=\"graphics-symbol\" aria-roledescription=\"point\" transform=\"translate(46.21596880491592,91.350587722009)\" d=\"M2.7386127875258306,0A2.7386127875258306,2.7386127875258306,0,1,1,-2.7386127875258306,0A2.7386127875258306,2.7386127875258306,0,1,1,2.7386127875258306,0\" stroke=\"#4c78a8\" stroke-width=\"2\" opacity=\"0.7\"/><path aria-label=\"x1: −9.31244774479; x2: 2.61833048535; y: 1\" role=\"graphics-symbol\" aria-roledescription=\"point\" transform=\"translate(26.875522552121677,13.878891441701535)\" d=\"M2.7386127875258306,0A2.7386127875258306,2.7386127875258306,0,1,1,-2.7386127875258306,0A2.7386127875258306,2.7386127875258306,0,1,1,2.7386127875258306,0\" stroke=\"#4c78a8\" stroke-width=\"2\" opacity=\"0.7\"/><path aria-label=\"x1: 5.9147580639; x2: −2.11312010049; y: 2\" role=\"graphics-symbol\" aria-roledescription=\"point\" transform=\"translate(179.14758063901803,185.93164001775466)\" d=\"M2.7386127875258306,0A2.7386127875258306,2.7386127875258306,0,1,1,-2.7386127875258306,0A2.7386127875258306,2.7386127875258306,0,1,1,2.7386127875258306,0\" stroke=\"#f58518\" stroke-width=\"2\" opacity=\"0.7\"/><path aria-label=\"x1: −8.21012586393; x2: 2.8636413954; y: 1\" role=\"graphics-symbol\" aria-roledescription=\"point\" transform=\"translate(37.898741360686415,4.958494712595174)\" d=\"M2.7386127875258306,0A2.7386127875258306,2.7386127875258306,0,1,1,-2.7386127875258306,0A2.7386127875258306,2.7386127875258306,0,1,1,2.7386127875258306,0\" stroke=\"#4c78a8\" stroke-width=\"2\" opacity=\"0.7\"/><path aria-label=\"x1: 5.69893466346; x2: −2.23563031228; y: 2\" role=\"graphics-symbol\" aria-roledescription=\"point\" transform=\"translate(176.98934663457712,190.38655681031625)\" d=\"M2.7386127875258306,0A2.7386127875258306,2.7386127875258306,0,1,1,-2.7386127875258306,0A2.7386127875258306,2.7386127875258306,0,1,1,2.7386127875258306,0\" stroke=\"#f58518\" stroke-width=\"2\" opacity=\"0.7\"/><path aria-label=\"x1: 6.01194133018; x2: −2.16830451858; y: 2\" role=\"graphics-symbol\" aria-roledescription=\"point\" transform=\"translate(180.11941330178033,187.93834613007354)\" d=\"M2.7386127875258306,0A2.7386127875258306,2.7386127875258306,0,1,1,-2.7386127875258306,0A2.7386127875258306,2.7386127875258306,0,1,1,2.7386127875258306,0\" stroke=\"#f58518\" stroke-width=\"2\" opacity=\"0.7\"/><path aria-label=\"x1: 5.88480714811; x2: −1.95026880053; y: 2\" role=\"graphics-symbol\" aria-roledescription=\"point\" transform=\"translate(178.84807148114513,180.0097745647512)\" d=\"M2.7386127875258306,0A2.7386127875258306,2.7386127875258306,0,1,1,-2.7386127875258306,0A2.7386127875258306,2.7386127875258306,0,1,1,2.7386127875258306,0\" stroke=\"#f58518\" stroke-width=\"2\" opacity=\"0.7\"/><path aria-label=\"x1: −9.44202762682; x2: 1.63134618438; y: 1\" role=\"graphics-symbol\" aria-roledescription=\"point\" transform=\"translate(25.57972373181737,49.769229658817046)\" d=\"M2.7386127875258306,0A2.7386127875258306,2.7386127875258306,0,1,1,-2.7386127875258306,0A2.7386127875258306,2.7386127875258306,0,1,1,2.7386127875258306,0\" stroke=\"#4c78a8\" stroke-width=\"2\" opacity=\"0.7\"/><path aria-label=\"x1: 6.05808190873; x2: −2.09238739057; y: 2\" role=\"graphics-symbol\" aria-roledescription=\"point\" transform=\"translate(180.5808190872537,185.17772329347375)\" d=\"M2.7386127875258306,0A2.7386127875258306,2.7386127875258306,0,1,1,-2.7386127875258306,0A2.7386127875258306,2.7386127875258306,0,1,1,2.7386127875258306,0\" stroke=\"#f58518\" stroke-width=\"2\" opacity=\"0.7\"/><path aria-label=\"x1: −9.58498880129; x2: 0.016415922233; y: 1\" role=\"graphics-symbol\" aria-roledescription=\"point\" transform=\"translate(24.150111987105163,108.49396646425325)\" d=\"M2.7386127875258306,0A2.7386127875258306,2.7386127875258306,0,1,1,-2.7386127875258306,0A2.7386127875258306,2.7386127875258306,0,1,1,2.7386127875258306,0\" stroke=\"#4c78a8\" stroke-width=\"2\" opacity=\"0.7\"/><path aria-label=\"x1: −9.97157138802; x2: 1.77846175996; y: 1\" role=\"graphics-symbol\" aria-roledescription=\"point\" transform=\"translate(20.28428611981294,44.41957236506169)\" d=\"M2.7386127875258306,0A2.7386127875258306,2.7386127875258306,0,1,1,-2.7386127875258306,0A2.7386127875258306,2.7386127875258306,0,1,1,2.7386127875258306,0\" stroke=\"#4c78a8\" stroke-width=\"2\" opacity=\"0.7\"/><path aria-label=\"x1: 5.89445924115; x2: −2.12350956657; y: 2\" role=\"graphics-symbol\" aria-roledescription=\"point\" transform=\"translate(178.94459241150128,186.30943878442199)\" d=\"M2.7386127875258306,0A2.7386127875258306,2.7386127875258306,0,1,1,-2.7386127875258306,0A2.7386127875258306,2.7386127875258306,0,1,1,2.7386127875258306,0\" stroke=\"#f58518\" stroke-width=\"2\" opacity=\"0.7\"/></g><g class=\"mark-group role-legend\" role=\"graphics-symbol\" aria-roledescription=\"legend\" aria-label=\"Symbol legend titled 'y' for stroke color with 2 values: 1, 2\"><g transform=\"translate(218,0)\"><path class=\"background\" aria-hidden=\"true\" d=\"M0,0h22v45h-22Z\" pointer-events=\"none\"/><g><g class=\"mark-group role-legend-entry\"><g transform=\"translate(0,16)\"><path class=\"background\" aria-hidden=\"true\" d=\"M0,0h0v0h0Z\" pointer-events=\"none\"/><g><g class=\"mark-group role-scope\" role=\"graphics-object\" aria-roledescription=\"group mark container\"><g transform=\"translate(0,0)\"><path class=\"background\" aria-hidden=\"true\" d=\"M0,0h22v12.5h-22Z\" pointer-events=\"none\" opacity=\"1\"/><g><g class=\"mark-symbol role-legend-symbol\" pointer-events=\"none\"><path transform=\"translate(6,6)\" d=\"M5,0A5,5,0,1,1,-5,0A5,5,0,1,1,5,0\" stroke=\"#4c78a8\" stroke-width=\"1.5\" opacity=\"0.7\"/></g><g class=\"mark-text role-legend-label\" pointer-events=\"none\"><text text-anchor=\"start\" transform=\"translate(16,9)\" font-family=\"sans-serif\" font-size=\"10px\" fill=\"#000\" opacity=\"1\">1</text></g></g><path class=\"foreground\" aria-hidden=\"true\" d=\"\" pointer-events=\"none\" display=\"none\"/></g><g transform=\"translate(0,16)\"><path class=\"background\" aria-hidden=\"true\" d=\"M0,0h22v12.5h-22Z\" pointer-events=\"none\" opacity=\"1\"/><g><g class=\"mark-symbol role-legend-symbol\" pointer-events=\"none\"><path transform=\"translate(6,6)\" d=\"M5,0A5,5,0,1,1,-5,0A5,5,0,1,1,5,0\" stroke=\"#f58518\" stroke-width=\"1.5\" opacity=\"0.7\"/></g><g class=\"mark-text role-legend-label\" pointer-events=\"none\"><text text-anchor=\"start\" transform=\"translate(16,9)\" font-family=\"sans-serif\" font-size=\"10px\" fill=\"#000\" opacity=\"1\">2</text></g></g><path class=\"foreground\" aria-hidden=\"true\" d=\"\" pointer-events=\"none\" display=\"none\"/></g></g></g><path class=\"foreground\" aria-hidden=\"true\" d=\"\" pointer-events=\"none\" display=\"none\"/></g></g><g class=\"mark-text role-legend-title\" pointer-events=\"none\"><text text-anchor=\"start\" transform=\"translate(0,9)\" font-family=\"sans-serif\" font-size=\"11px\" font-weight=\"bold\" fill=\"#000\" opacity=\"1\">y</text></g></g><path class=\"foreground\" aria-hidden=\"true\" d=\"\" pointer-events=\"none\" display=\"none\"/></g></g></g><path class=\"foreground\" aria-hidden=\"true\" d=\"\" display=\"none\"/></g></g></g></svg>\n"
      ],
      "text/plain": [
       "@vlplot(\n",
       "    mark=\"point\",\n",
       "    encoding={\n",
       "        x={\n",
       "            field=\"x1\"\n",
       "        },\n",
       "        y={\n",
       "            field=\"x2\"\n",
       "        },\n",
       "        color={\n",
       "            field=\"y\",\n",
       "            type=\"nominal\"\n",
       "        }\n",
       "    },\n",
       "    data={\n",
       "        values=...\n",
       "    }\n",
       ")"
      ]
     },
     "execution_count": 32,
     "metadata": {},
     "output_type": "execute_result"
    }
   ],
   "source": [
    "using VegaLite\n",
    "dfBlobs |> @vlplot(:point, x=:x1, y=:x2, color = :\"y:n\") "
   ]
  },
  {
   "cell_type": "code",
   "execution_count": 33,
   "id": "selected-antarctica",
   "metadata": {},
   "outputs": [
    {
     "data": {
      "text/plain": [
       "100-element Vector{Float64}:\n",
       " 2.0\n",
       " 2.0\n",
       " 1.0\n",
       " 2.0\n",
       " 2.0\n",
       " 2.0\n",
       " 2.0\n",
       " 1.0\n",
       " 2.0\n",
       " 2.0\n",
       " 2.0\n",
       " 2.0\n",
       " 1.0\n",
       " ⋮\n",
       " 1.0\n",
       " 1.0\n",
       " 2.0\n",
       " 1.0\n",
       " 2.0\n",
       " 2.0\n",
       " 2.0\n",
       " 1.0\n",
       " 2.0\n",
       " 1.0\n",
       " 1.0\n",
       " 2.0"
      ]
     },
     "execution_count": 33,
     "metadata": {},
     "output_type": "execute_result"
    }
   ],
   "source": [
    "X = MLJ.Tables.matrix(X)\n",
    "Y = float(Y)"
   ]
  },
  {
   "cell_type": "code",
   "execution_count": 34,
   "id": "wanted-chicken",
   "metadata": {},
   "outputs": [
    {
     "data": {
      "text/plain": [
       "Main.svm.SVM(0.001f0, 150, 0.01f0, Main.svm.linear_kernel, [0.6742719730056729 0.8837253526056797 … 0.29142080690374117 0.5178072510868968], [0.337054910565643], [6.036862517517972 -2.0653391143205946; 6.066968967495714 -2.05186874923293; … ; -9.971571388018706 1.7784617599608032; 5.894459241150128 -2.1235095665716046])"
      ]
     },
     "execution_count": 34,
     "metadata": {},
     "output_type": "execute_result"
    }
   ],
   "source": [
    "svm_entity = svm.fit(svm.SVM(), X, Y)"
   ]
  },
  {
   "cell_type": "code",
   "execution_count": 35,
   "id": "jewish-personality",
   "metadata": {},
   "outputs": [
    {
     "data": {
      "text/plain": [
       "100×1 Matrix{Float64}:\n",
       " -132.864039527628\n",
       " -134.64632042731904\n",
       "  319.55816920095526\n",
       " -126.61895291038746\n",
       " -136.9650129983245\n",
       " -142.82513360020835\n",
       " -123.05010347756823\n",
       "  208.94577031238586\n",
       " -132.28419724373055\n",
       " -133.50615848670336\n",
       " -128.59252385373347\n",
       " -135.53017142679255\n",
       "  385.7221561695223\n",
       "    ⋮\n",
       "  258.9190118399927\n",
       "  232.5112481171041\n",
       " -125.95778927707416\n",
       "  178.91379492812268\n",
       " -111.96089923930464\n",
       " -127.07038839068154\n",
       " -132.47437358665815\n",
       "  283.876244506109\n",
       " -132.40151751813823\n",
       "  365.2859725911747\n",
       "  297.1620231851776\n",
       " -124.69462810261497"
      ]
     },
     "execution_count": 35,
     "metadata": {},
     "output_type": "execute_result"
    }
   ],
   "source": [
    "res = svm.predict_score(svm_entity, X)"
   ]
  },
  {
   "cell_type": "code",
   "execution_count": 36,
   "id": "center-april",
   "metadata": {},
   "outputs": [
    {
     "data": {
      "text/plain": [
       "0.99"
      ]
     },
     "execution_count": 36,
     "metadata": {},
     "output_type": "execute_result"
    }
   ],
   "source": [
    "svm.get_accuracy(res, Y)"
   ]
  },
  {
   "cell_type": "code",
   "execution_count": null,
   "id": "accredited-horizon",
   "metadata": {},
   "outputs": [],
   "source": []
  }
 ],
 "metadata": {
  "kernelspec": {
   "display_name": "Julia 1.8.3",
   "language": "julia",
   "name": "julia-1.8"
  },
  "language_info": {
   "file_extension": ".jl",
   "mimetype": "application/julia",
   "name": "julia",
   "version": "1.8.3"
  }
 },
 "nbformat": 4,
 "nbformat_minor": 5
}
