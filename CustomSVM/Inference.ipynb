{
 "cells": [
  {
   "cell_type": "code",
   "execution_count": 17,
   "id": "floating-register",
   "metadata": {},
   "outputs": [],
   "source": [
    "using Random\n",
    "using LinearAlgebra\n",
    "using Zygote\n",
    "using Statistics\n",
    "using Flux\n",
    "import MLJ\n",
    "import DataFrames"
   ]
  },
  {
   "cell_type": "code",
   "execution_count": 45,
   "id": "invisible-liverpool",
   "metadata": {},
   "outputs": [
    {
     "name": "stderr",
     "output_type": "stream",
     "text": [
      "WARNING: replacing module svm.\n"
     ]
    }
   ],
   "source": [
    "include(\"./SVM.jl\")\n",
    "using .svm"
   ]
  },
  {
   "cell_type": "code",
   "execution_count": 38,
   "id": "answering-broadway",
   "metadata": {},
   "outputs": [
    {
     "data": {
      "text/html": [
       "<div><div style = \"float: left;\"><span>5×3 DataFrame</span></div><div style = \"clear: both;\"></div></div><div class = \"data-frame\" style = \"overflow-x: scroll;\"><table class = \"data-frame\" style = \"margin-bottom: 6px;\"><thead><tr class = \"header\"><th class = \"rowNumber\" style = \"font-weight: bold; text-align: right;\">Row</th><th style = \"text-align: left;\">x1</th><th style = \"text-align: left;\">x2</th><th style = \"text-align: left;\">y</th></tr><tr class = \"subheader headerLastRow\"><th class = \"rowNumber\" style = \"font-weight: bold; text-align: right;\"></th><th title = \"Float64\" style = \"text-align: left;\">Float64</th><th title = \"Float64\" style = \"text-align: left;\">Float64</th><th title = \"CategoricalArrays.CategoricalValue{Int64, UInt32}\" style = \"text-align: left;\">Cat…</th></tr></thead><tbody><tr><td class = \"rowNumber\" style = \"font-weight: bold; text-align: right;\">1</td><td style = \"text-align: right;\">0.689581</td><td style = \"text-align: right;\">6.16723</td><td style = \"text-align: left;\">2</td></tr><tr><td class = \"rowNumber\" style = \"font-weight: bold; text-align: right;\">2</td><td style = \"text-align: right;\">0.798824</td><td style = \"text-align: right;\">6.35842</td><td style = \"text-align: left;\">2</td></tr><tr><td class = \"rowNumber\" style = \"font-weight: bold; text-align: right;\">3</td><td style = \"text-align: right;\">0.618089</td><td style = \"text-align: right;\">6.23425</td><td style = \"text-align: left;\">2</td></tr><tr><td class = \"rowNumber\" style = \"font-weight: bold; text-align: right;\">4</td><td style = \"text-align: right;\">0.656492</td><td style = \"text-align: right;\">6.26835</td><td style = \"text-align: left;\">2</td></tr><tr><td class = \"rowNumber\" style = \"font-weight: bold; text-align: right;\">5</td><td style = \"text-align: right;\">0.773744</td><td style = \"text-align: right;\">5.93157</td><td style = \"text-align: left;\">2</td></tr></tbody></table></div>"
      ],
      "text/latex": [
       "\\begin{tabular}{r|ccc}\n",
       "\t& x1 & x2 & y\\\\\n",
       "\t\\hline\n",
       "\t& Float64 & Float64 & Cat…\\\\\n",
       "\t\\hline\n",
       "\t1 & 0.689581 & 6.16723 & 2 \\\\\n",
       "\t2 & 0.798824 & 6.35842 & 2 \\\\\n",
       "\t3 & 0.618089 & 6.23425 & 2 \\\\\n",
       "\t4 & 0.656492 & 6.26835 & 2 \\\\\n",
       "\t5 & 0.773744 & 5.93157 & 2 \\\\\n",
       "\\end{tabular}\n"
      ],
      "text/plain": [
       "\u001b[1m5×3 DataFrame\u001b[0m\n",
       "\u001b[1m Row \u001b[0m│\u001b[1m x1       \u001b[0m\u001b[1m x2      \u001b[0m\u001b[1m y    \u001b[0m\n",
       "     │\u001b[90m Float64  \u001b[0m\u001b[90m Float64 \u001b[0m\u001b[90m Cat… \u001b[0m\n",
       "─────┼─────────────────────────\n",
       "   1 │ 0.689581  6.16723  2\n",
       "   2 │ 0.798824  6.35842  2\n",
       "   3 │ 0.618089  6.23425  2\n",
       "   4 │ 0.656492  6.26835  2\n",
       "   5 │ 0.773744  5.93157  2"
      ]
     },
     "execution_count": 38,
     "metadata": {},
     "output_type": "execute_result"
    }
   ],
   "source": [
    "X, Y = MLJ.make_blobs(100, 2; centers=2, cluster_std=[1.0, 0.1])\n",
    "dfBlobs = DataFrames.DataFrame(X)\n",
    "dfBlobs.y = Y\n",
    "first(dfBlobs, 5)"
   ]
  },
  {
   "cell_type": "code",
   "execution_count": 39,
   "id": "knowing-opposition",
   "metadata": {},
   "outputs": [
    {
     "data": {
      "application/vnd.vegalite.v4+json": {
       "data": {
        "values": [
         {
          "x1": 0.6895805956141002,
          "x2": 6.167227800812517,
          "y": 2
         },
         {
          "x1": 0.7988236813464915,
          "x2": 6.358416979430302,
          "y": 2
         },
         {
          "x1": 0.6180888118430466,
          "x2": 6.234246135125298,
          "y": 2
         },
         {
          "x1": 0.6564921409413526,
          "x2": 6.268349121942374,
          "y": 2
         },
         {
          "x1": 0.7737444619042572,
          "x2": 5.931572159380032,
          "y": 2
         },
         {
          "x1": 4.990789368437193,
          "x2": -9.149162356362087,
          "y": 1
         },
         {
          "x1": 0.608337597735093,
          "x2": 6.262530464124883,
          "y": 2
         },
         {
          "x1": 0.6924880307689363,
          "x2": 6.0990764447357755,
          "y": 2
         },
         {
          "x1": 0.8364719119957063,
          "x2": 6.3127469100593565,
          "y": 2
         },
         {
          "x1": 0.8453246643598809,
          "x2": 6.230522380691848,
          "y": 2
         },
         {
          "x1": 2.85047021944116,
          "x2": -10.21088038374654,
          "y": 1
         },
         {
          "x1": 2.5971611608306646,
          "x2": -10.176052399609167,
          "y": 1
         },
         {
          "x1": 0.8962682868849089,
          "x2": 6.092367273487519,
          "y": 2
         },
         {
          "x1": 0.7168037824536552,
          "x2": 6.234124606388835,
          "y": 2
         },
         {
          "x1": 0.5160297895895403,
          "x2": 6.1292443707958935,
          "y": 2
         },
         {
          "x1": 0.6381509459425369,
          "x2": 6.153843200615765,
          "y": 2
         },
         {
          "x1": 0.7770351753693716,
          "x2": 6.156273794233406,
          "y": 2
         },
         {
          "x1": 3.9513049517116277,
          "x2": -10.159351142168237,
          "y": 1
         },
         {
          "x1": 3.6007524257187606,
          "x2": -10.750486533776874,
          "y": 1
         },
         {
          "x1": 0.8052128653302087,
          "x2": 6.203820900074706,
          "y": 2
         },
         {
          "x1": 4.89860395978371,
          "x2": -9.581824245211823,
          "y": 1
         },
         {
          "x1": 0.794948963327072,
          "x2": 6.109106087391445,
          "y": 2
         },
         {
          "x1": 0.7792913660888298,
          "x2": 6.251114104860128,
          "y": 2
         },
         {
          "x1": 1.770488990815272,
          "x2": -10.301603778583935,
          "y": 1
         },
         {
          "x1": 0.7929494640165825,
          "x2": 6.226155730320067,
          "y": 2
         },
         {
          "x1": 3.610831920064719,
          "x2": -7.82686558807831,
          "y": 1
         },
         {
          "x1": 3.709951692496556,
          "x2": -7.886269491069223,
          "y": 1
         },
         {
          "x1": 2.598024272604087,
          "x2": -10.50340122139206,
          "y": 1
         },
         {
          "x1": 3.735657181078185,
          "x2": -9.619918909535508,
          "y": 1
         },
         {
          "x1": 0.7894081055016452,
          "x2": 6.162583785954452,
          "y": 2
         },
         {
          "x1": 0.7529726087126524,
          "x2": 6.253589443050696,
          "y": 2
         },
         {
          "x1": 4.296014277176349,
          "x2": -8.927549365163127,
          "y": 1
         },
         {
          "x1": 2.87868365185849,
          "x2": -10.117887273758752,
          "y": 1
         },
         {
          "x1": 3.79530721963849,
          "x2": -10.161078313408273,
          "y": 1
         },
         {
          "x1": 0.8483151334857862,
          "x2": 6.228027835662683,
          "y": 2
         },
         {
          "x1": 2.6347728128004997,
          "x2": -7.904661279989976,
          "y": 1
         },
         {
          "x1": 3.608332163215819,
          "x2": -9.829773863213875,
          "y": 1
         },
         {
          "x1": 0.890879184654878,
          "x2": 6.176674609247914,
          "y": 2
         },
         {
          "x1": 0.654312053763008,
          "x2": 6.148831212031823,
          "y": 2
         },
         {
          "x1": 0.714544487770267,
          "x2": 6.178713895966096,
          "y": 2
         },
         {
          "x1": 3.650045466985732,
          "x2": -9.34674709453814,
          "y": 1
         },
         {
          "x1": 2.102606538403545,
          "x2": -10.160152822197894,
          "y": 1
         },
         {
          "x1": 4.007507685152653,
          "x2": -9.249582533708761,
          "y": 1
         },
         {
          "x1": 0.7306827664055645,
          "x2": 6.170918783659319,
          "y": 2
         },
         {
          "x1": 4.603459296387476,
          "x2": -9.362431202355342,
          "y": 1
         },
         {
          "x1": 0.7145936189630975,
          "x2": 5.9461156121599315,
          "y": 2
         },
         {
          "x1": 0.7601568471861373,
          "x2": 6.120898350834111,
          "y": 2
         },
         {
          "x1": 0.5968067803185559,
          "x2": 6.449923042668194,
          "y": 2
         },
         {
          "x1": 0.7721164312382801,
          "x2": 6.156910621638379,
          "y": 2
         },
         {
          "x1": 0.7692445801101278,
          "x2": 6.117994365691584,
          "y": 2
         },
         {
          "x1": 0.7548179086639947,
          "x2": 6.162068477896945,
          "y": 2
         },
         {
          "x1": 5.1121674448742915,
          "x2": -10.782586013693429,
          "y": 1
         },
         {
          "x1": 0.7370827143543532,
          "x2": 6.193405141741753,
          "y": 2
         },
         {
          "x1": 0.9168783555951014,
          "x2": 6.2087309046059485,
          "y": 2
         },
         {
          "x1": 3.700811758661309,
          "x2": -10.295558680445524,
          "y": 1
         },
         {
          "x1": 0.784228061822122,
          "x2": 6.365180646724535,
          "y": 2
         },
         {
          "x1": 0.7825087057228561,
          "x2": 6.222688257822532,
          "y": 2
         },
         {
          "x1": 1.1400556672240603,
          "x2": -10.931637524343223,
          "y": 1
         },
         {
          "x1": 1.690853789370206,
          "x2": -9.60516360263966,
          "y": 1
         },
         {
          "x1": 3.0023039871748667,
          "x2": -9.458090902918057,
          "y": 1
         },
         {
          "x1": 2.632567564718276,
          "x2": -9.684856900180943,
          "y": 1
         },
         {
          "x1": 0.6245442632066278,
          "x2": 5.968504171673614,
          "y": 2
         },
         {
          "x1": 0.7663451984487265,
          "x2": 6.177168121653095,
          "y": 2
         },
         {
          "x1": 0.6503608660194291,
          "x2": 6.118459743064719,
          "y": 2
         },
         {
          "x1": 3.34453119193771,
          "x2": -8.794241790456892,
          "y": 1
         },
         {
          "x1": 0.5205694562262189,
          "x2": 6.2234020707333455,
          "y": 2
         },
         {
          "x1": 2.384953208434581,
          "x2": -7.537804776372425,
          "y": 1
         },
         {
          "x1": 0.5947264719267817,
          "x2": 6.221596442722908,
          "y": 2
         },
         {
          "x1": 0.7312153455288777,
          "x2": 6.107055899035517,
          "y": 2
         },
         {
          "x1": 4.3333874209878,
          "x2": -10.744525465685399,
          "y": 1
         },
         {
          "x1": 4.017204246559781,
          "x2": -11.105214684205515,
          "y": 1
         },
         {
          "x1": 3.8910369896910986,
          "x2": -10.267105542319925,
          "y": 1
         },
         {
          "x1": 0.7384368671845879,
          "x2": 6.237073221588918,
          "y": 2
         },
         {
          "x1": 1.1802844280973799,
          "x2": 5.259841235192743,
          "y": 1
         },
         {
          "x1": 0.7360182594047131,
          "x2": 6.237852693371645,
          "y": 2
         },
         {
          "x1": 0.8196982185782645,
          "x2": 6.039921477878356,
          "y": 2
         },
         {
          "x1": 2.847455042261596,
          "x2": -10.13420621245817,
          "y": 1
         },
         {
          "x1": 2.8602289900708673,
          "x2": -10.04401386847721,
          "y": 1
         },
         {
          "x1": 0.6276492343968461,
          "x2": 6.157110208652393,
          "y": 2
         },
         {
          "x1": 3.417718773759435,
          "x2": -8.71605718028088,
          "y": 1
         },
         {
          "x1": 2.6163157313605394,
          "x2": -9.21517080700636,
          "y": 1
         },
         {
          "x1": 0.6324791107401687,
          "x2": 6.2784930988313405,
          "y": 2
         },
         {
          "x1": 0.919522533586414,
          "x2": 6.163972346329042,
          "y": 2
         },
         {
          "x1": 3.4230456853442837,
          "x2": -9.726183381580125,
          "y": 1
         },
         {
          "x1": 0.8607572540609185,
          "x2": 6.373604418747824,
          "y": 2
         },
         {
          "x1": 3.9988110468778726,
          "x2": -9.27906309818921,
          "y": 1
         },
         {
          "x1": 4.283412283976453,
          "x2": -8.801304578570564,
          "y": 1
         },
         {
          "x1": 2.8180466535333077,
          "x2": -9.80856212402033,
          "y": 1
         },
         {
          "x1": 4.578585847839752,
          "x2": -11.265454196887784,
          "y": 1
         },
         {
          "x1": 4.4285334799259015,
          "x2": -10.905284180284088,
          "y": 1
         },
         {
          "x1": 3.915010162523049,
          "x2": -9.909107137453763,
          "y": 1
         },
         {
          "x1": 2.0001455666160717,
          "x2": -10.018836082927786,
          "y": 1
         },
         {
          "x1": 2.825963711961241,
          "x2": -9.041215543497499,
          "y": 1
         },
         {
          "x1": 4.069680294932576,
          "x2": -8.0809595230585,
          "y": 1
         },
         {
          "x1": 3.315778415714099,
          "x2": -10.65912807870008,
          "y": 1
         },
         {
          "x1": 0.7261692620043132,
          "x2": 6.416596660575547,
          "y": 2
         },
         {
          "x1": 0.7903106044499051,
          "x2": 6.175531059247151,
          "y": 2
         },
         {
          "x1": 3.2564178931747945,
          "x2": -10.49816729805352,
          "y": 1
         },
         {
          "x1": 4.686924153189556,
          "x2": -9.780332523349673,
          "y": 1
         },
         {
          "x1": 1.5901869940878108,
          "x2": -9.845956489403227,
          "y": 1
         }
        ]
       },
       "encoding": {
        "color": {
         "field": "y",
         "type": "nominal"
        },
        "x": {
         "field": "x1",
         "type": "quantitative"
        },
        "y": {
         "field": "x2",
         "type": "quantitative"
        }
       },
       "mark": "point"
      },
      "image/png": "[encoded data removed]",
      "image/svg+xml": [
       "<?xml version=\"1.0\" encoding=\"utf-8\"?>\n",
       "<!DOCTYPE svg PUBLIC \"-//W3C//DTD SVG 1.1//EN\" \"http://www.w3.org/Graphics/SVG/1.1/DTD/svg11.dtd\">\n",
       "<svg xmlns=\"http://www.w3.org/2000/svg\" xmlns:xlink=\"http://www.w3.org/1999/xlink\" version=\"1.1\" class=\"marks\" width=\"292\" height=\"242\" viewBox=\"0 0 292 242\"><rect width=\"292\" height=\"242\" fill=\"white\"/><g fill=\"none\" stroke-miterlimit=\"10\" transform=\"translate(47,5)\"><g class=\"mark-group role-frame root\" role=\"graphics-object\" aria-roledescription=\"group mark container\"><g transform=\"translate(0,0)\"><path class=\"background\" aria-hidden=\"true\" d=\"M0.5,0.5h200v200h-200Z\" stroke=\"#ddd\"/><g><g class=\"mark-group role-axis\" aria-hidden=\"true\"><g transform=\"translate(0.5,200.5)\"><path class=\"background\" aria-hidden=\"true\" d=\"M0,0h0v0h0Z\" pointer-events=\"none\"/><g><g class=\"mark-rule role-axis-grid\" pointer-events=\"none\"><line transform=\"translate(0,-200)\" x2=\"0\" y2=\"200\" stroke=\"#ddd\" stroke-width=\"1\" opacity=\"1\"/><line transform=\"translate(36,-200)\" x2=\"0\" y2=\"200\" stroke=\"#ddd\" stroke-width=\"1\" opacity=\"1\"/><line transform=\"translate(73,-200)\" x2=\"0\" y2=\"200\" stroke=\"#ddd\" stroke-width=\"1\" opacity=\"1\"/><line transform=\"translate(109,-200)\" x2=\"0\" y2=\"200\" stroke=\"#ddd\" stroke-width=\"1\" opacity=\"1\"/><line transform=\"translate(145,-200)\" x2=\"0\" y2=\"200\" stroke=\"#ddd\" stroke-width=\"1\" opacity=\"1\"/><line transform=\"translate(182,-200)\" x2=\"0\" y2=\"200\" stroke=\"#ddd\" stroke-width=\"1\" opacity=\"1\"/></g></g><path class=\"foreground\" aria-hidden=\"true\" d=\"\" pointer-events=\"none\" display=\"none\"/></g></g><g class=\"mark-group role-axis\" aria-hidden=\"true\"><g transform=\"translate(0.5,0.5)\"><path class=\"background\" aria-hidden=\"true\" d=\"M0,0h0v0h0Z\" pointer-events=\"none\"/><g><g class=\"mark-rule role-axis-grid\" pointer-events=\"none\"><line transform=\"translate(0,180)\" x2=\"200\" y2=\"0\" stroke=\"#ddd\" stroke-width=\"1\" opacity=\"1\"/><line transform=\"translate(0,130)\" x2=\"200\" y2=\"0\" stroke=\"#ddd\" stroke-width=\"1\" opacity=\"1\"/><line transform=\"translate(0,80)\" x2=\"200\" y2=\"0\" stroke=\"#ddd\" stroke-width=\"1\" opacity=\"1\"/><line transform=\"translate(0,30)\" x2=\"200\" y2=\"0\" stroke=\"#ddd\" stroke-width=\"1\" opacity=\"1\"/></g></g><path class=\"foreground\" aria-hidden=\"true\" d=\"\" pointer-events=\"none\" display=\"none\"/></g></g><g class=\"mark-group role-axis\" role=\"graphics-symbol\" aria-roledescription=\"axis\" aria-label=\"X-axis titled 'x1' for a linear scale with values from 0 to 6\"><g transform=\"translate(0.5,200.5)\"><path class=\"background\" aria-hidden=\"true\" d=\"M0,0h0v0h0Z\" pointer-events=\"none\"/><g><g class=\"mark-rule role-axis-tick\" pointer-events=\"none\"><line transform=\"translate(0,0)\" x2=\"0\" y2=\"5\" stroke=\"#888\" stroke-width=\"1\" opacity=\"1\"/><line transform=\"translate(36,0)\" x2=\"0\" y2=\"5\" stroke=\"#888\" stroke-width=\"1\" opacity=\"1\"/><line transform=\"translate(73,0)\" x2=\"0\" y2=\"5\" stroke=\"#888\" stroke-width=\"1\" opacity=\"1\"/><line transform=\"translate(109,0)\" x2=\"0\" y2=\"5\" stroke=\"#888\" stroke-width=\"1\" opacity=\"1\"/><line transform=\"translate(145,0)\" x2=\"0\" y2=\"5\" stroke=\"#888\" stroke-width=\"1\" opacity=\"1\"/><line transform=\"translate(182,0)\" x2=\"0\" y2=\"5\" stroke=\"#888\" stroke-width=\"1\" opacity=\"1\"/></g><g class=\"mark-text role-axis-label\" pointer-events=\"none\"><text text-anchor=\"start\" transform=\"translate(0,15)\" font-family=\"sans-serif\" font-size=\"10px\" fill=\"#000\" opacity=\"1\">0</text><text text-anchor=\"middle\" transform=\"translate(36.36363636363637,15)\" font-family=\"sans-serif\" font-size=\"10px\" fill=\"#000\" opacity=\"1\">1</text><text text-anchor=\"middle\" transform=\"translate(72.72727272727273,15)\" font-family=\"sans-serif\" font-size=\"10px\" fill=\"#000\" opacity=\"1\">2</text><text text-anchor=\"middle\" transform=\"translate(109.09090909090908,15)\" font-family=\"sans-serif\" font-size=\"10px\" fill=\"#000\" opacity=\"1\">3</text><text text-anchor=\"middle\" transform=\"translate(145.45454545454547,15)\" font-family=\"sans-serif\" font-size=\"10px\" fill=\"#000\" opacity=\"1\">4</text><text text-anchor=\"middle\" transform=\"translate(181.8181818181818,15)\" font-family=\"sans-serif\" font-size=\"10px\" fill=\"#000\" opacity=\"1\">5</text></g><g class=\"mark-rule role-axis-domain\" pointer-events=\"none\"><line transform=\"translate(0,0)\" x2=\"200\" y2=\"0\" stroke=\"#888\" stroke-width=\"1\" opacity=\"1\"/></g><g class=\"mark-text role-axis-title\" pointer-events=\"none\"><text text-anchor=\"middle\" transform=\"translate(100,30)\" font-family=\"sans-serif\" font-size=\"11px\" font-weight=\"bold\" fill=\"#000\" opacity=\"1\">x1</text></g></g><path class=\"foreground\" aria-hidden=\"true\" d=\"\" pointer-events=\"none\" display=\"none\"/></g></g><g class=\"mark-group role-axis\" role=\"graphics-symbol\" aria-roledescription=\"axis\" aria-label=\"Y-axis titled 'x2' for a linear scale with values from −12 to 8\"><g transform=\"translate(0.5,0.5)\"><path class=\"background\" aria-hidden=\"true\" d=\"M0,0h0v0h0Z\" pointer-events=\"none\"/><g><g class=\"mark-rule role-axis-tick\" pointer-events=\"none\"><line transform=\"translate(0,180)\" x2=\"-5\" y2=\"0\" stroke=\"#888\" stroke-width=\"1\" opacity=\"1\"/><line transform=\"translate(0,130)\" x2=\"-5\" y2=\"0\" stroke=\"#888\" stroke-width=\"1\" opacity=\"1\"/><line transform=\"translate(0,80)\" x2=\"-5\" y2=\"0\" stroke=\"#888\" stroke-width=\"1\" opacity=\"1\"/><line transform=\"translate(0,30)\" x2=\"-5\" y2=\"0\" stroke=\"#888\" stroke-width=\"1\" opacity=\"1\"/></g><g class=\"mark-text role-axis-label\" pointer-events=\"none\"><text text-anchor=\"end\" transform=\"translate(-7,183)\" font-family=\"sans-serif\" font-size=\"10px\" fill=\"#000\" opacity=\"1\">−10</text><text text-anchor=\"end\" transform=\"translate(-7,133)\" font-family=\"sans-serif\" font-size=\"10px\" fill=\"#000\" opacity=\"1\">−5</text><text text-anchor=\"end\" transform=\"translate(-7,83)\" font-family=\"sans-serif\" font-size=\"10px\" fill=\"#000\" opacity=\"1\">0</text><text text-anchor=\"end\" transform=\"translate(-7,33)\" font-family=\"sans-serif\" font-size=\"10px\" fill=\"#000\" opacity=\"1\">5</text></g><g class=\"mark-rule role-axis-domain\" pointer-events=\"none\"><line transform=\"translate(0,200)\" x2=\"0\" y2=\"-200\" stroke=\"#888\" stroke-width=\"1\" opacity=\"1\"/></g><g class=\"mark-text role-axis-title\" pointer-events=\"none\"><text text-anchor=\"middle\" transform=\"translate(-31,100) rotate(-90) translate(0,-2)\" font-family=\"sans-serif\" font-size=\"11px\" font-weight=\"bold\" fill=\"#000\" opacity=\"1\">x2</text></g></g><path class=\"foreground\" aria-hidden=\"true\" d=\"\" pointer-events=\"none\" display=\"none\"/></g></g><g class=\"mark-symbol role-mark marks\" role=\"graphics-object\" aria-roledescription=\"symbol mark container\"><path aria-label=\"x1: 0.689580595614; x2: 6.16722780081; y: 2\" role=\"graphics-symbol\" aria-roledescription=\"point\" transform=\"translate(25.075658022330916,18.327721991874803)\" d=\"M2.7386127875258306,0A2.7386127875258306,2.7386127875258306,0,1,1,-2.7386127875258306,0A2.7386127875258306,2.7386127875258306,0,1,1,2.7386127875258306,0\" stroke=\"#f58518\" stroke-width=\"2\" opacity=\"0.7\"/><path aria-label=\"x1: 0.798823681346; x2: 6.35841697943; y: 2\" role=\"graphics-symbol\" aria-roledescription=\"point\" transform=\"translate(29.048133867145147,16.41583020569697)\" d=\"M2.7386127875258306,0A2.7386127875258306,2.7386127875258306,0,1,1,-2.7386127875258306,0A2.7386127875258306,2.7386127875258306,0,1,1,2.7386127875258306,0\" stroke=\"#f58518\" stroke-width=\"2\" opacity=\"0.7\"/><path aria-label=\"x1: 0.618088811843; x2: 6.23424613513; y: 2\" role=\"graphics-symbol\" aria-roledescription=\"point\" transform=\"translate(22.475956794292607,17.65753864874704)\" d=\"M2.7386127875258306,0A2.7386127875258306,2.7386127875258306,0,1,1,-2.7386127875258306,0A2.7386127875258306,2.7386127875258306,0,1,1,2.7386127875258306,0\" stroke=\"#f58518\" stroke-width=\"2\" opacity=\"0.7\"/><path aria-label=\"x1: 0.656492140941; x2: 6.26834912194; y: 2\" role=\"graphics-symbol\" aria-roledescription=\"point\" transform=\"translate(23.872441488776456,17.316508780576246)\" d=\"M2.7386127875258306,0A2.7386127875258306,2.7386127875258306,0,1,1,-2.7386127875258306,0A2.7386127875258306,2.7386127875258306,0,1,1,2.7386127875258306,0\" stroke=\"#f58518\" stroke-width=\"2\" opacity=\"0.7\"/><path aria-label=\"x1: 0.773744461904; x2: 5.93157215938; y: 2\" role=\"graphics-symbol\" aria-roledescription=\"point\" transform=\"translate(28.136162251063894,20.684278406199684)\" d=\"M2.7386127875258306,0A2.7386127875258306,2.7386127875258306,0,1,1,-2.7386127875258306,0A2.7386127875258306,2.7386127875258306,0,1,1,2.7386127875258306,0\" stroke=\"#f58518\" stroke-width=\"2\" opacity=\"0.7\"/><path aria-label=\"x1: 4.99078936844; x2: −9.14916235636; y: 1\" role=\"graphics-symbol\" aria-roledescription=\"point\" transform=\"translate(181.48324976135248,171.49162356362086)\" d=\"M2.7386127875258306,0A2.7386127875258306,2.7386127875258306,0,1,1,-2.7386127875258306,0A2.7386127875258306,2.7386127875258306,0,1,1,2.7386127875258306,0\" stroke=\"#4c78a8\" stroke-width=\"2\" opacity=\"0.7\"/><path aria-label=\"x1: 0.608337597735; x2: 6.26253046412; y: 2\" role=\"graphics-symbol\" aria-roledescription=\"point\" transform=\"translate(22.121367190367017,17.37469535875118)\" d=\"M2.7386127875258306,0A2.7386127875258306,2.7386127875258306,0,1,1,-2.7386127875258306,0A2.7386127875258306,2.7386127875258306,0,1,1,2.7386127875258306,0\" stroke=\"#f58518\" stroke-width=\"2\" opacity=\"0.7\"/><path aria-label=\"x1: 0.692488030769; x2: 6.09907644474; y: 2\" role=\"graphics-symbol\" aria-roledescription=\"point\" transform=\"translate(25.181382937052227,19.009235552642245)\" d=\"M2.7386127875258306,0A2.7386127875258306,2.7386127875258306,0,1,1,-2.7386127875258306,0A2.7386127875258306,2.7386127875258306,0,1,1,2.7386127875258306,0\" stroke=\"#f58518\" stroke-width=\"2\" opacity=\"0.7\"/><path aria-label=\"x1: 0.836471911996; x2: 6.31274691006; y: 2\" role=\"graphics-symbol\" aria-roledescription=\"point\" transform=\"translate(30.417160436207503,16.872530899406435)\" d=\"M2.7386127875258306,0A2.7386127875258306,2.7386127875258306,0,1,1,-2.7386127875258306,0A2.7386127875258306,2.7386127875258306,0,1,1,2.7386127875258306,0\" stroke=\"#f58518\" stroke-width=\"2\" opacity=\"0.7\"/><path aria-label=\"x1: 0.84532466436; x2: 6.23052238069; y: 2\" role=\"graphics-symbol\" aria-roledescription=\"point\" transform=\"translate(30.739078703995666,17.69477619308151)\" d=\"M2.7386127875258306,0A2.7386127875258306,2.7386127875258306,0,1,1,-2.7386127875258306,0A2.7386127875258306,2.7386127875258306,0,1,1,2.7386127875258306,0\" stroke=\"#f58518\" stroke-width=\"2\" opacity=\"0.7\"/><path aria-label=\"x1: 2.85047021944; x2: −10.2108803837; y: 1\" role=\"graphics-symbol\" aria-roledescription=\"point\" transform=\"translate(103.6534625251331,182.1088038374654)\" d=\"M2.7386127875258306,0A2.7386127875258306,2.7386127875258306,0,1,1,-2.7386127875258306,0A2.7386127875258306,2.7386127875258306,0,1,1,2.7386127875258306,0\" stroke=\"#4c78a8\" stroke-width=\"2\" opacity=\"0.7\"/><path aria-label=\"x1: 2.59716116083; x2: −10.1760523996; y: 1\" role=\"graphics-symbol\" aria-roledescription=\"point\" transform=\"translate(94.44222403020599,181.76052399609168)\" d=\"M2.7386127875258306,0A2.7386127875258306,2.7386127875258306,0,1,1,-2.7386127875258306,0A2.7386127875258306,2.7386127875258306,0,1,1,2.7386127875258306,0\" stroke=\"#4c78a8\" stroke-width=\"2\" opacity=\"0.7\"/><path aria-label=\"x1: 0.896268286885; x2: 6.09236727349; y: 2\" role=\"graphics-symbol\" aria-roledescription=\"point\" transform=\"translate(32.59157406854214,19.076327265124824)\" d=\"M2.7386127875258306,0A2.7386127875258306,2.7386127875258306,0,1,1,-2.7386127875258306,0A2.7386127875258306,2.7386127875258306,0,1,1,2.7386127875258306,0\" stroke=\"#f58518\" stroke-width=\"2\" opacity=\"0.7\"/><path aria-label=\"x1: 0.716803782454; x2: 6.23412460639; y: 2\" role=\"graphics-symbol\" aria-roledescription=\"point\" transform=\"translate(26.065592089223827,17.658753936111648)\" d=\"M2.7386127875258306,0A2.7386127875258306,2.7386127875258306,0,1,1,-2.7386127875258306,0A2.7386127875258306,2.7386127875258306,0,1,1,2.7386127875258306,0\" stroke=\"#f58518\" stroke-width=\"2\" opacity=\"0.7\"/><path aria-label=\"x1: 0.51602978959; x2: 6.1292443708; y: 2\" role=\"graphics-symbol\" aria-roledescription=\"point\" transform=\"translate(18.764719621437827,18.70755629204104)\" d=\"M2.7386127875258306,0A2.7386127875258306,2.7386127875258306,0,1,1,-2.7386127875258306,0A2.7386127875258306,2.7386127875258306,0,1,1,2.7386127875258306,0\" stroke=\"#f58518\" stroke-width=\"2\" opacity=\"0.7\"/><path aria-label=\"x1: 0.638150945943; x2: 6.15384320062; y: 2\" role=\"graphics-symbol\" aria-roledescription=\"point\" transform=\"translate(23.205488943364976,18.461567993842355)\" d=\"M2.7386127875258306,0A2.7386127875258306,2.7386127875258306,0,1,1,-2.7386127875258306,0A2.7386127875258306,2.7386127875258306,0,1,1,2.7386127875258306,0\" stroke=\"#f58518\" stroke-width=\"2\" opacity=\"0.7\"/><path aria-label=\"x1: 0.777035175369; x2: 6.15627379423; y: 2\" role=\"graphics-symbol\" aria-roledescription=\"point\" transform=\"translate(28.25582455888624,18.437262057665937)\" d=\"M2.7386127875258306,0A2.7386127875258306,2.7386127875258306,0,1,1,-2.7386127875258306,0A2.7386127875258306,2.7386127875258306,0,1,1,2.7386127875258306,0\" stroke=\"#f58518\" stroke-width=\"2\" opacity=\"0.7\"/><path aria-label=\"x1: 3.95130495171; x2: −10.1593511422; y: 1\" role=\"graphics-symbol\" aria-roledescription=\"point\" transform=\"translate(143.68381642587738,181.59351142168236)\" d=\"M2.7386127875258306,0A2.7386127875258306,2.7386127875258306,0,1,1,-2.7386127875258306,0A2.7386127875258306,2.7386127875258306,0,1,1,2.7386127875258306,0\" stroke=\"#4c78a8\" stroke-width=\"2\" opacity=\"0.7\"/><path aria-label=\"x1: 3.60075242572; x2: −10.7504865338; y: 1\" role=\"graphics-symbol\" aria-roledescription=\"point\" transform=\"translate(130.93645184431858,187.50486533776873)\" d=\"M2.7386127875258306,0A2.7386127875258306,2.7386127875258306,0,1,1,-2.7386127875258306,0A2.7386127875258306,2.7386127875258306,0,1,1,2.7386127875258306,0\" stroke=\"#4c78a8\" stroke-width=\"2\" opacity=\"0.7\"/><path aria-label=\"x1: 0.80521286533; x2: 6.20382090007; y: 2\" role=\"graphics-symbol\" aria-roledescription=\"point\" transform=\"translate(29.280467830189412,17.961790999252926)\" d=\"M2.7386127875258306,0A2.7386127875258306,2.7386127875258306,0,1,1,-2.7386127875258306,0A2.7386127875258306,2.7386127875258306,0,1,1,2.7386127875258306,0\" stroke=\"#f58518\" stroke-width=\"2\" opacity=\"0.7\"/><path aria-label=\"x1: 4.89860395978; x2: −9.58182424521; y: 1\" role=\"graphics-symbol\" aria-roledescription=\"point\" transform=\"translate(178.131053083044,175.81824245211823)\" d=\"M2.7386127875258306,0A2.7386127875258306,2.7386127875258306,0,1,1,-2.7386127875258306,0A2.7386127875258306,2.7386127875258306,0,1,1,2.7386127875258306,0\" stroke=\"#4c78a8\" stroke-width=\"2\" opacity=\"0.7\"/><path aria-label=\"x1: 0.794948963327; x2: 6.10910608739; y: 2\" role=\"graphics-symbol\" aria-roledescription=\"point\" transform=\"translate(28.907235030075345,18.908939126085535)\" d=\"M2.7386127875258306,0A2.7386127875258306,2.7386127875258306,0,1,1,-2.7386127875258306,0A2.7386127875258306,2.7386127875258306,0,1,1,2.7386127875258306,0\" stroke=\"#f58518\" stroke-width=\"2\" opacity=\"0.7\"/><path aria-label=\"x1: 0.779291366089; x2: 6.25111410486; y: 2\" role=\"graphics-symbol\" aria-roledescription=\"point\" transform=\"translate(28.337867857775628,17.48885895139871)\" d=\"M2.7386127875258306,0A2.7386127875258306,2.7386127875258306,0,1,1,-2.7386127875258306,0A2.7386127875258306,2.7386127875258306,0,1,1,2.7386127875258306,0\" stroke=\"#f58518\" stroke-width=\"2\" opacity=\"0.7\"/><path aria-label=\"x1: 1.77048899082; x2: −10.3016037786; y: 1\" role=\"graphics-symbol\" aria-roledescription=\"point\" transform=\"translate(64.38141784782808,183.01603778583936)\" d=\"M2.7386127875258306,0A2.7386127875258306,2.7386127875258306,0,1,1,-2.7386127875258306,0A2.7386127875258306,2.7386127875258306,0,1,1,2.7386127875258306,0\" stroke=\"#4c78a8\" stroke-width=\"2\" opacity=\"0.7\"/><path aria-label=\"x1: 0.792949464017; x2: 6.22615573032; y: 2\" role=\"graphics-symbol\" aria-roledescription=\"point\" transform=\"translate(28.834525964239365,17.73844269679934)\" d=\"M2.7386127875258306,0A2.7386127875258306,2.7386127875258306,0,1,1,-2.7386127875258306,0A2.7386127875258306,2.7386127875258306,0,1,1,2.7386127875258306,0\" stroke=\"#f58518\" stroke-width=\"2\" opacity=\"0.7\"/><path aria-label=\"x1: 3.61083192006; x2: −7.82686558808; y: 1\" role=\"graphics-symbol\" aria-roledescription=\"point\" transform=\"translate(131.30297891144434,158.2686558807831)\" d=\"M2.7386127875258306,0A2.7386127875258306,2.7386127875258306,0,1,1,-2.7386127875258306,0A2.7386127875258306,2.7386127875258306,0,1,1,2.7386127875258306,0\" stroke=\"#4c78a8\" stroke-width=\"2\" opacity=\"0.7\"/><path aria-label=\"x1: 3.7099516925; x2: −7.88626949107; y: 1\" role=\"graphics-symbol\" aria-roledescription=\"point\" transform=\"translate(134.90733427260204,158.86269491069223)\" d=\"M2.7386127875258306,0A2.7386127875258306,2.7386127875258306,0,1,1,-2.7386127875258306,0A2.7386127875258306,2.7386127875258306,0,1,1,2.7386127875258306,0\" stroke=\"#4c78a8\" stroke-width=\"2\" opacity=\"0.7\"/><path aria-label=\"x1: 2.5980242726; x2: −10.5034012214; y: 1\" role=\"graphics-symbol\" aria-roledescription=\"point\" transform=\"translate(94.47360991287589,185.0340122139206)\" d=\"M2.7386127875258306,0A2.7386127875258306,2.7386127875258306,0,1,1,-2.7386127875258306,0A2.7386127875258306,2.7386127875258306,0,1,1,2.7386127875258306,0\" stroke=\"#4c78a8\" stroke-width=\"2\" opacity=\"0.7\"/><path aria-label=\"x1: 3.73565718108; x2: −9.61991890954; y: 1\" role=\"graphics-symbol\" aria-roledescription=\"point\" transform=\"translate(135.842079311934,176.19918909535508)\" d=\"M2.7386127875258306,0A2.7386127875258306,2.7386127875258306,0,1,1,-2.7386127875258306,0A2.7386127875258306,2.7386127875258306,0,1,1,2.7386127875258306,0\" stroke=\"#4c78a8\" stroke-width=\"2\" opacity=\"0.7\"/><path aria-label=\"x1: 0.789408105502; x2: 6.16258378595; y: 2\" role=\"graphics-symbol\" aria-roledescription=\"point\" transform=\"translate(28.705749290968917,18.374162140455464)\" d=\"M2.7386127875258306,0A2.7386127875258306,2.7386127875258306,0,1,1,-2.7386127875258306,0A2.7386127875258306,2.7386127875258306,0,1,1,2.7386127875258306,0\" stroke=\"#f58518\" stroke-width=\"2\" opacity=\"0.7\"/><path aria-label=\"x1: 0.752972608713; x2: 6.25358944305; y: 2\" role=\"graphics-symbol\" aria-roledescription=\"point\" transform=\"translate(27.380822135005538,17.46410556949303)\" d=\"M2.7386127875258306,0A2.7386127875258306,2.7386127875258306,0,1,1,-2.7386127875258306,0A2.7386127875258306,2.7386127875258306,0,1,1,2.7386127875258306,0\" stroke=\"#f58518\" stroke-width=\"2\" opacity=\"0.7\"/><path aria-label=\"x1: 4.29601427718; x2: −8.92754936516; y: 1\" role=\"graphics-symbol\" aria-roledescription=\"point\" transform=\"translate(156.21870098823086,169.27549365163128)\" d=\"M2.7386127875258306,0A2.7386127875258306,2.7386127875258306,0,1,1,-2.7386127875258306,0A2.7386127875258306,2.7386127875258306,0,1,1,2.7386127875258306,0\" stroke=\"#4c78a8\" stroke-width=\"2\" opacity=\"0.7\"/><path aria-label=\"x1: 2.87868365186; x2: −10.1178872738; y: 1\" role=\"graphics-symbol\" aria-roledescription=\"point\" transform=\"translate(104.67940552212691,181.17887273758754)\" d=\"M2.7386127875258306,0A2.7386127875258306,2.7386127875258306,0,1,1,-2.7386127875258306,0A2.7386127875258306,2.7386127875258306,0,1,1,2.7386127875258306,0\" stroke=\"#4c78a8\" stroke-width=\"2\" opacity=\"0.7\"/><path aria-label=\"x1: 3.79530721964; x2: −10.1610783134; y: 1\" role=\"graphics-symbol\" aria-roledescription=\"point\" transform=\"translate(138.01117162321782,181.61078313408274)\" d=\"M2.7386127875258306,0A2.7386127875258306,2.7386127875258306,0,1,1,-2.7386127875258306,0A2.7386127875258306,2.7386127875258306,0,1,1,2.7386127875258306,0\" stroke=\"#4c78a8\" stroke-width=\"2\" opacity=\"0.7\"/><path aria-label=\"x1: 0.848315133486; x2: 6.22802783566; y: 2\" role=\"graphics-symbol\" aria-roledescription=\"point\" transform=\"translate(30.847823035846773,17.719721643373166)\" d=\"M2.7386127875258306,0A2.7386127875258306,2.7386127875258306,0,1,1,-2.7386127875258306,0A2.7386127875258306,2.7386127875258306,0,1,1,2.7386127875258306,0\" stroke=\"#f58518\" stroke-width=\"2\" opacity=\"0.7\"/><path aria-label=\"x1: 2.6347728128; x2: −7.90466127999; y: 1\" role=\"graphics-symbol\" aria-roledescription=\"point\" transform=\"translate(95.80992046547271,159.04661279989975)\" d=\"M2.7386127875258306,0A2.7386127875258306,2.7386127875258306,0,1,1,-2.7386127875258306,0A2.7386127875258306,2.7386127875258306,0,1,1,2.7386127875258306,0\" stroke=\"#4c78a8\" stroke-width=\"2\" opacity=\"0.7\"/><path aria-label=\"x1: 3.60833216322; x2: −9.82977386321; y: 1\" role=\"graphics-symbol\" aria-roledescription=\"point\" transform=\"translate(131.21207866239342,178.29773863213876)\" d=\"M2.7386127875258306,0A2.7386127875258306,2.7386127875258306,0,1,1,-2.7386127875258306,0A2.7386127875258306,2.7386127875258306,0,1,1,2.7386127875258306,0\" stroke=\"#4c78a8\" stroke-width=\"2\" opacity=\"0.7\"/><path aria-label=\"x1: 0.890879184655; x2: 6.17667460925; y: 2\" role=\"graphics-symbol\" aria-roledescription=\"point\" transform=\"translate(32.39560671472284,18.23325390752086)\" d=\"M2.7386127875258306,0A2.7386127875258306,2.7386127875258306,0,1,1,-2.7386127875258306,0A2.7386127875258306,2.7386127875258306,0,1,1,2.7386127875258306,0\" stroke=\"#f58518\" stroke-width=\"2\" opacity=\"0.7\"/><path aria-label=\"x1: 0.654312053763; x2: 6.14883121203; y: 2\" role=\"graphics-symbol\" aria-roledescription=\"point\" transform=\"translate(23.793165591382113,18.51168787968178)\" d=\"M2.7386127875258306,0A2.7386127875258306,2.7386127875258306,0,1,1,-2.7386127875258306,0A2.7386127875258306,2.7386127875258306,0,1,1,2.7386127875258306,0\" stroke=\"#f58518\" stroke-width=\"2\" opacity=\"0.7\"/><path aria-label=\"x1: 0.71454448777; x2: 6.17871389597; y: 2\" role=\"graphics-symbol\" aria-roledescription=\"point\" transform=\"translate(25.9834359189188,18.212861040339014)\" d=\"M2.7386127875258306,0A2.7386127875258306,2.7386127875258306,0,1,1,-2.7386127875258306,0A2.7386127875258306,2.7386127875258306,0,1,1,2.7386127875258306,0\" stroke=\"#f58518\" stroke-width=\"2\" opacity=\"0.7\"/><path aria-label=\"x1: 3.65004546699; x2: −9.34674709454; y: 1\" role=\"graphics-symbol\" aria-roledescription=\"point\" transform=\"translate(132.72892607220842,173.4674709453814)\" d=\"M2.7386127875258306,0A2.7386127875258306,2.7386127875258306,0,1,1,-2.7386127875258306,0A2.7386127875258306,2.7386127875258306,0,1,1,2.7386127875258306,0\" stroke=\"#4c78a8\" stroke-width=\"2\" opacity=\"0.7\"/><path aria-label=\"x1: 2.1026065384; x2: −10.1601528222; y: 1\" role=\"graphics-symbol\" aria-roledescription=\"point\" transform=\"translate(76.45841957831074,181.60152822197895)\" d=\"M2.7386127875258306,0A2.7386127875258306,2.7386127875258306,0,1,1,-2.7386127875258306,0A2.7386127875258306,2.7386127875258306,0,1,1,2.7386127875258306,0\" stroke=\"#4c78a8\" stroke-width=\"2\" opacity=\"0.7\"/><path aria-label=\"x1: 4.00750768515; x2: −9.24958253371; y: 1\" role=\"graphics-symbol\" aria-roledescription=\"point\" transform=\"translate(145.7275521873692,172.4958253370876)\" d=\"M2.7386127875258306,0A2.7386127875258306,2.7386127875258306,0,1,1,-2.7386127875258306,0A2.7386127875258306,2.7386127875258306,0,1,1,2.7386127875258306,0\" stroke=\"#4c78a8\" stroke-width=\"2\" opacity=\"0.7\"/><path aria-label=\"x1: 0.730682766406; x2: 6.17091878366; y: 2\" role=\"graphics-symbol\" aria-roledescription=\"point\" transform=\"translate(26.570282414747798,18.290812163406823)\" d=\"M2.7386127875258306,0A2.7386127875258306,2.7386127875258306,0,1,1,-2.7386127875258306,0A2.7386127875258306,2.7386127875258306,0,1,1,2.7386127875258306,0\" stroke=\"#f58518\" stroke-width=\"2\" opacity=\"0.7\"/><path aria-label=\"x1: 4.60345929639; x2: −9.36243120236; y: 1\" role=\"graphics-symbol\" aria-roledescription=\"point\" transform=\"translate(167.3985198686355,173.62431202355341)\" d=\"M2.7386127875258306,0A2.7386127875258306,2.7386127875258306,0,1,1,-2.7386127875258306,0A2.7386127875258306,2.7386127875258306,0,1,1,2.7386127875258306,0\" stroke=\"#4c78a8\" stroke-width=\"2\" opacity=\"0.7\"/><path aria-label=\"x1: 0.714593618963; x2: 5.94611561216; y: 2\" role=\"graphics-symbol\" aria-roledescription=\"point\" transform=\"translate(25.985222507749,20.53884387840068)\" d=\"M2.7386127875258306,0A2.7386127875258306,2.7386127875258306,0,1,1,-2.7386127875258306,0A2.7386127875258306,2.7386127875258306,0,1,1,2.7386127875258306,0\" stroke=\"#f58518\" stroke-width=\"2\" opacity=\"0.7\"/><path aria-label=\"x1: 0.760156847186; x2: 6.12089835083; y: 2\" role=\"graphics-symbol\" aria-roledescription=\"point\" transform=\"translate(27.642067170404992,18.791016491658887)\" d=\"M2.7386127875258306,0A2.7386127875258306,2.7386127875258306,0,1,1,-2.7386127875258306,0A2.7386127875258306,2.7386127875258306,0,1,1,2.7386127875258306,0\" stroke=\"#f58518\" stroke-width=\"2\" opacity=\"0.7\"/><path aria-label=\"x1: 0.596806780319; x2: 6.44992304267; y: 2\" role=\"graphics-symbol\" aria-roledescription=\"point\" transform=\"translate(21.70206473885658,15.50076957331803)\" d=\"M2.7386127875258306,0A2.7386127875258306,2.7386127875258306,0,1,1,-2.7386127875258306,0A2.7386127875258306,2.7386127875258306,0,1,1,2.7386127875258306,0\" stroke=\"#f58518\" stroke-width=\"2\" opacity=\"0.7\"/><path aria-label=\"x1: 0.772116431238; x2: 6.15691062164; y: 2\" role=\"graphics-symbol\" aria-roledescription=\"point\" transform=\"translate(28.076961135937456,18.43089378361622)\" d=\"M2.7386127875258306,0A2.7386127875258306,2.7386127875258306,0,1,1,-2.7386127875258306,0A2.7386127875258306,2.7386127875258306,0,1,1,2.7386127875258306,0\" stroke=\"#f58518\" stroke-width=\"2\" opacity=\"0.7\"/><path aria-label=\"x1: 0.76924458011; x2: 6.11799436569; y: 2\" role=\"graphics-symbol\" aria-roledescription=\"point\" transform=\"translate(27.972530185822826,18.82005634308417)\" d=\"M2.7386127875258306,0A2.7386127875258306,2.7386127875258306,0,1,1,-2.7386127875258306,0A2.7386127875258306,2.7386127875258306,0,1,1,2.7386127875258306,0\" stroke=\"#f58518\" stroke-width=\"2\" opacity=\"0.7\"/><path aria-label=\"x1: 0.754817908664; x2: 6.1620684779; y: 2\" role=\"graphics-symbol\" aria-roledescription=\"point\" transform=\"translate(27.44792395141799,18.379315221030556)\" d=\"M2.7386127875258306,0A2.7386127875258306,2.7386127875258306,0,1,1,-2.7386127875258306,0A2.7386127875258306,2.7386127875258306,0,1,1,2.7386127875258306,0\" stroke=\"#f58518\" stroke-width=\"2\" opacity=\"0.7\"/><path aria-label=\"x1: 5.11216744487; x2: −10.7825860137; y: 1\" role=\"graphics-symbol\" aria-roledescription=\"point\" transform=\"translate(185.8969979954288,187.8258601369343)\" d=\"M2.7386127875258306,0A2.7386127875258306,2.7386127875258306,0,1,1,-2.7386127875258306,0A2.7386127875258306,2.7386127875258306,0,1,1,2.7386127875258306,0\" stroke=\"#4c78a8\" stroke-width=\"2\" opacity=\"0.7\"/><path aria-label=\"x1: 0.737082714354; x2: 6.19340514174; y: 2\" role=\"graphics-symbol\" aria-roledescription=\"point\" transform=\"translate(26.803007794703753,18.06594858258248)\" d=\"M2.7386127875258306,0A2.7386127875258306,2.7386127875258306,0,1,1,-2.7386127875258306,0A2.7386127875258306,2.7386127875258306,0,1,1,2.7386127875258306,0\" stroke=\"#f58518\" stroke-width=\"2\" opacity=\"0.7\"/><path aria-label=\"x1: 0.916878355595; x2: 6.20873090461; y: 2\" role=\"graphics-symbol\" aria-roledescription=\"point\" transform=\"translate(33.34103111254914,17.9126909539405)\" d=\"M2.7386127875258306,0A2.7386127875258306,2.7386127875258306,0,1,1,-2.7386127875258306,0A2.7386127875258306,2.7386127875258306,0,1,1,2.7386127875258306,0\" stroke=\"#f58518\" stroke-width=\"2\" opacity=\"0.7\"/><path aria-label=\"x1: 3.70081175866; x2: −10.2955586804; y: 1\" role=\"graphics-symbol\" aria-roledescription=\"point\" transform=\"translate(134.57497304222943,182.95558680445524)\" d=\"M2.7386127875258306,0A2.7386127875258306,2.7386127875258306,0,1,1,-2.7386127875258306,0A2.7386127875258306,2.7386127875258306,0,1,1,2.7386127875258306,0\" stroke=\"#4c78a8\" stroke-width=\"2\" opacity=\"0.7\"/><path aria-label=\"x1: 0.784228061822; x2: 6.36518064672; y: 2\" role=\"graphics-symbol\" aria-roledescription=\"point\" transform=\"translate(28.517384066258984,16.34819353275465)\" d=\"M2.7386127875258306,0A2.7386127875258306,2.7386127875258306,0,1,1,-2.7386127875258306,0A2.7386127875258306,2.7386127875258306,0,1,1,2.7386127875258306,0\" stroke=\"#f58518\" stroke-width=\"2\" opacity=\"0.7\"/><path aria-label=\"x1: 0.782508705723; x2: 6.22268825782; y: 2\" role=\"graphics-symbol\" aria-roledescription=\"point\" transform=\"translate(28.454862026285678,17.773117421774675)\" d=\"M2.7386127875258306,0A2.7386127875258306,2.7386127875258306,0,1,1,-2.7386127875258306,0A2.7386127875258306,2.7386127875258306,0,1,1,2.7386127875258306,0\" stroke=\"#f58518\" stroke-width=\"2\" opacity=\"0.7\"/><path aria-label=\"x1: 1.14005566722; x2: −10.9316375243; y: 1\" role=\"graphics-symbol\" aria-roledescription=\"point\" transform=\"translate(41.45656971723856,189.31637524343222)\" d=\"M2.7386127875258306,0A2.7386127875258306,2.7386127875258306,0,1,1,-2.7386127875258306,0A2.7386127875258306,2.7386127875258306,0,1,1,2.7386127875258306,0\" stroke=\"#4c78a8\" stroke-width=\"2\" opacity=\"0.7\"/><path aria-label=\"x1: 1.69085378937; x2: −9.60516360264; y: 1\" role=\"graphics-symbol\" aria-roledescription=\"point\" transform=\"translate(61.48559234073476,176.0516360263966)\" d=\"M2.7386127875258306,0A2.7386127875258306,2.7386127875258306,0,1,1,-2.7386127875258306,0A2.7386127875258306,2.7386127875258306,0,1,1,2.7386127875258306,0\" stroke=\"#4c78a8\" stroke-width=\"2\" opacity=\"0.7\"/><path aria-label=\"x1: 3.00230398717; x2: −9.45809090292; y: 1\" role=\"graphics-symbol\" aria-roledescription=\"point\" transform=\"translate(109.17469044272244,174.5809090291806)\" d=\"M2.7386127875258306,0A2.7386127875258306,2.7386127875258306,0,1,1,-2.7386127875258306,0A2.7386127875258306,2.7386127875258306,0,1,1,2.7386127875258306,0\" stroke=\"#4c78a8\" stroke-width=\"2\" opacity=\"0.7\"/><path aria-label=\"x1: 2.63256756472; x2: −9.68485690018; y: 1\" role=\"graphics-symbol\" aria-roledescription=\"point\" transform=\"translate(95.72972962611914,176.84856900180944)\" d=\"M2.7386127875258306,0A2.7386127875258306,2.7386127875258306,0,1,1,-2.7386127875258306,0A2.7386127875258306,2.7386127875258306,0,1,1,2.7386127875258306,0\" stroke=\"#4c78a8\" stroke-width=\"2\" opacity=\"0.7\"/><path aria-label=\"x1: 0.624544263207; x2: 5.96850417167; y: 2\" role=\"graphics-symbol\" aria-roledescription=\"point\" transform=\"translate(22.710700480241012,20.31495828326384)\" d=\"M2.7386127875258306,0A2.7386127875258306,2.7386127875258306,0,1,1,-2.7386127875258306,0A2.7386127875258306,2.7386127875258306,0,1,1,2.7386127875258306,0\" stroke=\"#f58518\" stroke-width=\"2\" opacity=\"0.7\"/><path aria-label=\"x1: 0.766345198449; x2: 6.17716812165; y: 2\" role=\"graphics-symbol\" aria-roledescription=\"point\" transform=\"translate(27.867098125408233,18.228318783469042)\" d=\"M2.7386127875258306,0A2.7386127875258306,2.7386127875258306,0,1,1,-2.7386127875258306,0A2.7386127875258306,2.7386127875258306,0,1,1,2.7386127875258306,0\" stroke=\"#f58518\" stroke-width=\"2\" opacity=\"0.7\"/><path aria-label=\"x1: 0.650360866019; x2: 6.11845974306; y: 2\" role=\"graphics-symbol\" aria-roledescription=\"point\" transform=\"translate(23.64948603707015,18.815402569352813)\" d=\"M2.7386127875258306,0A2.7386127875258306,2.7386127875258306,0,1,1,-2.7386127875258306,0A2.7386127875258306,2.7386127875258306,0,1,1,2.7386127875258306,0\" stroke=\"#f58518\" stroke-width=\"2\" opacity=\"0.7\"/><path aria-label=\"x1: 3.34453119194; x2: −8.79424179046; y: 1\" role=\"graphics-symbol\" aria-roledescription=\"point\" transform=\"translate(121.61931607046219,167.9424179045689)\" d=\"M2.7386127875258306,0A2.7386127875258306,2.7386127875258306,0,1,1,-2.7386127875258306,0A2.7386127875258306,2.7386127875258306,0,1,1,2.7386127875258306,0\" stroke=\"#4c78a8\" stroke-width=\"2\" opacity=\"0.7\"/><path aria-label=\"x1: 0.520569456226; x2: 6.22340207073; y: 2\" role=\"graphics-symbol\" aria-roledescription=\"point\" transform=\"translate(18.92979840822614,17.765979292666543)\" d=\"M2.7386127875258306,0A2.7386127875258306,2.7386127875258306,0,1,1,-2.7386127875258306,0A2.7386127875258306,2.7386127875258306,0,1,1,2.7386127875258306,0\" stroke=\"#f58518\" stroke-width=\"2\" opacity=\"0.7\"/><path aria-label=\"x1: 2.38495320843; x2: −7.53780477637; y: 1\" role=\"graphics-symbol\" aria-roledescription=\"point\" transform=\"translate(86.72557121580294,155.37804776372425)\" d=\"M2.7386127875258306,0A2.7386127875258306,2.7386127875258306,0,1,1,-2.7386127875258306,0A2.7386127875258306,2.7386127875258306,0,1,1,2.7386127875258306,0\" stroke=\"#4c78a8\" stroke-width=\"2\" opacity=\"0.7\"/><path aria-label=\"x1: 0.594726471927; x2: 6.22159644272; y: 2\" role=\"graphics-symbol\" aria-roledescription=\"point\" transform=\"translate(21.626417160973883,17.784035572770907)\" d=\"M2.7386127875258306,0A2.7386127875258306,2.7386127875258306,0,1,1,-2.7386127875258306,0A2.7386127875258306,2.7386127875258306,0,1,1,2.7386127875258306,0\" stroke=\"#f58518\" stroke-width=\"2\" opacity=\"0.7\"/><path aria-label=\"x1: 0.731215345529; x2: 6.10705589904; y: 2\" role=\"graphics-symbol\" aria-roledescription=\"point\" transform=\"translate(26.589648928322823,18.929441009644844)\" d=\"M2.7386127875258306,0A2.7386127875258306,2.7386127875258306,0,1,1,-2.7386127875258306,0A2.7386127875258306,2.7386127875258306,0,1,1,2.7386127875258306,0\" stroke=\"#f58518\" stroke-width=\"2\" opacity=\"0.7\"/><path aria-label=\"x1: 4.33338742099; x2: −10.7445254657; y: 1\" role=\"graphics-symbol\" aria-roledescription=\"point\" transform=\"translate(157.57772439955636,187.445254656854)\" d=\"M2.7386127875258306,0A2.7386127875258306,2.7386127875258306,0,1,1,-2.7386127875258306,0A2.7386127875258306,2.7386127875258306,0,1,1,2.7386127875258306,0\" stroke=\"#4c78a8\" stroke-width=\"2\" opacity=\"0.7\"/><path aria-label=\"x1: 4.01720424656; x2: −11.1052146842; y: 1\" role=\"graphics-symbol\" aria-roledescription=\"point\" transform=\"translate(146.08015442035565,191.05214684205515)\" d=\"M2.7386127875258306,0A2.7386127875258306,2.7386127875258306,0,1,1,-2.7386127875258306,0A2.7386127875258306,2.7386127875258306,0,1,1,2.7386127875258306,0\" stroke=\"#4c78a8\" stroke-width=\"2\" opacity=\"0.7\"/><path aria-label=\"x1: 3.89103698969; x2: −10.2671055423; y: 1\" role=\"graphics-symbol\" aria-roledescription=\"point\" transform=\"translate(141.4922541705854,182.67105542319925)\" d=\"M2.7386127875258306,0A2.7386127875258306,2.7386127875258306,0,1,1,-2.7386127875258306,0A2.7386127875258306,2.7386127875258306,0,1,1,2.7386127875258306,0\" stroke=\"#4c78a8\" stroke-width=\"2\" opacity=\"0.7\"/><path aria-label=\"x1: 0.738436867185; x2: 6.23707322159; y: 2\" role=\"graphics-symbol\" aria-roledescription=\"point\" transform=\"translate(26.852249715803193,17.629267784110823)\" d=\"M2.7386127875258306,0A2.7386127875258306,2.7386127875258306,0,1,1,-2.7386127875258306,0A2.7386127875258306,2.7386127875258306,0,1,1,2.7386127875258306,0\" stroke=\"#f58518\" stroke-width=\"2\" opacity=\"0.7\"/><path aria-label=\"x1: 1.1802844281; x2: 5.25984123519; y: 1\" role=\"graphics-symbol\" aria-roledescription=\"point\" transform=\"translate(42.91943374899564,27.401587648072546)\" d=\"M2.7386127875258306,0A2.7386127875258306,2.7386127875258306,0,1,1,-2.7386127875258306,0A2.7386127875258306,2.7386127875258306,0,1,1,2.7386127875258306,0\" stroke=\"#4c78a8\" stroke-width=\"2\" opacity=\"0.7\"/><path aria-label=\"x1: 0.736018259405; x2: 6.23785269337; y: 2\" role=\"graphics-symbol\" aria-roledescription=\"point\" transform=\"translate(26.764300341989568,17.621473066283567)\" d=\"M2.7386127875258306,0A2.7386127875258306,2.7386127875258306,0,1,1,-2.7386127875258306,0A2.7386127875258306,2.7386127875258306,0,1,1,2.7386127875258306,0\" stroke=\"#f58518\" stroke-width=\"2\" opacity=\"0.7\"/><path aria-label=\"x1: 0.819698218578; x2: 6.03992147788; y: 2\" role=\"graphics-symbol\" aria-roledescription=\"point\" transform=\"translate(29.80720794830053,19.600785221216444)\" d=\"M2.7386127875258306,0A2.7386127875258306,2.7386127875258306,0,1,1,-2.7386127875258306,0A2.7386127875258306,2.7386127875258306,0,1,1,2.7386127875258306,0\" stroke=\"#f58518\" stroke-width=\"2\" opacity=\"0.7\"/><path aria-label=\"x1: 2.84745504226; x2: −10.1342062125; y: 1\" role=\"graphics-symbol\" aria-roledescription=\"point\" transform=\"translate(103.54381971860349,181.3420621245817)\" d=\"M2.7386127875258306,0A2.7386127875258306,2.7386127875258306,0,1,1,-2.7386127875258306,0A2.7386127875258306,2.7386127875258306,0,1,1,2.7386127875258306,0\" stroke=\"#4c78a8\" stroke-width=\"2\" opacity=\"0.7\"/><path aria-label=\"x1: 2.86022899007; x2: −10.0440138685; y: 1\" role=\"graphics-symbol\" aria-roledescription=\"point\" transform=\"translate(104.00832691166791,180.44013868477208)\" d=\"M2.7386127875258306,0A2.7386127875258306,2.7386127875258306,0,1,1,-2.7386127875258306,0A2.7386127875258306,2.7386127875258306,0,1,1,2.7386127875258306,0\" stroke=\"#4c78a8\" stroke-width=\"2\" opacity=\"0.7\"/><path aria-label=\"x1: 0.627649234397; x2: 6.15711020865; y: 2\" role=\"graphics-symbol\" aria-roledescription=\"point\" transform=\"translate(22.823608523521674,18.428897913476085)\" d=\"M2.7386127875258306,0A2.7386127875258306,2.7386127875258306,0,1,1,-2.7386127875258306,0A2.7386127875258306,2.7386127875258306,0,1,1,2.7386127875258306,0\" stroke=\"#f58518\" stroke-width=\"2\" opacity=\"0.7\"/><path aria-label=\"x1: 3.41771877376; x2: −8.71605718028; y: 1\" role=\"graphics-symbol\" aria-roledescription=\"point\" transform=\"translate(124.28068268216128,167.1605718028088)\" d=\"M2.7386127875258306,0A2.7386127875258306,2.7386127875258306,0,1,1,-2.7386127875258306,0A2.7386127875258306,2.7386127875258306,0,1,1,2.7386127875258306,0\" stroke=\"#4c78a8\" stroke-width=\"2\" opacity=\"0.7\"/><path aria-label=\"x1: 2.61631573136; x2: −9.21517080701; y: 1\" role=\"graphics-symbol\" aria-roledescription=\"point\" transform=\"translate(95.13875386765598,172.1517080700636)\" d=\"M2.7386127875258306,0A2.7386127875258306,2.7386127875258306,0,1,1,-2.7386127875258306,0A2.7386127875258306,2.7386127875258306,0,1,1,2.7386127875258306,0\" stroke=\"#4c78a8\" stroke-width=\"2\" opacity=\"0.7\"/><path aria-label=\"x1: 0.63247911074; x2: 6.27849309883; y: 2\" role=\"graphics-symbol\" aria-roledescription=\"point\" transform=\"translate(22.99924039055159,17.21506901168659)\" d=\"M2.7386127875258306,0A2.7386127875258306,2.7386127875258306,0,1,1,-2.7386127875258306,0A2.7386127875258306,2.7386127875258306,0,1,1,2.7386127875258306,0\" stroke=\"#f58518\" stroke-width=\"2\" opacity=\"0.7\"/><path aria-label=\"x1: 0.919522533586; x2: 6.16397234633; y: 2\" role=\"graphics-symbol\" aria-roledescription=\"point\" transform=\"translate(33.43718303950596,18.360276536709573)\" d=\"M2.7386127875258306,0A2.7386127875258306,2.7386127875258306,0,1,1,-2.7386127875258306,0A2.7386127875258306,2.7386127875258306,0,1,1,2.7386127875258306,0\" stroke=\"#f58518\" stroke-width=\"2\" opacity=\"0.7\"/><path aria-label=\"x1: 3.42304568534; x2: −9.72618338158; y: 1\" role=\"graphics-symbol\" aria-roledescription=\"point\" transform=\"translate(124.47438855797395,177.26183381580125)\" d=\"M2.7386127875258306,0A2.7386127875258306,2.7386127875258306,0,1,1,-2.7386127875258306,0A2.7386127875258306,2.7386127875258306,0,1,1,2.7386127875258306,0\" stroke=\"#4c78a8\" stroke-width=\"2\" opacity=\"0.7\"/><path aria-label=\"x1: 0.860757254061; x2: 6.37360441875; y: 2\" role=\"graphics-symbol\" aria-roledescription=\"point\" transform=\"translate(31.3002637840334,16.263955812521758)\" d=\"M2.7386127875258306,0A2.7386127875258306,2.7386127875258306,0,1,1,-2.7386127875258306,0A2.7386127875258306,2.7386127875258306,0,1,1,2.7386127875258306,0\" stroke=\"#f58518\" stroke-width=\"2\" opacity=\"0.7\"/><path aria-label=\"x1: 3.99881104688; x2: −9.27906309819; y: 1\" role=\"graphics-symbol\" aria-roledescription=\"point\" transform=\"translate(145.411310795559,172.79063098189212)\" d=\"M2.7386127875258306,0A2.7386127875258306,2.7386127875258306,0,1,1,-2.7386127875258306,0A2.7386127875258306,2.7386127875258306,0,1,1,2.7386127875258306,0\" stroke=\"#4c78a8\" stroke-width=\"2\" opacity=\"0.7\"/><path aria-label=\"x1: 4.28341228398; x2: −8.80130457857; y: 1\" role=\"graphics-symbol\" aria-roledescription=\"point\" transform=\"translate(155.76044669005285,168.01304578570563)\" d=\"M2.7386127875258306,0A2.7386127875258306,2.7386127875258306,0,1,1,-2.7386127875258306,0A2.7386127875258306,2.7386127875258306,0,1,1,2.7386127875258306,0\" stroke=\"#4c78a8\" stroke-width=\"2\" opacity=\"0.7\"/><path aria-label=\"x1: 2.81804665353; x2: −9.80856212402; y: 1\" role=\"graphics-symbol\" aria-roledescription=\"point\" transform=\"translate(102.47442376484754,178.0856212402033)\" d=\"M2.7386127875258306,0A2.7386127875258306,2.7386127875258306,0,1,1,-2.7386127875258306,0A2.7386127875258306,2.7386127875258306,0,1,1,2.7386127875258306,0\" stroke=\"#4c78a8\" stroke-width=\"2\" opacity=\"0.7\"/><path aria-label=\"x1: 4.57858584784; x2: −11.2654541969; y: 1\" role=\"graphics-symbol\" aria-roledescription=\"point\" transform=\"translate(166.49403083053642,192.65454196887782)\" d=\"M2.7386127875258306,0A2.7386127875258306,2.7386127875258306,0,1,1,-2.7386127875258306,0A2.7386127875258306,2.7386127875258306,0,1,1,2.7386127875258306,0\" stroke=\"#4c78a8\" stroke-width=\"2\" opacity=\"0.7\"/><path aria-label=\"x1: 4.42853347993; x2: −10.9052841803; y: 1\" role=\"graphics-symbol\" aria-roledescription=\"point\" transform=\"translate(161.0375810882146,189.05284180284087)\" d=\"M2.7386127875258306,0A2.7386127875258306,2.7386127875258306,0,1,1,-2.7386127875258306,0A2.7386127875258306,2.7386127875258306,0,1,1,2.7386127875258306,0\" stroke=\"#4c78a8\" stroke-width=\"2\" opacity=\"0.7\"/><path aria-label=\"x1: 3.91501016252; x2: −9.90910713745; y: 1\" role=\"graphics-symbol\" aria-roledescription=\"point\" transform=\"translate(142.36400590992906,179.09107137453765)\" d=\"M2.7386127875258306,0A2.7386127875258306,2.7386127875258306,0,1,1,-2.7386127875258306,0A2.7386127875258306,2.7386127875258306,0,1,1,2.7386127875258306,0\" stroke=\"#4c78a8\" stroke-width=\"2\" opacity=\"0.7\"/><path aria-label=\"x1: 2.00014556662; x2: −10.0188360829; y: 1\" role=\"graphics-symbol\" aria-roledescription=\"point\" transform=\"translate(72.73256605876625,180.18836082927785)\" d=\"M2.7386127875258306,0A2.7386127875258306,2.7386127875258306,0,1,1,-2.7386127875258306,0A2.7386127875258306,2.7386127875258306,0,1,1,2.7386127875258306,0\" stroke=\"#4c78a8\" stroke-width=\"2\" opacity=\"0.7\"/><path aria-label=\"x1: 2.82596371196; x2: −9.0412155435; y: 1\" role=\"graphics-symbol\" aria-roledescription=\"point\" transform=\"translate(102.76231679859058,170.41215543497498)\" d=\"M2.7386127875258306,0A2.7386127875258306,2.7386127875258306,0,1,1,-2.7386127875258306,0A2.7386127875258306,2.7386127875258306,0,1,1,2.7386127875258306,0\" stroke=\"#4c78a8\" stroke-width=\"2\" opacity=\"0.7\"/><path aria-label=\"x1: 4.06968029493; x2: −8.08095952306; y: 1\" role=\"graphics-symbol\" aria-roledescription=\"point\" transform=\"translate(147.98837436118458,160.809595230585)\" d=\"M2.7386127875258306,0A2.7386127875258306,2.7386127875258306,0,1,1,-2.7386127875258306,0A2.7386127875258306,2.7386127875258306,0,1,1,2.7386127875258306,0\" stroke=\"#4c78a8\" stroke-width=\"2\" opacity=\"0.7\"/><path aria-label=\"x1: 3.31577841571; x2: −10.6591280787; y: 1\" role=\"graphics-symbol\" aria-roledescription=\"point\" transform=\"translate(120.57376057142177,186.5912807870008)\" d=\"M2.7386127875258306,0A2.7386127875258306,2.7386127875258306,0,1,1,-2.7386127875258306,0A2.7386127875258306,2.7386127875258306,0,1,1,2.7386127875258306,0\" stroke=\"#4c78a8\" stroke-width=\"2\" opacity=\"0.7\"/><path aria-label=\"x1: 0.726169262004; x2: 6.41659666058; y: 2\" role=\"graphics-symbol\" aria-roledescription=\"point\" transform=\"translate(26.40615498197503,15.834033394244539)\" d=\"M2.7386127875258306,0A2.7386127875258306,2.7386127875258306,0,1,1,-2.7386127875258306,0A2.7386127875258306,2.7386127875258306,0,1,1,2.7386127875258306,0\" stroke=\"#f58518\" stroke-width=\"2\" opacity=\"0.7\"/><path aria-label=\"x1: 0.79031060445; x2: 6.17553105925; y: 2\" role=\"graphics-symbol\" aria-roledescription=\"point\" transform=\"translate(28.738567434542002,18.244689407528504)\" d=\"M2.7386127875258306,0A2.7386127875258306,2.7386127875258306,0,1,1,-2.7386127875258306,0A2.7386127875258306,2.7386127875258306,0,1,1,2.7386127875258306,0\" stroke=\"#f58518\" stroke-width=\"2\" opacity=\"0.7\"/><path aria-label=\"x1: 3.25641789317; x2: −10.4981672981; y: 1\" role=\"graphics-symbol\" aria-roledescription=\"point\" transform=\"translate(118.41519611544706,184.9816729805352)\" d=\"M2.7386127875258306,0A2.7386127875258306,2.7386127875258306,0,1,1,-2.7386127875258306,0A2.7386127875258306,2.7386127875258306,0,1,1,2.7386127875258306,0\" stroke=\"#4c78a8\" stroke-width=\"2\" opacity=\"0.7\"/><path aria-label=\"x1: 4.68692415319; x2: −9.78033252335; y: 1\" role=\"graphics-symbol\" aria-roledescription=\"point\" transform=\"translate(170.4336055705293,177.80332523349674)\" d=\"M2.7386127875258306,0A2.7386127875258306,2.7386127875258306,0,1,1,-2.7386127875258306,0A2.7386127875258306,2.7386127875258306,0,1,1,2.7386127875258306,0\" stroke=\"#4c78a8\" stroke-width=\"2\" opacity=\"0.7\"/><path aria-label=\"x1: 1.59018699409; x2: −9.8459564894; y: 1\" role=\"graphics-symbol\" aria-roledescription=\"point\" transform=\"translate(57.82498160319312,178.45956489403227)\" d=\"M2.7386127875258306,0A2.7386127875258306,2.7386127875258306,0,1,1,-2.7386127875258306,0A2.7386127875258306,2.7386127875258306,0,1,1,2.7386127875258306,0\" stroke=\"#4c78a8\" stroke-width=\"2\" opacity=\"0.7\"/></g><g class=\"mark-group role-legend\" role=\"graphics-symbol\" aria-roledescription=\"legend\" aria-label=\"Symbol legend titled 'y' for stroke color with 2 values: 1, 2\"><g transform=\"translate(218,0)\"><path class=\"background\" aria-hidden=\"true\" d=\"M0,0h22v45h-22Z\" pointer-events=\"none\"/><g><g class=\"mark-group role-legend-entry\"><g transform=\"translate(0,16)\"><path class=\"background\" aria-hidden=\"true\" d=\"M0,0h0v0h0Z\" pointer-events=\"none\"/><g><g class=\"mark-group role-scope\" role=\"graphics-object\" aria-roledescription=\"group mark container\"><g transform=\"translate(0,0)\"><path class=\"background\" aria-hidden=\"true\" d=\"M0,0h22v12.5h-22Z\" pointer-events=\"none\" opacity=\"1\"/><g><g class=\"mark-symbol role-legend-symbol\" pointer-events=\"none\"><path transform=\"translate(6,6)\" d=\"M5,0A5,5,0,1,1,-5,0A5,5,0,1,1,5,0\" stroke=\"#4c78a8\" stroke-width=\"1.5\" opacity=\"0.7\"/></g><g class=\"mark-text role-legend-label\" pointer-events=\"none\"><text text-anchor=\"start\" transform=\"translate(16,9)\" font-family=\"sans-serif\" font-size=\"10px\" fill=\"#000\" opacity=\"1\">1</text></g></g><path class=\"foreground\" aria-hidden=\"true\" d=\"\" pointer-events=\"none\" display=\"none\"/></g><g transform=\"translate(0,16)\"><path class=\"background\" aria-hidden=\"true\" d=\"M0,0h22v12.5h-22Z\" pointer-events=\"none\" opacity=\"1\"/><g><g class=\"mark-symbol role-legend-symbol\" pointer-events=\"none\"><path transform=\"translate(6,6)\" d=\"M5,0A5,5,0,1,1,-5,0A5,5,0,1,1,5,0\" stroke=\"#f58518\" stroke-width=\"1.5\" opacity=\"0.7\"/></g><g class=\"mark-text role-legend-label\" pointer-events=\"none\"><text text-anchor=\"start\" transform=\"translate(16,9)\" font-family=\"sans-serif\" font-size=\"10px\" fill=\"#000\" opacity=\"1\">2</text></g></g><path class=\"foreground\" aria-hidden=\"true\" d=\"\" pointer-events=\"none\" display=\"none\"/></g></g></g><path class=\"foreground\" aria-hidden=\"true\" d=\"\" pointer-events=\"none\" display=\"none\"/></g></g><g class=\"mark-text role-legend-title\" pointer-events=\"none\"><text text-anchor=\"start\" transform=\"translate(0,9)\" font-family=\"sans-serif\" font-size=\"11px\" font-weight=\"bold\" fill=\"#000\" opacity=\"1\">y</text></g></g><path class=\"foreground\" aria-hidden=\"true\" d=\"\" pointer-events=\"none\" display=\"none\"/></g></g></g><path class=\"foreground\" aria-hidden=\"true\" d=\"\" display=\"none\"/></g></g></g></svg>\n"
      ],
      "text/plain": [
       "@vlplot(\n",
       "    mark=\"point\",\n",
       "    encoding={\n",
       "        x={\n",
       "            field=\"x1\"\n",
       "        },\n",
       "        y={\n",
       "            field=\"x2\"\n",
       "        },\n",
       "        color={\n",
       "            field=\"y\",\n",
       "            type=\"nominal\"\n",
       "        }\n",
       "    },\n",
       "    data={\n",
       "        values=...\n",
       "    }\n",
       ")"
      ]
     },
     "execution_count": 39,
     "metadata": {},
     "output_type": "execute_result"
    }
   ],
   "source": [
    "using VegaLite\n",
    "dfBlobs |> @vlplot(:point, x=:x1, y=:x2, color = :\"y:n\") "
   ]
  },
  {
   "cell_type": "code",
   "execution_count": 40,
   "id": "ambient-theorem",
   "metadata": {},
   "outputs": [
    {
     "data": {
      "text/plain": [
       "100-element Vector{Float64}:\n",
       " 2.0\n",
       " 2.0\n",
       " 2.0\n",
       " 2.0\n",
       " 2.0\n",
       " 1.0\n",
       " 2.0\n",
       " 2.0\n",
       " 2.0\n",
       " 2.0\n",
       " 1.0\n",
       " 1.0\n",
       " 2.0\n",
       " ⋮\n",
       " 1.0\n",
       " 1.0\n",
       " 1.0\n",
       " 1.0\n",
       " 1.0\n",
       " 1.0\n",
       " 1.0\n",
       " 2.0\n",
       " 2.0\n",
       " 1.0\n",
       " 1.0\n",
       " 1.0"
      ]
     },
     "execution_count": 40,
     "metadata": {},
     "output_type": "execute_result"
    }
   ],
   "source": [
    "X = MLJ.Tables.matrix(X)\n",
    "Y = float(Y)"
   ]
  },
  {
   "cell_type": "code",
   "execution_count": 46,
   "id": "boolean-projector",
   "metadata": {},
   "outputs": [
    {
     "data": {
      "text/plain": [
       "Main.svm.SVM(0.001f0, 150, 0.0001f0, Main.svm.linear_kernel, [0.17236763807113265 0.10218059959455016 … 0.026307653165495583 0.15691207648398023], [0.8115707720910594], [0.6895805956141002 6.167227800812517; 0.7988236813464915 6.358416979430302; … ; 4.686924153189556 -9.780332523349673; 1.5901869940878108 -9.845956489403227])"
      ]
     },
     "execution_count": 46,
     "metadata": {},
     "output_type": "execute_result"
    }
   ],
   "source": [
    "svm_entity = svm.fit(svm.SVM(), X, Y)"
   ]
  },
  {
   "cell_type": "code",
   "execution_count": 47,
   "id": "social-viking",
   "metadata": {},
   "outputs": [
    {
     "data": {
      "text/plain": [
       "100×1 Matrix{Float64}:\n",
       " -342.2717759259607\n",
       " -345.75888109199934\n",
       " -352.42628155295193\n",
       " -351.50916904518635\n",
       " -320.1708335480109\n",
       "  999.0639119501202\n",
       " -355.05041050027256\n",
       " -337.62397494612304\n",
       " -339.7397114551513\n",
       " -333.69727969267956\n",
       "  893.6490485343052\n",
       "  870.7854313556002\n",
       " -320.6100891801943\n",
       "    ⋮\n",
       " 1102.5087101507863\n",
       " 1066.9875850051515\n",
       "  960.7273617746354\n",
       "  812.0358903149987\n",
       "  815.9459801175218\n",
       "  854.9803632254152\n",
       "  960.5205049515353\n",
       " -355.43587718803917\n",
       " -334.6138010928536\n",
       "  945.272364082721\n",
       " 1015.1952737315007\n",
       "  767.4915204547015"
      ]
     },
     "execution_count": 47,
     "metadata": {},
     "output_type": "execute_result"
    }
   ],
   "source": [
    "res = svm.predict(svm_entity, X)"
   ]
  },
  {
   "cell_type": "code",
   "execution_count": 48,
   "id": "intended-duncan",
   "metadata": {},
   "outputs": [
    {
     "data": {
      "text/plain": [
       "0.99"
      ]
     },
     "execution_count": 48,
     "metadata": {},
     "output_type": "execute_result"
    }
   ],
   "source": [
    "svm.get_accuracy(res, Y)"
   ]
  }
 ],
 "metadata": {
  "kernelspec": {
   "display_name": "Julia 1.8.3",
   "language": "julia",
   "name": "julia-1.8"
  },
  "language_info": {
   "file_extension": ".jl",
   "mimetype": "application/julia",
   "name": "julia",
   "version": "1.8.3"
  }
 },
 "nbformat": 4,
 "nbformat_minor": 5
}
