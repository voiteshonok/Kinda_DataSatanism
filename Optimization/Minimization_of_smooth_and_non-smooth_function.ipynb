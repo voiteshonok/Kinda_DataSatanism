{
 "cells": [
  {
   "cell_type": "code",
   "execution_count": 12,
   "metadata": {},
   "outputs": [
    {
     "name": "stdout",
     "output_type": "stream",
     "text": [
      "      fun: -11.898894665981313\n",
      " hess_inv: array([[1.67936744]])\n",
      "      jac: array([0.])\n",
      "  message: 'Optimization terminated successfully.'\n",
      "     nfev: 21\n",
      "      nit: 6\n",
      "     njev: 7\n",
      "   status: 0\n",
      "  success: True\n",
      "        x: array([25.88019321])\n"
     ]
    }
   ],
   "source": [
    "import math\n",
    "def f(x):\n",
    "    x=float(x)\n",
    "    return math.sin(x/5)*math.exp(x/10) + 5*math.exp(-x/2)\n",
    "from scipy import optimize\n",
    "print optimize.minimize(f, 30, method='BFGS')"
   ]
  },
  {
   "cell_type": "code",
   "execution_count": 26,
   "metadata": {},
   "outputs": [
    {
     "name": "stdout",
     "output_type": "stream",
     "text": [
      "     fun: -11.898894665981302\n",
      "     jac: array([-1.77635684e-07])\n",
      " message: 'Optimization terminated successfully.'\n",
      "    nfev: 98L\n",
      "     nit: 5\n",
      " success: True\n",
      "       x: array([25.88019277])\n"
     ]
    }
   ],
   "source": [
    "print optimize.differential_evolution(f, [(1, 31)])"
   ]
  },
  {
   "cell_type": "code",
   "execution_count": 28,
   "metadata": {},
   "outputs": [
    {
     "data": {
      "image/png": "[encoded data removed]",
      "text/plain": [
       "<Figure size 432x288 with 1 Axes>"
      ]
     },
     "metadata": {
      "needs_background": "light"
     },
     "output_type": "display_data"
    }
   ],
   "source": [
    "from matplotlib import pylab as plt\n",
    "y1,y2=[],[]\n",
    "for i in range(1,31):\n",
    "    y1.append(f(i))\n",
    "    y2.append(int(f(i)))\n",
    "plt.plot(y1)\n",
    "plt.plot(y2)\n",
    "plt.show()"
   ]
  },
  {
   "cell_type": "code",
   "execution_count": 35,
   "metadata": {},
   "outputs": [
    {
     "name": "stdout",
     "output_type": "stream",
     "text": [
      "      fun: -5\n",
      " hess_inv: array([[1]])\n",
      "      jac: array([0.])\n",
      "  message: 'Optimization terminated successfully.'\n",
      "     nfev: 3\n",
      "      nit: 0\n",
      "     njev: 1\n",
      "   status: 0\n",
      "  success: True\n",
      "        x: array([30.])\n"
     ]
    }
   ],
   "source": [
    "def g(x):\n",
    "    return int(f(x))\n",
    "print optimize.minimize(g, 30, method='BFGS')"
   ]
  },
  {
   "cell_type": "code",
   "execution_count": 36,
   "metadata": {},
   "outputs": [
    {
     "name": "stdout",
     "output_type": "stream",
     "text": [
      "     fun: -11.0\n",
      " message: 'Optimization terminated successfully.'\n",
      "    nfev: 77L\n",
      "     nit: 4\n",
      " success: True\n",
      "       x: array([26.14765031])\n"
     ]
    }
   ],
   "source": [
    "print optimize.differential_evolution(g, [(1, 31)])"
   ]
  },
  {
   "cell_type": "code",
   "execution_count": null,
   "metadata": {},
   "outputs": [],
   "source": []
  }
 ],
 "metadata": {
  "kernelspec": {
   "display_name": "Python 2",
   "language": "python",
   "name": "python2"
  },
  "language_info": {
   "codemirror_mode": {
    "name": "ipython",
    "version": 2
   },
   "file_extension": ".py",
   "mimetype": "text/x-python",
   "name": "python",
   "nbconvert_exporter": "python",
   "pygments_lexer": "ipython2",
   "version": "2.7.16"
  }
 },
 "nbformat": 4,
 "nbformat_minor": 2
}
